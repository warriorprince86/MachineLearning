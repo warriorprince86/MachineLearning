{
  "cells": [
    {
      "cell_type": "code",
      "source": [
        "from google.colab import drive\n",
        "drive.mount('/content/drive')"
      ],
      "metadata": {
        "colab": {
          "base_uri": "https://localhost:8080/"
        },
        "id": "b7MZy_sgzGaP",
        "outputId": "7ebe472e-cabd-4846-9775-8a7cb481b6ed"
      },
      "execution_count": 18,
      "outputs": [
        {
          "output_type": "stream",
          "name": "stdout",
          "text": [
            "Drive already mounted at /content/drive; to attempt to forcibly remount, call drive.mount(\"/content/drive\", force_remount=True).\n"
          ]
        }
      ]
    },
    {
      "cell_type": "code",
      "execution_count": 19,
      "metadata": {
        "id": "Jq7UdPFBzE1Y"
      },
      "outputs": [],
      "source": [
        "import pandas as pd"
      ]
    },
    {
      "cell_type": "markdown",
      "metadata": {
        "id": "Fsy9AYjDzE1a"
      },
      "source": [
        "# READ DATA"
      ]
    },
    {
      "cell_type": "code",
      "execution_count": 20,
      "metadata": {
        "id": "rGYfZOO7zE1b"
      },
      "outputs": [],
      "source": [
        "# filename='data/df_raw.csv'\n",
        "filename='/content/drive/MyDrive/ML3253-Project/df_raw.csv'\n",
        "df = pd.read_csv(filename)\n",
        "col=[i.replace(' ','') for i in df.columns]\n",
        "col=[i.replace('=','') for i in col]\n",
        "col=[str.lower(i) for i in col]\n",
        "df.columns=col"
      ]
    },
    {
      "cell_type": "code",
      "source": [
        "df.columns"
      ],
      "metadata": {
        "colab": {
          "base_uri": "https://localhost:8080/"
        },
        "id": "r27KZaz3zdLe",
        "outputId": "b9739b41-fcdb-40ee-ecb7-18e760867b13"
      },
      "execution_count": 21,
      "outputs": [
        {
          "output_type": "execute_result",
          "data": {
            "text/plain": [
              "Index(['date', 'btc-usdopen', 'clfopen', 'tslaopen', 'gspcopen', 'gsptseopen',\n",
              "       'ixicopen', 'btc-usddelta', 'btc-usddirection', 'clfdelta',\n",
              "       'clfdirection', 'tsladelta', 'tsladirection', 'gspcdelta',\n",
              "       'gspcdirection', 'gsptsedelta', 'gsptsedirection', 'ixicdelta',\n",
              "       'ixicdirection', 'tweet_date', 'content', 'retweetnum', 'likenum',\n",
              "       'userhandle', 'content1', 'tweet_day', 'day', 'score', 'negative',\n",
              "       'neutral', 'positive', 'combined', 'sentiment'],\n",
              "      dtype='object')"
            ]
          },
          "metadata": {},
          "execution_count": 21
        }
      ]
    },
    {
      "cell_type": "markdown",
      "metadata": {
        "id": "FP6J4bk9zE1d"
      },
      "source": [
        "# Text Processing"
      ]
    },
    {
      "cell_type": "code",
      "execution_count": 22,
      "metadata": {
        "colab": {
          "base_uri": "https://localhost:8080/"
        },
        "id": "TsXstrLAzE1d",
        "outputId": "4c1b34d1-23dc-431e-83d9-1049b67c1bbb"
      },
      "outputs": [
        {
          "output_type": "stream",
          "name": "stdout",
          "text": [
            "[nltk_data] Downloading package wordnet to /root/nltk_data...\n",
            "[nltk_data]   Package wordnet is already up-to-date!\n",
            "[nltk_data] Downloading package punkt to /root/nltk_data...\n",
            "[nltk_data]   Package punkt is already up-to-date!\n",
            "[nltk_data] Downloading package stopwords to /root/nltk_data...\n",
            "[nltk_data]   Package stopwords is already up-to-date!\n",
            "[nltk_data] Downloading package omw-1.4 to /root/nltk_data...\n",
            "[nltk_data]   Package omw-1.4 is already up-to-date!\n"
          ]
        }
      ],
      "source": [
        "# To clean up texts\n",
        "import re\n",
        "import nltk\n",
        "# nltk.download() Download nltk data for first time use (download all packages)\n",
        "import nltk.data\n",
        "# from nltk.stem.snowball import SnowballStemmer\n",
        "# stemmer = SnowballStemmer('english')\n",
        "from nltk.stem import WordNetLemmatizer\n",
        "lemmatizer = WordNetLemmatizer()\n",
        "\n",
        "# tokenizer = nltk.data.load('nltk:tokenizers/punkt/english.pickle')\n",
        "nltk.download('wordnet')\n",
        "nltk.download('punkt')\n",
        "nltk.download('stopwords')\n",
        "nltk.download('omw-1.4')\n",
        "\n",
        "from nltk.corpus import stopwords\n",
        "stop_words = set(stopwords.words('english'))\n",
        "\n",
        "def sentence_to_wordlist(sentence, remove_stopwords=False):\n",
        "    # 0. remove mentions(@), Hashtag(#)\n",
        "    sentence = re.sub(r'@[^\\s]+', '', sentence,flags=re.MULTILINE )\n",
        "    sentence = re.sub(r'#[^\\s]+', '', sentence,flags=re.MULTILINE )\n",
        "    sentence = re.sub(r'RT[^\\s]+', '', sentence,flags=re.MULTILINE )\n",
        "    # 1. drop http\n",
        "    p1=re.compile(r'http?:\\/\\/\\S+', flags=re.DOTALL)\n",
        "    sentence = re.sub(p1, '', sentence)\n",
        "    # 2. drop https\n",
        "    p1=re.compile(r'https?:\\/\\/\\S+', flags=re.DOTALL)\n",
        "    sentence = re.sub(p1, '', sentence)\n",
        "    # 3. Remove non-letters\n",
        "    sentence = re.sub(r'[^\\w\\s]','', sentence)\n",
        "    # 4. Remove all numbers\n",
        "    sentence = re.sub(r'[0-9]+', '', sentence)\n",
        "    # 5. Convert words to lower case and split them\n",
        "    sentence = sentence.lower().split()\n",
        "    # Remove Stop Words\n",
        "    sentence = [word for word in sentence if not word in stop_words]\n",
        "    # 5. Stemming\n",
        "    # sentence = [stemmer.stem(w) for w in sentence] \n",
        "    # 6. Lemmatizing\n",
        "    sentence = [lemmatizer.lemmatize(word) for word in sentence]\n",
        "\n",
        "    #check if returned sentence is blank\n",
        "    if len(sentence)==0:\n",
        "      return np.nan\n",
        "    else:\n",
        "      # 7. Return a sentence of words\n",
        "      sentence_r = ''\n",
        "      for word in sentence:\n",
        "        sentence_r = sentence_r + ' ' + word\n",
        "      return(sentence_r)\n",
        "  \n",
        "df['content2']= df.content.apply(lambda x: sentence_to_wordlist(x))\n"
      ]
    },
    {
      "cell_type": "code",
      "execution_count": 23,
      "metadata": {
        "id": "zjFdI1oIzE1f"
      },
      "outputs": [],
      "source": [
        "TARGET = \"btc-usddirection\"\n",
        "col = ['content2',TARGET] #,'btc-usddirection','tsladirection','gspcdirection','ixicdirection']\n",
        "df_1 = df[col]\n",
        "df_1 = df_1[df_1[TARGET]!= 1] # remove data points when there is no price change\n",
        "df_1[TARGET].replace(2,1, inplace=True)  # Replace label 2 with 1\n",
        "\n",
        "df_1 = df_1.dropna()\n",
        "X = df_1['content2']\n",
        "y = df_1[col[1]]"
      ]
    },
    {
      "cell_type": "markdown",
      "metadata": {
        "id": "yxAyP8qazE1h"
      },
      "source": [
        "# Keras Model"
      ]
    },
    {
      "cell_type": "code",
      "execution_count": 24,
      "metadata": {
        "id": "syQsyQOtzE1i"
      },
      "outputs": [],
      "source": [
        "import io\n",
        "import os\n",
        "import re\n",
        "import string\n",
        "import tensorflow as tf\n",
        "import tqdm\n",
        "\n",
        "import tensorflow_hub as hub\n",
        "# import tensorflow_text as text\n",
        "# from official.nlp import optimization  # to create AdamW optimizer\n",
        "!pip install transformers -q\n",
        "!pip install tensorflow-text -q\n",
        "!pip install tf-models-official -q\n",
        "import tensorflow_text\n",
        "from transformers import BertTokenizer, TFBertModel\n",
        "\n",
        "from tensorflow.keras import Model\n",
        "from tensorflow.keras.layers import Dot, Embedding, Flatten\n",
        "from tensorflow.keras.layers.experimental.preprocessing import TextVectorization\n",
        "from tensorflow.keras.layers import Input, LSTM, Dense\n",
        "from official.nlp import optimization\n",
        "\n",
        "import numpy as np\n",
        "\n",
        "tf.get_logger().setLevel('ERROR')"
      ]
    },
    {
      "cell_type": "code",
      "source": [
        "# text_test=df_1.content2.dropna().to_list()"
      ],
      "metadata": {
        "id": "upfYGYqr38g9"
      },
      "execution_count": 25,
      "outputs": []
    },
    {
      "cell_type": "code",
      "execution_count": 26,
      "metadata": {
        "id": "kZkm0g22zE1j"
      },
      "outputs": [],
      "source": [
        "# tfhub_handle_preprocess = 'https://tfhub.dev/tensorflow/bert_en_uncased_preprocess/3'\n",
        "# tfhub_handle_encoder = 'https://tfhub.dev/tensorflow/small_bert/bert_en_uncased_L-4_H-512_A-8/1'\n",
        "# bert_preprocess_model = hub.KerasLayer(\n",
        "#     \"https://tfhub.dev/tensorflow/small_bert/bert_en_uncased_L-4_H-512_A-8/1\",\n",
        "#     trainable=False)"
      ]
    },
    {
      "cell_type": "code",
      "source": [
        "# Preprocessing\n",
        "bert_preprocess_model = hub.KerasLayer('https://tfhub.dev/tensorflow/bert_en_uncased_preprocess/3')\n",
        "# Bert encoder\n",
        "# bert_model_url = 'https://tfhub.dev/tensorflow/small_bert/bert_en_uncased_L-4_H-512_A-8/2'\n",
        "bert_model_url = 'https://tfhub.dev/tensorflow/small_bert/bert_en_uncased_L-2_H-128_A-2/2'\n",
        "bert_model = hub.KerasLayer(bert_model_url, trainable=False)"
      ],
      "metadata": {
        "id": "USnAswO87mVe"
      },
      "execution_count": 27,
      "outputs": []
    },
    {
      "cell_type": "code",
      "execution_count": 28,
      "metadata": {
        "id": "JtiPHVWKzE1j"
      },
      "outputs": [],
      "source": [
        "def build_classifier_model():\n",
        "  text_input = tf.keras.layers.Input(shape=(), dtype=tf.string, name='text')\n",
        "  preprocessing_layer = hub.KerasLayer(bert_preprocess_model, name='preprocessing')\n",
        "  encoder_inputs = preprocessing_layer(text_input)\n",
        "  encoder = hub.KerasLayer(bert_model_url, trainable=False, name='BERT_encoder')\n",
        "  outputs = encoder(encoder_inputs)\n",
        "  net = outputs['pooled_output']\n",
        "  net = tf.keras.layers.Dropout(0.1)(net)\n",
        "  net = tf.keras.layers.Dense(1, activation=None, name='classifier')(net)\n",
        "  return tf.keras.Model(text_input, net)\n",
        "\n",
        "# Let's check that the model runs with the output of the preprocessing model\n",
        "classifier_model = build_classifier_model()\n",
        "# bert_raw_result = classifier_model(tf.constant(text_test))\n",
        "\n",
        "\n",
        "# Loss function: \n",
        "# Let's use losses.BinaryCrossentropy because we are doing a binary classification \n",
        "loss = tf.keras.losses.BinaryCrossentropy(from_logits=True)\n",
        "metrics = tf.metrics.BinaryAccuracy()"
      ]
    },
    {
      "cell_type": "code",
      "execution_count": 29,
      "metadata": {
        "colab": {
          "base_uri": "https://localhost:8080/"
        },
        "id": "eERRMvTzzE1k",
        "outputId": "8c457c8d-be74-4354-cbd6-a295fbc88a3d"
      },
      "outputs": [
        {
          "output_type": "stream",
          "name": "stdout",
          "text": [
            "Model: \"model_1\"\n",
            "__________________________________________________________________________________________________\n",
            " Layer (type)                   Output Shape         Param #     Connected to                     \n",
            "==================================================================================================\n",
            " text (InputLayer)              [(None,)]            0           []                               \n",
            "                                                                                                  \n",
            " preprocessing (KerasLayer)     {'input_word_ids':   0           ['text[0][0]']                   \n",
            "                                (None, 128),                                                      \n",
            "                                 'input_mask': (Non                                               \n",
            "                                e, 128),                                                          \n",
            "                                 'input_type_ids':                                                \n",
            "                                (None, 128)}                                                      \n",
            "                                                                                                  \n",
            " BERT_encoder (KerasLayer)      {'pooled_output': (  4385921     ['preprocessing[0][0]',          \n",
            "                                None, 128),                       'preprocessing[0][1]',          \n",
            "                                 'sequence_output':               'preprocessing[0][2]']          \n",
            "                                 (None, 128, 128),                                                \n",
            "                                 'default': (None,                                                \n",
            "                                128),                                                             \n",
            "                                 'encoder_outputs':                                               \n",
            "                                 [(None, 128, 128),                                               \n",
            "                                 (None, 128, 128)]}                                               \n",
            "                                                                                                  \n",
            " dropout_1 (Dropout)            (None, 128)          0           ['BERT_encoder[0][3]']           \n",
            "                                                                                                  \n",
            " classifier (Dense)             (None, 1)            129         ['dropout_1[0][0]']              \n",
            "                                                                                                  \n",
            "==================================================================================================\n",
            "Total params: 4,386,050\n",
            "Trainable params: 129\n",
            "Non-trainable params: 4,385,921\n",
            "__________________________________________________________________________________________________\n"
          ]
        }
      ],
      "source": [
        "classifier_model.summary()"
      ]
    },
    {
      "cell_type": "code",
      "execution_count": 30,
      "metadata": {
        "id": "i_VuGUVGzE1k"
      },
      "outputs": [],
      "source": [
        "# Optimizer\n",
        "epochs = 5\n",
        "steps_per_epoch = 100\n",
        "num_train_steps = steps_per_epoch * epochs\n",
        "num_warmup_steps = int(0.1*num_train_steps)\n",
        "\n",
        "init_lr = 3e-5\n",
        "optimizer = optimization.create_optimizer(init_lr=init_lr,\n",
        "                                          num_train_steps=num_train_steps,\n",
        "                                          num_warmup_steps=num_warmup_steps,\n",
        "                                          optimizer_type='adamw')"
      ]
    },
    {
      "cell_type": "code",
      "execution_count": 31,
      "metadata": {
        "id": "RpIh5EEkzE1l"
      },
      "outputs": [],
      "source": [
        "# Loading the BERT model and training\n",
        "classifier_model.compile(optimizer=optimizer,\n",
        "                         loss=loss,\n",
        "                         metrics=metrics)"
      ]
    },
    {
      "cell_type": "code",
      "execution_count": 32,
      "metadata": {
        "colab": {
          "base_uri": "https://localhost:8080/"
        },
        "id": "mWSkUwrKzE1l",
        "outputId": "2e2b9abc-d172-4f27-b224-1c7597b0370e"
      },
      "outputs": [
        {
          "output_type": "stream",
          "name": "stdout",
          "text": [
            "Training model with https://tfhub.dev/tensorflow/small_bert/bert_en_uncased_L-2_H-128_A-2/2\n",
            "Epoch 1/5\n",
            "92/92 [==============================] - 401s 4s/step - loss: 0.7285 - binary_accuracy: 0.4524 - val_loss: 0.7099 - val_binary_accuracy: 0.5583\n",
            "Epoch 2/5\n",
            "92/92 [==============================] - 367s 4s/step - loss: 0.7227 - binary_accuracy: 0.4587 - val_loss: 0.7119 - val_binary_accuracy: 0.5565\n",
            "Epoch 3/5\n",
            "92/92 [==============================] - 375s 4s/step - loss: 0.7227 - binary_accuracy: 0.4608 - val_loss: 0.7136 - val_binary_accuracy: 0.5544\n",
            "Epoch 4/5\n",
            "92/92 [==============================] - 357s 4s/step - loss: 0.7215 - binary_accuracy: 0.4570 - val_loss: 0.7147 - val_binary_accuracy: 0.5532\n",
            "Epoch 5/5\n",
            "92/92 [==============================] - 353s 4s/step - loss: 0.7213 - binary_accuracy: 0.4585 - val_loss: 0.7154 - val_binary_accuracy: 0.5520\n"
          ]
        }
      ],
      "source": [
        "print(f'Training model with {bert_model_url}')\n",
        "history = classifier_model.fit(x=X,\n",
        "                                y = y,\n",
        "                                batch_size=250,\n",
        "                               validation_split=0.25,\n",
        "                               epochs=epochs,\n",
        "                               shuffle=False)"
      ]
    },
    {
      "cell_type": "code",
      "source": [
        "import matplotlib.pyplot as plt\n",
        "def plot_loss(history):\n",
        "  # Get training and test loss histories\n",
        "  training_loss = history.history['loss']\n",
        "  test_loss = history.history['val_loss']\n",
        "\n",
        "  # Create count of the number of epochs\n",
        "  epoch_count = range(1, len(training_loss) + 1)\n",
        "\n",
        "  # Visualize loss history\n",
        "  plt.plot(epoch_count, training_loss, 'r--')\n",
        "  plt.plot(epoch_count, test_loss, 'b-')\n",
        "  plt.legend(['Training Loss', 'Test Loss'])\n",
        "  plt.xlabel('Epoch')\n",
        "  plt.ylabel('Loss')\n",
        "  plt.show()\n",
        "\n",
        "def plot_accuracy(history):\n",
        "  # Get training and accuracy histories\n",
        "  training_loss = history.history['binary_accuracy']\n",
        "  test_loss = history.history['val_binary_accuracy']\n",
        "\n",
        "  # Create count of the number of epochs\n",
        "  epoch_count = range(1, len(training_loss) + 1)\n",
        "\n",
        "  # Visualize loss history\n",
        "  plt.plot(epoch_count, training_loss, 'r--')\n",
        "  plt.plot(epoch_count, test_loss, 'b-')\n",
        "  plt.legend(['Training Accuracy', 'Test Accuracy'])\n",
        "  plt.xlabel('Epoch')\n",
        "  plt.ylabel('Accuracy')\n",
        "  plt.show()"
      ],
      "metadata": {
        "id": "gVFVvOqg-uv8"
      },
      "execution_count": 36,
      "outputs": []
    },
    {
      "cell_type": "code",
      "source": [
        "plot_loss(history)"
      ],
      "metadata": {
        "colab": {
          "base_uri": "https://localhost:8080/",
          "height": 279
        },
        "id": "EOJ8_d-oGWWz",
        "outputId": "2fb3156e-42e6-4922-b2c6-ab6c0d00ccf1"
      },
      "execution_count": 39,
      "outputs": [
        {
          "output_type": "display_data",
          "data": {
            "text/plain": [
              "<Figure size 432x288 with 1 Axes>"
            ],
            "image/png": "[encoded data removed]"
          },
          "metadata": {
            "needs_background": "light"
          }
        }
      ]
    },
    {
      "cell_type": "code",
      "source": [
        "plot_accuracy(history)"
      ],
      "metadata": {
        "colab": {
          "base_uri": "https://localhost:8080/",
          "height": 279
        },
        "id": "V4xUVF0XGZOI",
        "outputId": "eee747fe-3cbe-4b57-a59c-f750b7935351"
      },
      "execution_count": 38,
      "outputs": [
        {
          "output_type": "display_data",
          "data": {
            "text/plain": [
              "<Figure size 432x288 with 1 Axes>"
            ],
            "image/png": "[encoded data removed]"
          },
          "metadata": {
            "needs_background": "light"
          }
        }
      ]
    },
    {
      "cell_type": "code",
      "source": [
        ""
      ],
      "metadata": {
        "id": "yR-XYzauJp0X"
      },
      "execution_count": null,
      "outputs": []
    }
  ],
  "metadata": {
    "interpreter": {
      "hash": "5fff4187167d39f490158a3105a8bcfc6b45dc563f2a068c566e07d07c54b822"
    },
    "kernelspec": {
      "display_name": "Python 3.9.9 ('env': venv)",
      "language": "python",
      "name": "python3"
    },
    "language_info": {
      "codemirror_mode": {
        "name": "ipython",
        "version": 3
      },
      "file_extension": ".py",
      "mimetype": "text/x-python",
      "name": "python",
      "nbconvert_exporter": "python",
      "pygments_lexer": "ipython3",
      "version": "3.9.9"
    },
    "orig_nbformat": 4,
    "colab": {
      "name": "nn_model.ipynb",
      "provenance": [],
      "collapsed_sections": []
    },
    "accelerator": "GPU"
  },
  "nbformat": 4,
  "nbformat_minor": 0
}