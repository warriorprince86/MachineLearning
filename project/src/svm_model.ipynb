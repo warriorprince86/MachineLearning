{
 "cells": [
  {
   "cell_type": "code",
   "execution_count": 15,
   "metadata": {},
   "outputs": [],
   "source": [
    "import pandas as pd\n",
    "import numpy as np\n",
    "pd.set_option('display.max_columns', 1000, 'display.max_colwidth', 1000, 'display.max_rows',1000)"
   ]
  },
  {
   "cell_type": "markdown",
   "metadata": {},
   "source": [
    "# Read Data"
   ]
  },
  {
   "cell_type": "code",
   "execution_count": 16,
   "metadata": {},
   "outputs": [],
   "source": [
    "def read_data_header(filename,read_lines=3):\n",
    "    # Stocks Data is in UTC\n",
    "\n",
    "    #generate header from the file\n",
    "    with open(filename) as myfile:\n",
    "        head1 =[]\n",
    "        for i in range (0,read_lines):\n",
    "            head1.append([str.split(next(myfile).strip(),sep=',') for x in range(0,1)])\n",
    "\n",
    "    line1 = head1[0][0]\n",
    "    line2 = head1[1][0]\n",
    "\n",
    "    header = [i.replace('^','')+' '+j for i, j in zip(line1, line2)]\n",
    "    header = [item.replace('var','variance') for item in header]\n",
    "    header = [item.replace(' ','') for item in header]\n",
    "    header = [item.replace('=','') for item in header]\n",
    "\n",
    "    return header"
   ]
  },
  {
   "cell_type": "code",
   "execution_count": 17,
   "metadata": {},
   "outputs": [
    {
     "name": "stdout",
     "output_type": "stream",
     "text": [
      "<class 'pandas.core.frame.DataFrame'>\n",
      "RangeIndex: 1133 entries, 0 to 1132\n",
      "Data columns (total 20 columns):\n",
      " #   Column                Non-Null Count  Dtype  \n",
      "---  ------                --------------  -----  \n",
      " 0   Date                  1133 non-null   object \n",
      " 1   combinedcount         1133 non-null   int64  \n",
      " 2   combinedmean          1133 non-null   float64\n",
      " 3   combinedvariance      1128 non-null   float64\n",
      " 4   negativecount         1133 non-null   int64  \n",
      " 5   negativemean          1133 non-null   float64\n",
      " 6   negativevariance      1128 non-null   float64\n",
      " 7   neutralcount          1133 non-null   int64  \n",
      " 8   neutralmean           1133 non-null   float64\n",
      " 9   neutralvariance       1128 non-null   float64\n",
      " 10  positivecount         1133 non-null   int64  \n",
      " 11  positivemean          1133 non-null   float64\n",
      " 12  positivevariance      1128 non-null   float64\n",
      " 13  CLFDirectionmean      1100 non-null   float64\n",
      " 14  GSPCDirectionmean     1051 non-null   float64\n",
      " 15  GSPTSEDirectionmean   1051 non-null   float64\n",
      " 16  IXICDirectionmean     1051 non-null   float64\n",
      " 17  BTC-USDDirectionmean  1133 non-null   float64\n",
      " 18  TSLADirectionmean     1051 non-null   float64\n",
      " 19  sentimentmean         1133 non-null   float64\n",
      "dtypes: float64(15), int64(4), object(1)\n",
      "memory usage: 177.2+ KB\n"
     ]
    }
   ],
   "source": [
    "filename='data/news_tweets_sentiments.csv'\n",
    "header = read_data_header(filename,2)\n",
    "df= pd.read_csv(filename, sep=',',skiprows=2,names=header)\n",
    "df.info()"
   ]
  },
  {
   "cell_type": "code",
   "execution_count": 18,
   "metadata": {},
   "outputs": [],
   "source": [
    "def applysentiment(x):\n",
    "    if x<0:\n",
    "        return 0\n",
    "    elif x>0:\n",
    "        return 2\n",
    "    else:\n",
    "        return 1\n",
    "\n",
    "df['sentimentmean1'] = df.combinedmean.apply(lambda x: applysentiment(x))"
   ]
  },
  {
   "cell_type": "code",
   "execution_count": 19,
   "metadata": {},
   "outputs": [
    {
     "data": {
      "text/html": [
       "<div>\n",
       "<style scoped>\n",
       "    .dataframe tbody tr th:only-of-type {\n",
       "        vertical-align: middle;\n",
       "    }\n",
       "\n",
       "    .dataframe tbody tr th {\n",
       "        vertical-align: top;\n",
       "    }\n",
       "\n",
       "    .dataframe thead th {\n",
       "        text-align: right;\n",
       "    }\n",
       "</style>\n",
       "<table border=\"1\" class=\"dataframe\">\n",
       "  <thead>\n",
       "    <tr style=\"text-align: right;\">\n",
       "      <th></th>\n",
       "      <th>sentimentmean</th>\n",
       "      <th>sentimentmean1</th>\n",
       "    </tr>\n",
       "  </thead>\n",
       "  <tbody>\n",
       "    <tr>\n",
       "      <th>0</th>\n",
       "      <td>1.150000</td>\n",
       "      <td>2</td>\n",
       "    </tr>\n",
       "    <tr>\n",
       "      <th>1</th>\n",
       "      <td>1.272727</td>\n",
       "      <td>2</td>\n",
       "    </tr>\n",
       "    <tr>\n",
       "      <th>2</th>\n",
       "      <td>1.200000</td>\n",
       "      <td>0</td>\n",
       "    </tr>\n",
       "    <tr>\n",
       "      <th>3</th>\n",
       "      <td>1.714286</td>\n",
       "      <td>2</td>\n",
       "    </tr>\n",
       "    <tr>\n",
       "      <th>4</th>\n",
       "      <td>1.000000</td>\n",
       "      <td>0</td>\n",
       "    </tr>\n",
       "    <tr>\n",
       "      <th>...</th>\n",
       "      <td>...</td>\n",
       "      <td>...</td>\n",
       "    </tr>\n",
       "    <tr>\n",
       "      <th>1128</th>\n",
       "      <td>0.833333</td>\n",
       "      <td>0</td>\n",
       "    </tr>\n",
       "    <tr>\n",
       "      <th>1129</th>\n",
       "      <td>0.750000</td>\n",
       "      <td>0</td>\n",
       "    </tr>\n",
       "    <tr>\n",
       "      <th>1130</th>\n",
       "      <td>0.777778</td>\n",
       "      <td>0</td>\n",
       "    </tr>\n",
       "    <tr>\n",
       "      <th>1131</th>\n",
       "      <td>1.000000</td>\n",
       "      <td>2</td>\n",
       "    </tr>\n",
       "    <tr>\n",
       "      <th>1132</th>\n",
       "      <td>2.000000</td>\n",
       "      <td>2</td>\n",
       "    </tr>\n",
       "  </tbody>\n",
       "</table>\n",
       "<p>1133 rows × 2 columns</p>\n",
       "</div>"
      ],
      "text/plain": [
       "      sentimentmean  sentimentmean1\n",
       "0          1.150000               2\n",
       "1          1.272727               2\n",
       "2          1.200000               0\n",
       "3          1.714286               2\n",
       "4          1.000000               0\n",
       "...             ...             ...\n",
       "1128       0.833333               0\n",
       "1129       0.750000               0\n",
       "1130       0.777778               0\n",
       "1131       1.000000               2\n",
       "1132       2.000000               2\n",
       "\n",
       "[1133 rows x 2 columns]"
      ]
     },
     "execution_count": 19,
     "metadata": {},
     "output_type": "execute_result"
    }
   ],
   "source": [
    "df[['sentimentmean','sentimentmean1']]"
   ]
  },
  {
   "cell_type": "code",
   "execution_count": 20,
   "metadata": {},
   "outputs": [],
   "source": [
    "TARGET = [\"BTC-USDDirectionmean\"]\n",
    "#columns_predictors = ['combined mean']\n",
    "#columns_predictors = ['negativemean','neutralmean','positivemean']\n",
    "columns_predictors = ['sentimentmean1']\n",
    "df = df[columns_predictors+TARGET].dropna(how='any')\n",
    "X = df[columns_predictors]\n",
    "y = df[TARGET]"
   ]
  },
  {
   "cell_type": "code",
   "execution_count": 21,
   "metadata": {},
   "outputs": [
    {
     "data": {
      "text/plain": [
       "<AxesSubplot:ylabel='Count'>"
      ]
     },
     "execution_count": 21,
     "metadata": {},
     "output_type": "execute_result"
    },
    {
     "data": {
      "image/png": "[encoded data removed]",
      "text/plain": [
       "<Figure size 432x288 with 1 Axes>"
      ]
     },
     "metadata": {
      "needs_background": "light"
     },
     "output_type": "display_data"
    }
   ],
   "source": [
    "# check for balance data\n",
    "# labels are balanced i.e equal split of inc and dec.\n",
    "import seaborn as sns\n",
    "sns.histplot(data=y, bins=3)"
   ]
  },
  {
   "cell_type": "code",
   "execution_count": 22,
   "metadata": {},
   "outputs": [
    {
     "data": {
      "text/plain": [
       "array([[<AxesSubplot:title={'center':'sentimentmean1'}>]], dtype=object)"
      ]
     },
     "execution_count": 22,
     "metadata": {},
     "output_type": "execute_result"
    },
    {
     "data": {
      "image/png": "[encoded data removed]",
      "text/plain": [
       "<Figure size 720x216 with 1 Axes>"
      ]
     },
     "metadata": {
      "needs_background": "light"
     },
     "output_type": "display_data"
    }
   ],
   "source": [
    "import matplotlib.pyplot as plt\n",
    "X.hist(figsize=(10,3))"
   ]
  },
  {
   "cell_type": "code",
   "execution_count": 23,
   "metadata": {},
   "outputs": [
    {
     "name": "stdout",
     "output_type": "stream",
     "text": [
      "X_train.shape: (849, 1)\n",
      "X_test.shape: (284, 1)\n",
      "y_train.shape: (849, 1)\n",
      "y_test.shape: (284, 1)\n"
     ]
    }
   ],
   "source": [
    "from sklearn.model_selection import train_test_split\n",
    "X_train, X_test, y_train, y_test = train_test_split(X, y, test_size=0.25, random_state=10086, shuffle=False)\n",
    "print(f\"X_train.shape: {X_train.shape}\")\n",
    "print(f\"X_test.shape: {X_test.shape}\")\n",
    "print(f\"y_train.shape: {y_train.shape}\")\n",
    "print(f\"y_test.shape: {y_test.shape}\")"
   ]
  },
  {
   "cell_type": "code",
   "execution_count": 24,
   "metadata": {},
   "outputs": [],
   "source": [
    "from sklearn.metrics import accuracy_score,classification_report,confusion_matrix\n",
    "\n",
    "def classification_metric(y_test,y_pred):\n",
    "    # Calculate accuracy\n",
    "    accuracy = accuracy_score(y_test, y_pred) \n",
    "    print(\"%.2f\" % accuracy)\n",
    "    # Confusion Matrix\n",
    "    c_matrix= confusion_matrix(y_test,y_pred)\n",
    "    print(c_matrix)\n",
    "    return None\n",
    "\n",
    "def model_evaluation(model,X_train,y_train,X_test,y_test):\n",
    "    model = model.fit(X_train,y_train)\n",
    "    # training accuracy\n",
    "    classification_metric(y_train,model.predict(X_train))\n",
    "\n",
    "    #testing accuracy\n",
    "    classification_metric(y_test,model.predict(X_test))\n",
    "    return None"
   ]
  },
  {
   "cell_type": "markdown",
   "metadata": {},
   "source": [
    "# SVM Model (Linear Model)"
   ]
  },
  {
   "cell_type": "code",
   "execution_count": 25,
   "metadata": {},
   "outputs": [
    {
     "name": "stdout",
     "output_type": "stream",
     "text": [
      "0.52\n",
      "[[251 178]\n",
      " [229 191]]\n",
      "0.50\n",
      "[[68 65]\n",
      " [77 74]]\n"
     ]
    },
    {
     "name": "stderr",
     "output_type": "stream",
     "text": [
      "/Users/sarthakkaushik/Projects/uot/MachineLearning/env/lib/python3.9/site-packages/sklearn/utils/validation.py:993: DataConversionWarning: A column-vector y was passed when a 1d array was expected. Please change the shape of y to (n_samples, ), for example using ravel().\n",
      "  y = column_or_1d(y, warn=True)\n"
     ]
    }
   ],
   "source": [
    "## Linear Features\n",
    "from sklearn.svm import SVC\n",
    "from sklearn.pipeline import Pipeline\n",
    "from sklearn.preprocessing import PolynomialFeatures\n",
    "from sklearn.svm import LinearSVC\n",
    "\n",
    "svm_clf = SVC(kernel=\"linear\", C=100)\n",
    "model_evaluation(svm_clf, X_train,y_train, X_test, y_test)"
   ]
  },
  {
   "cell_type": "code",
   "execution_count": 26,
   "metadata": {},
   "outputs": [
    {
     "name": "stdout",
     "output_type": "stream",
     "text": [
      "0.52\n",
      "[[251 178]\n",
      " [229 191]]\n",
      "0.50\n",
      "[[68 65]\n",
      " [77 74]]\n"
     ]
    },
    {
     "name": "stderr",
     "output_type": "stream",
     "text": [
      "/Users/sarthakkaushik/Projects/uot/MachineLearning/env/lib/python3.9/site-packages/sklearn/utils/validation.py:993: DataConversionWarning: A column-vector y was passed when a 1d array was expected. Please change the shape of y to (n_samples, ), for example using ravel().\n",
      "  y = column_or_1d(y, warn=True)\n"
     ]
    }
   ],
   "source": [
    "## Polynomial Features Degree 2\n",
    "polynomial_svm_clf = Pipeline([\n",
    "        (\"poly_features\", PolynomialFeatures(degree=2)),\n",
    "        (\"svm_clf\", LinearSVC(C=10, loss=\"hinge\", random_state=42))\n",
    "    ])\n",
    "model_evaluation(polynomial_svm_clf, X_train,y_train, X_test, y_test)"
   ]
  },
  {
   "cell_type": "code",
   "execution_count": 29,
   "metadata": {},
   "outputs": [
    {
     "name": "stdout",
     "output_type": "stream",
     "text": [
      "0.52\n",
      "[[251 178]\n",
      " [229 191]]\n",
      "0.50\n",
      "[[68 65]\n",
      " [77 74]]\n"
     ]
    },
    {
     "name": "stderr",
     "output_type": "stream",
     "text": [
      "/Users/sarthakkaushik/Projects/uot/MachineLearning/env/lib/python3.9/site-packages/sklearn/utils/validation.py:993: DataConversionWarning: A column-vector y was passed when a 1d array was expected. Please change the shape of y to (n_samples, ), for example using ravel().\n",
      "  y = column_or_1d(y, warn=True)\n"
     ]
    }
   ],
   "source": [
    "polynomial_svm_clf = Pipeline([\n",
    "        (\"poly_features\", PolynomialFeatures(degree=3)),\n",
    "        (\"svm_clf\", LinearSVC(C=10, loss=\"hinge\", random_state=42))\n",
    "    ])\n",
    "model_evaluation(polynomial_svm_clf, X_train,y_train, X_test, y_test)"
   ]
  },
  {
   "cell_type": "markdown",
   "metadata": {},
   "source": [
    "# SVM Model (Non_linear Model)"
   ]
  },
  {
   "cell_type": "code",
   "execution_count": 30,
   "metadata": {},
   "outputs": [
    {
     "name": "stdout",
     "output_type": "stream",
     "text": [
      "0.52\n",
      "[[251 178]\n",
      " [229 191]]\n",
      "0.50\n",
      "[[68 65]\n",
      " [77 74]]\n"
     ]
    },
    {
     "name": "stderr",
     "output_type": "stream",
     "text": [
      "/Users/sarthakkaushik/Projects/uot/MachineLearning/env/lib/python3.9/site-packages/sklearn/utils/validation.py:993: DataConversionWarning: A column-vector y was passed when a 1d array was expected. Please change the shape of y to (n_samples, ), for example using ravel().\n",
      "  y = column_or_1d(y, warn=True)\n"
     ]
    }
   ],
   "source": [
    "poly_kernel_svm_clf = Pipeline([\n",
    "        (\"svm_clf\", SVC(kernel=\"poly\", degree=3, coef0=0.1, C=10))\n",
    "    ])\n",
    "model_evaluation(poly_kernel_svm_clf, X_train,y_train, X_test, y_test)\n"
   ]
  }
 ],
 "metadata": {
  "interpreter": {
   "hash": "5fff4187167d39f490158a3105a8bcfc6b45dc563f2a068c566e07d07c54b822"
  },
  "kernelspec": {
   "display_name": "Python 3.9.9 ('env': venv)",
   "language": "python",
   "name": "python3"
  },
  "language_info": {
   "codemirror_mode": {
    "name": "ipython",
    "version": 3
   },
   "file_extension": ".py",
   "mimetype": "text/x-python",
   "name": "python",
   "nbconvert_exporter": "python",
   "pygments_lexer": "ipython3",
   "version": "3.9.9"
  },
  "orig_nbformat": 4
 },
 "nbformat": 4,
 "nbformat_minor": 2
}
