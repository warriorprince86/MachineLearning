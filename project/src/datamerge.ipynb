{
 "cells": [
  {
   "cell_type": "code",
   "execution_count": 1,
   "metadata": {},
   "outputs": [],
   "source": [
    "import pandas as pd\n",
    "import numpy as np\n",
    "from datetime import datetime, timedelta\n",
    "\n",
    "pd.set_option('display.max_columns', 1000, 'display.max_colwidth', 1000, 'display.max_rows',1000)\n",
    "import warnings\n",
    "warnings.filterwarnings('ignore')"
   ]
  },
  {
   "cell_type": "markdown",
   "metadata": {},
   "source": [
    "# Stocks"
   ]
  },
  {
   "cell_type": "code",
   "execution_count": 2,
   "metadata": {},
   "outputs": [],
   "source": [
    "def convert_date(x,h, m):\n",
    "    # convert items to datetime format\n",
    "    x = str.split(x,sep='-')\n",
    "    x = [int(item) for item in x]\n",
    "    date = datetime(year=x[0],month=x[1],day=x[2],hour=h, minute=m, second=0)\n",
    "    return date\n",
    "\n",
    "def stockDirection(x, pct=10):\n",
    "    # determine stock direction (increase, decrease or no change) based on percent change in stock price)\n",
    "    # increase is 2, decrease is 0, remaining constant (+-pct) is 1\n",
    "    if x<-pct:\n",
    "        return 0\n",
    "    elif x>pct:\n",
    "        return 2\n",
    "    else:\n",
    "        return 1\n",
    "\n",
    "def read_stocks_data_header(filename,read_lines=3):\n",
    "    # Stocks Data is in UTC\n",
    "    # generate header from the file\n",
    "    with open(filename) as myfile:\n",
    "        head1 =[]\n",
    "        for i in range (0,read_lines):\n",
    "            head1.append([str.split(next(myfile).strip(),sep=',') for x in range(0,1)])\n",
    "\n",
    "    line1 = head1[0][0]\n",
    "    line2 = head1[1][0]\n",
    "    line3 = head1[2][0]\n",
    "\n",
    "    header = [j.replace('^','')+' '+i+k for i, j,k in zip(line1, line2, line3)]\n",
    "    header = [item.replace(' ','') for item in header]\n",
    "    return header\n",
    "\n",
    "def stock_direction(df,pp):\n",
    "    # function to take stocks dataframe to generate stock change and then stock direction for all stocks\n",
    "    cols = list(df.columns)\n",
    "    print(cols)\n",
    "    cols = [i for i in cols if 'date' not in str.lower(i)]\n",
    "    for col in cols:\n",
    "        if str.lower(pp)=='open':\n",
    "            col_r = str(col).replace('Open','Delta')\n",
    "        elif str.lower(pp)=='close':\n",
    "            col_r = str(col).replace('Close','Delta')\n",
    "        df[col_r] = df[col].dropna().diff()/df[col].dropna().shift(-1)*100\n",
    "\n",
    "        if str.lower(pp)=='open':\n",
    "            col_rr = str(col).replace('Open','Direction',)\n",
    "        elif str.lower(pp)=='close':\n",
    "            col_rr = str(col).replace('Close','Direction')\n",
    "        df[col_rr] = df[col_r].dropna().apply(lambda row: stockDirection(row, pct=0)) # change the pct value to generate the three classes\n",
    "    return df\n",
    "\n",
    "def read_stocks_data(filename,header,skiprows):\n",
    "    # read stocks data from file with given header\n",
    "    # data from yahoo finance\n",
    "    df = pd.read_csv(filename,names=header,skiprows=skiprows)\n",
    "    df['Date']=pd.to_datetime(df.Datetime)\n",
    "    df['Date']=df.Date.apply(lambda row:row.replace(tzinfo=None))\n",
    "    \n",
    "    colofinterest= ['Date']+[col for col in df.columns if 'Open' in col] + [col for col in df.columns if 'Close' in col]\n",
    "    df=df[colofinterest]\n",
    "    df.drop_duplicates(subset='Date', inplace=True)\n",
    "\n",
    "    open_col = ([col for col in df.columns if 'Open' in col])\n",
    "    open_col.append('Date')\n",
    "    df_open = df[open_col]\n",
    "\n",
    "    close_col = [col for col in df.columns if 'Close' in col]\n",
    "    close_col.append('Date')\n",
    "    df_close = df[close_col]\n",
    "\n",
    "    df_open_1 = stock_direction(df_open,pp='open')\n",
    "    df_close_1 = stock_direction(df_close,pp='close')\n",
    "    return df_open_1, df_close_1"
   ]
  },
  {
   "cell_type": "code",
   "execution_count": 3,
   "metadata": {},
   "outputs": [
    {
     "name": "stdout",
     "output_type": "stream",
     "text": [
      "['BTC-USDOpen', 'CL=FOpen', 'TSLAOpen', 'GSPCOpen', 'GSPTSEOpen', 'IXICOpen', 'Date']\n",
      "['BTC-USDAdjClose', 'CL=FAdjClose', 'TSLAAdjClose', 'GSPCAdjClose', 'GSPTSEAdjClose', 'IXICAdjClose', 'BTC-USDClose', 'CL=FClose', 'TSLAClose', 'GSPCClose', 'GSPTSEClose', 'IXICClose', 'Date']\n"
     ]
    },
    {
     "data": {
      "text/html": [
       "<div>\n",
       "<style scoped>\n",
       "    .dataframe tbody tr th:only-of-type {\n",
       "        vertical-align: middle;\n",
       "    }\n",
       "\n",
       "    .dataframe tbody tr th {\n",
       "        vertical-align: top;\n",
       "    }\n",
       "\n",
       "    .dataframe thead th {\n",
       "        text-align: right;\n",
       "    }\n",
       "</style>\n",
       "<table border=\"1\" class=\"dataframe\">\n",
       "  <thead>\n",
       "    <tr style=\"text-align: right;\">\n",
       "      <th></th>\n",
       "      <th>BTC-USDOpen</th>\n",
       "      <th>CL=FOpen</th>\n",
       "      <th>TSLAOpen</th>\n",
       "      <th>GSPCOpen</th>\n",
       "      <th>GSPTSEOpen</th>\n",
       "      <th>IXICOpen</th>\n",
       "      <th>Date</th>\n",
       "      <th>BTC-USDDelta</th>\n",
       "      <th>BTC-USDDirection</th>\n",
       "      <th>CL=FDelta</th>\n",
       "      <th>CL=FDirection</th>\n",
       "      <th>TSLADelta</th>\n",
       "      <th>TSLADirection</th>\n",
       "      <th>GSPCDelta</th>\n",
       "      <th>GSPCDirection</th>\n",
       "      <th>GSPTSEDelta</th>\n",
       "      <th>GSPTSEDirection</th>\n",
       "      <th>IXICDelta</th>\n",
       "      <th>IXICDirection</th>\n",
       "    </tr>\n",
       "  </thead>\n",
       "  <tbody>\n",
       "    <tr>\n",
       "      <th>0</th>\n",
       "      <td>36714.597656</td>\n",
       "      <td>85.330002</td>\n",
       "      <td>NaN</td>\n",
       "      <td>NaN</td>\n",
       "      <td>NaN</td>\n",
       "      <td>NaN</td>\n",
       "      <td>2022-01-25 20:30:00</td>\n",
       "      <td>NaN</td>\n",
       "      <td>NaN</td>\n",
       "      <td>NaN</td>\n",
       "      <td>NaN</td>\n",
       "      <td>NaN</td>\n",
       "      <td>NaN</td>\n",
       "      <td>NaN</td>\n",
       "      <td>NaN</td>\n",
       "      <td>NaN</td>\n",
       "      <td>NaN</td>\n",
       "      <td>NaN</td>\n",
       "      <td>NaN</td>\n",
       "    </tr>\n",
       "    <tr>\n",
       "      <th>1</th>\n",
       "      <td>36737.652344</td>\n",
       "      <td>85.269997</td>\n",
       "      <td>NaN</td>\n",
       "      <td>NaN</td>\n",
       "      <td>NaN</td>\n",
       "      <td>NaN</td>\n",
       "      <td>2022-01-25 20:45:00</td>\n",
       "      <td>0.062510</td>\n",
       "      <td>2.0</td>\n",
       "      <td>-0.070387</td>\n",
       "      <td>0.0</td>\n",
       "      <td>NaN</td>\n",
       "      <td>NaN</td>\n",
       "      <td>NaN</td>\n",
       "      <td>NaN</td>\n",
       "      <td>NaN</td>\n",
       "      <td>NaN</td>\n",
       "      <td>NaN</td>\n",
       "      <td>NaN</td>\n",
       "    </tr>\n",
       "    <tr>\n",
       "      <th>2</th>\n",
       "      <td>36881.648438</td>\n",
       "      <td>85.250000</td>\n",
       "      <td>NaN</td>\n",
       "      <td>NaN</td>\n",
       "      <td>NaN</td>\n",
       "      <td>NaN</td>\n",
       "      <td>2022-01-25 21:00:00</td>\n",
       "      <td>0.389300</td>\n",
       "      <td>2.0</td>\n",
       "      <td>-0.023424</td>\n",
       "      <td>0.0</td>\n",
       "      <td>NaN</td>\n",
       "      <td>NaN</td>\n",
       "      <td>NaN</td>\n",
       "      <td>NaN</td>\n",
       "      <td>NaN</td>\n",
       "      <td>NaN</td>\n",
       "      <td>NaN</td>\n",
       "      <td>NaN</td>\n",
       "    </tr>\n",
       "    <tr>\n",
       "      <th>3</th>\n",
       "      <td>36988.496094</td>\n",
       "      <td>85.370003</td>\n",
       "      <td>NaN</td>\n",
       "      <td>NaN</td>\n",
       "      <td>NaN</td>\n",
       "      <td>NaN</td>\n",
       "      <td>2022-01-25 21:15:00</td>\n",
       "      <td>0.289300</td>\n",
       "      <td>2.0</td>\n",
       "      <td>0.140584</td>\n",
       "      <td>2.0</td>\n",
       "      <td>NaN</td>\n",
       "      <td>NaN</td>\n",
       "      <td>NaN</td>\n",
       "      <td>NaN</td>\n",
       "      <td>NaN</td>\n",
       "      <td>NaN</td>\n",
       "      <td>NaN</td>\n",
       "      <td>NaN</td>\n",
       "    </tr>\n",
       "    <tr>\n",
       "      <th>4</th>\n",
       "      <td>36933.144531</td>\n",
       "      <td>85.360001</td>\n",
       "      <td>NaN</td>\n",
       "      <td>NaN</td>\n",
       "      <td>NaN</td>\n",
       "      <td>NaN</td>\n",
       "      <td>2022-01-25 21:30:00</td>\n",
       "      <td>-0.150004</td>\n",
       "      <td>0.0</td>\n",
       "      <td>-0.011730</td>\n",
       "      <td>0.0</td>\n",
       "      <td>NaN</td>\n",
       "      <td>NaN</td>\n",
       "      <td>NaN</td>\n",
       "      <td>NaN</td>\n",
       "      <td>NaN</td>\n",
       "      <td>NaN</td>\n",
       "      <td>NaN</td>\n",
       "      <td>NaN</td>\n",
       "    </tr>\n",
       "    <tr>\n",
       "      <th>5</th>\n",
       "      <td>36900.101562</td>\n",
       "      <td>85.269997</td>\n",
       "      <td>NaN</td>\n",
       "      <td>NaN</td>\n",
       "      <td>NaN</td>\n",
       "      <td>NaN</td>\n",
       "      <td>2022-01-25 21:45:00</td>\n",
       "      <td>-0.089631</td>\n",
       "      <td>0.0</td>\n",
       "      <td>-0.105763</td>\n",
       "      <td>0.0</td>\n",
       "      <td>NaN</td>\n",
       "      <td>NaN</td>\n",
       "      <td>NaN</td>\n",
       "      <td>NaN</td>\n",
       "      <td>NaN</td>\n",
       "      <td>NaN</td>\n",
       "      <td>NaN</td>\n",
       "      <td>NaN</td>\n",
       "    </tr>\n",
       "    <tr>\n",
       "      <th>6</th>\n",
       "      <td>36865.730469</td>\n",
       "      <td>85.099998</td>\n",
       "      <td>NaN</td>\n",
       "      <td>NaN</td>\n",
       "      <td>NaN</td>\n",
       "      <td>NaN</td>\n",
       "      <td>2022-01-25 22:00:00</td>\n",
       "      <td>-0.092881</td>\n",
       "      <td>0.0</td>\n",
       "      <td>-0.199692</td>\n",
       "      <td>0.0</td>\n",
       "      <td>NaN</td>\n",
       "      <td>NaN</td>\n",
       "      <td>NaN</td>\n",
       "      <td>NaN</td>\n",
       "      <td>NaN</td>\n",
       "      <td>NaN</td>\n",
       "      <td>NaN</td>\n",
       "      <td>NaN</td>\n",
       "    </tr>\n",
       "    <tr>\n",
       "      <th>7</th>\n",
       "      <td>37005.496094</td>\n",
       "      <td>85.129997</td>\n",
       "      <td>NaN</td>\n",
       "      <td>NaN</td>\n",
       "      <td>NaN</td>\n",
       "      <td>NaN</td>\n",
       "      <td>2022-01-25 22:15:00</td>\n",
       "      <td>0.376253</td>\n",
       "      <td>2.0</td>\n",
       "      <td>0.035268</td>\n",
       "      <td>2.0</td>\n",
       "      <td>NaN</td>\n",
       "      <td>NaN</td>\n",
       "      <td>NaN</td>\n",
       "      <td>NaN</td>\n",
       "      <td>NaN</td>\n",
       "      <td>NaN</td>\n",
       "      <td>NaN</td>\n",
       "      <td>NaN</td>\n",
       "    </tr>\n",
       "    <tr>\n",
       "      <th>8</th>\n",
       "      <td>37146.734375</td>\n",
       "      <td>85.059998</td>\n",
       "      <td>NaN</td>\n",
       "      <td>NaN</td>\n",
       "      <td>NaN</td>\n",
       "      <td>NaN</td>\n",
       "      <td>2022-01-25 22:30:00</td>\n",
       "      <td>0.377916</td>\n",
       "      <td>2.0</td>\n",
       "      <td>-0.082217</td>\n",
       "      <td>0.0</td>\n",
       "      <td>NaN</td>\n",
       "      <td>NaN</td>\n",
       "      <td>NaN</td>\n",
       "      <td>NaN</td>\n",
       "      <td>NaN</td>\n",
       "      <td>NaN</td>\n",
       "      <td>NaN</td>\n",
       "      <td>NaN</td>\n",
       "    </tr>\n",
       "    <tr>\n",
       "      <th>9</th>\n",
       "      <td>37372.949219</td>\n",
       "      <td>85.139999</td>\n",
       "      <td>NaN</td>\n",
       "      <td>NaN</td>\n",
       "      <td>NaN</td>\n",
       "      <td>NaN</td>\n",
       "      <td>2022-01-25 22:45:00</td>\n",
       "      <td>0.604491</td>\n",
       "      <td>2.0</td>\n",
       "      <td>0.093877</td>\n",
       "      <td>2.0</td>\n",
       "      <td>NaN</td>\n",
       "      <td>NaN</td>\n",
       "      <td>NaN</td>\n",
       "      <td>NaN</td>\n",
       "      <td>NaN</td>\n",
       "      <td>NaN</td>\n",
       "      <td>NaN</td>\n",
       "      <td>NaN</td>\n",
       "    </tr>\n",
       "  </tbody>\n",
       "</table>\n",
       "</div>"
      ],
      "text/plain": [
       "    BTC-USDOpen   CL=FOpen  TSLAOpen  GSPCOpen  GSPTSEOpen  IXICOpen  \\\n",
       "0  36714.597656  85.330002       NaN       NaN         NaN       NaN   \n",
       "1  36737.652344  85.269997       NaN       NaN         NaN       NaN   \n",
       "2  36881.648438  85.250000       NaN       NaN         NaN       NaN   \n",
       "3  36988.496094  85.370003       NaN       NaN         NaN       NaN   \n",
       "4  36933.144531  85.360001       NaN       NaN         NaN       NaN   \n",
       "5  36900.101562  85.269997       NaN       NaN         NaN       NaN   \n",
       "6  36865.730469  85.099998       NaN       NaN         NaN       NaN   \n",
       "7  37005.496094  85.129997       NaN       NaN         NaN       NaN   \n",
       "8  37146.734375  85.059998       NaN       NaN         NaN       NaN   \n",
       "9  37372.949219  85.139999       NaN       NaN         NaN       NaN   \n",
       "\n",
       "                 Date  BTC-USDDelta  BTC-USDDirection  CL=FDelta  \\\n",
       "0 2022-01-25 20:30:00           NaN               NaN        NaN   \n",
       "1 2022-01-25 20:45:00      0.062510               2.0  -0.070387   \n",
       "2 2022-01-25 21:00:00      0.389300               2.0  -0.023424   \n",
       "3 2022-01-25 21:15:00      0.289300               2.0   0.140584   \n",
       "4 2022-01-25 21:30:00     -0.150004               0.0  -0.011730   \n",
       "5 2022-01-25 21:45:00     -0.089631               0.0  -0.105763   \n",
       "6 2022-01-25 22:00:00     -0.092881               0.0  -0.199692   \n",
       "7 2022-01-25 22:15:00      0.376253               2.0   0.035268   \n",
       "8 2022-01-25 22:30:00      0.377916               2.0  -0.082217   \n",
       "9 2022-01-25 22:45:00      0.604491               2.0   0.093877   \n",
       "\n",
       "   CL=FDirection  TSLADelta  TSLADirection  GSPCDelta  GSPCDirection  \\\n",
       "0            NaN        NaN            NaN        NaN            NaN   \n",
       "1            0.0        NaN            NaN        NaN            NaN   \n",
       "2            0.0        NaN            NaN        NaN            NaN   \n",
       "3            2.0        NaN            NaN        NaN            NaN   \n",
       "4            0.0        NaN            NaN        NaN            NaN   \n",
       "5            0.0        NaN            NaN        NaN            NaN   \n",
       "6            0.0        NaN            NaN        NaN            NaN   \n",
       "7            2.0        NaN            NaN        NaN            NaN   \n",
       "8            0.0        NaN            NaN        NaN            NaN   \n",
       "9            2.0        NaN            NaN        NaN            NaN   \n",
       "\n",
       "   GSPTSEDelta  GSPTSEDirection  IXICDelta  IXICDirection  \n",
       "0          NaN              NaN        NaN            NaN  \n",
       "1          NaN              NaN        NaN            NaN  \n",
       "2          NaN              NaN        NaN            NaN  \n",
       "3          NaN              NaN        NaN            NaN  \n",
       "4          NaN              NaN        NaN            NaN  \n",
       "5          NaN              NaN        NaN            NaN  \n",
       "6          NaN              NaN        NaN            NaN  \n",
       "7          NaN              NaN        NaN            NaN  \n",
       "8          NaN              NaN        NaN            NaN  \n",
       "9          NaN              NaN        NaN            NaN  "
      ]
     },
     "execution_count": 3,
     "metadata": {},
     "output_type": "execute_result"
    }
   ],
   "source": [
    "# Stocks Data Transformations\n",
    "filename='data/^GSPC CL=F ^IXIC ^GSPTSE TSLA BTC-USD _15m.csv'\n",
    "header = read_stocks_data_header(filename)\n",
    "df_stocks_open, df_stocks_close = read_stocks_data(filename,header,3)\n",
    "df_stocks_open['Date'] = df_stocks_open.Date.apply(lambda row: row-timedelta(hours=5)) #change time to EST\n",
    "df_stocks_close['Date'] = df_stocks_open.Date.apply(lambda row: row-timedelta(hours=5)) #change time to EST\n",
    "df_stocks_open.head(10)"
   ]
  },
  {
   "cell_type": "code",
   "execution_count": 4,
   "metadata": {},
   "outputs": [
    {
     "data": {
      "text/plain": [
       "<AxesSubplot:ylabel='Count'>"
      ]
     },
     "execution_count": 4,
     "metadata": {},
     "output_type": "execute_result"
    },
    {
     "data": {
      "image/png": "[encoded data removed]",
      "text/plain": [
       "<Figure size 432x288 with 1 Axes>"
      ]
     },
     "metadata": {
      "needs_background": "light"
     },
     "output_type": "display_data"
    }
   ],
   "source": [
    "TARGET = [\"IXICDirection\"]\n",
    "y = df_stocks_open[TARGET]\n",
    "import seaborn as sns\n",
    "sns.histplot(data=y, bins=3)"
   ]
  },
  {
   "cell_type": "markdown",
   "metadata": {},
   "source": [
    "# Generate a List of Dates"
   ]
  },
  {
   "cell_type": "code",
   "execution_count": 5,
   "metadata": {},
   "outputs": [],
   "source": [
    "start='2022-01-01'\n",
    "end='2022-03-26'"
   ]
  },
  {
   "cell_type": "code",
   "execution_count": 6,
   "metadata": {},
   "outputs": [
    {
     "data": {
      "text/html": [
       "<div>\n",
       "<style scoped>\n",
       "    .dataframe tbody tr th:only-of-type {\n",
       "        vertical-align: middle;\n",
       "    }\n",
       "\n",
       "    .dataframe tbody tr th {\n",
       "        vertical-align: top;\n",
       "    }\n",
       "\n",
       "    .dataframe thead th {\n",
       "        text-align: right;\n",
       "    }\n",
       "</style>\n",
       "<table border=\"1\" class=\"dataframe\">\n",
       "  <thead>\n",
       "    <tr style=\"text-align: right;\">\n",
       "      <th></th>\n",
       "      <th>Date</th>\n",
       "    </tr>\n",
       "  </thead>\n",
       "  <tbody>\n",
       "    <tr>\n",
       "      <th>0</th>\n",
       "      <td>2022-01-01 00:00:00</td>\n",
       "    </tr>\n",
       "    <tr>\n",
       "      <th>1</th>\n",
       "      <td>2022-01-01 00:01:00</td>\n",
       "    </tr>\n",
       "    <tr>\n",
       "      <th>2</th>\n",
       "      <td>2022-01-01 00:02:00</td>\n",
       "    </tr>\n",
       "    <tr>\n",
       "      <th>3</th>\n",
       "      <td>2022-01-01 00:03:00</td>\n",
       "    </tr>\n",
       "    <tr>\n",
       "      <th>4</th>\n",
       "      <td>2022-01-01 00:04:00</td>\n",
       "    </tr>\n",
       "    <tr>\n",
       "      <th>...</th>\n",
       "      <td>...</td>\n",
       "    </tr>\n",
       "    <tr>\n",
       "      <th>120956</th>\n",
       "      <td>2022-03-25 23:56:00</td>\n",
       "    </tr>\n",
       "    <tr>\n",
       "      <th>120957</th>\n",
       "      <td>2022-03-25 23:57:00</td>\n",
       "    </tr>\n",
       "    <tr>\n",
       "      <th>120958</th>\n",
       "      <td>2022-03-25 23:58:00</td>\n",
       "    </tr>\n",
       "    <tr>\n",
       "      <th>120959</th>\n",
       "      <td>2022-03-25 23:59:00</td>\n",
       "    </tr>\n",
       "    <tr>\n",
       "      <th>120960</th>\n",
       "      <td>2022-03-26 00:00:00</td>\n",
       "    </tr>\n",
       "  </tbody>\n",
       "</table>\n",
       "<p>120961 rows × 1 columns</p>\n",
       "</div>"
      ],
      "text/plain": [
       "                      Date\n",
       "0      2022-01-01 00:00:00\n",
       "1      2022-01-01 00:01:00\n",
       "2      2022-01-01 00:02:00\n",
       "3      2022-01-01 00:03:00\n",
       "4      2022-01-01 00:04:00\n",
       "...                    ...\n",
       "120956 2022-03-25 23:56:00\n",
       "120957 2022-03-25 23:57:00\n",
       "120958 2022-03-25 23:58:00\n",
       "120959 2022-03-25 23:59:00\n",
       "120960 2022-03-26 00:00:00\n",
       "\n",
       "[120961 rows x 1 columns]"
      ]
     },
     "execution_count": 6,
     "metadata": {},
     "output_type": "execute_result"
    }
   ],
   "source": [
    "# Date Range\n",
    "df_date= pd.DataFrame()\n",
    "df_date['Date'] = pd.bdate_range(start=start, end=end, freq='min')\n",
    "df_date"
   ]
  },
  {
   "cell_type": "markdown",
   "metadata": {},
   "source": [
    "# Tweets Data Processing"
   ]
  },
  {
   "cell_type": "markdown",
   "metadata": {},
   "source": [
    "## Tweet Read"
   ]
  },
  {
   "cell_type": "code",
   "execution_count": 7,
   "metadata": {},
   "outputs": [],
   "source": [
    "# To clean up texts\n",
    "import re\n",
    "import nltk\n",
    "# nltk.download() Download nltk data for first time use (download all packages)\n",
    "import nltk.data\n",
    "# from nltk.stem.snowball import SnowballStemmer\n",
    "# stemmer = SnowballStemmer('english')\n",
    "from nltk.stem import WordNetLemmatizer\n",
    "lemmatizer = WordNetLemmatizer()\n",
    "from nltk.corpus import stopwords\n",
    "stop_words = set(stopwords.words('english'))\n",
    "# tokenizer = nltk.data.load('nltk:tokenizers/punkt/english.pickle')\n",
    "# nltk.download('wordnet')\n",
    "# nltk.download('punkt')\n",
    "# nltk.download('stopwords')\n",
    "# nltk.download('omw-1.4')\n"
   ]
  },
  {
   "cell_type": "code",
   "execution_count": 8,
   "metadata": {},
   "outputs": [
    {
     "name": "stdout",
     "output_type": "stream",
     "text": [
      "(102683, 5)\n"
     ]
    }
   ],
   "source": [
    "tweets_file = 'data/News_tweets_100k.csv'\n",
    "df_tweets = pd.read_csv(tweets_file)\n",
    "df_tweets['Time']=pd.to_datetime(df_tweets.Time)\n",
    "\n",
    "df_tweets['Time'] = df_tweets.Time.apply(lambda row: row-timedelta(hours=5)) # change time to EST\n",
    "df_tweets.rename(columns={'Time':'tweet_date'}, inplace = True)\n",
    "\n",
    "colofinterest = ['tweet_date','Content','RetweetNum','LikeNum','UserHandle']\n",
    "df_tweets = df_tweets[colofinterest].sort_values(by='tweet_date',ascending=True).reset_index(drop=True)\n",
    "print(df_tweets.shape)\n",
    "\n",
    "df_tweets = df_tweets[(df_tweets.tweet_date >= start) & (df_tweets.tweet_date <= end)] # filter data based on dates"
   ]
  },
  {
   "cell_type": "markdown",
   "metadata": {},
   "source": [
    "## Tweet Cleaning"
   ]
  },
  {
   "cell_type": "code",
   "execution_count": 9,
   "metadata": {},
   "outputs": [],
   "source": [
    "def sentence_to_wordlist(sentence, remove_stopwords=False):\n",
    "    # 0. remove mentions(@), Hashtag(#)\n",
    "    sentence = re.sub(r'@[^\\s]+', '', sentence,flags=re.MULTILINE )\n",
    "    sentence = re.sub(r'#[^\\s]+', '', sentence,flags=re.MULTILINE )\n",
    "    sentence = re.sub(r'RT[^\\s]+', '', sentence,flags=re.MULTILINE )\n",
    "    # 1. drop http\n",
    "    p1=re.compile(r'http?:\\/\\/\\S+', flags=re.DOTALL)\n",
    "    sentence = re.sub(p1, '', sentence)\n",
    "    # 2. drop https\n",
    "    p1=re.compile(r'https?:\\/\\/\\S+', flags=re.DOTALL)\n",
    "    sentence = re.sub(p1, '', sentence)\n",
    "    # 3. Remove non-letters\n",
    "    sentence = re.sub(r'[^\\w\\s]','', sentence)\n",
    "    # 4. Remove all numbers\n",
    "    sentence = re.sub(r'[0-9]+', '', sentence)\n",
    "    # 5. Convert words to lower case and split them\n",
    "    sentence = sentence.lower().split()\n",
    "    # Remove Stop Words\n",
    "    # sentence = [word for word in sentence if not word in stop_words]\n",
    "    # 5. Stemming\n",
    "    # sentence = [stemmer.stem(w) for w in sentence] \n",
    "    # 6. Lemmatizing\n",
    "    sentence = [lemmatizer.lemmatize(word) for word in sentence]\n",
    "\n",
    "    #check if returned sentence is blank\n",
    "    if len(sentence)==0:\n",
    "      return np.nan\n",
    "    else:\n",
    "      # 7. Return a sentence of words\n",
    "      sentence_r = ''\n",
    "      for word in sentence:\n",
    "        sentence_r = sentence_r + ' ' + word\n",
    "      return(sentence_r)"
   ]
  },
  {
   "cell_type": "code",
   "execution_count": 10,
   "metadata": {},
   "outputs": [],
   "source": [
    "# create a new column \n",
    "df_tweets['Content1']= df_tweets.Content.apply(lambda row: sentence_to_wordlist(row))\n",
    "df_tweets.dropna(how='any', inplace=True)\n",
    "df_tweets=df_tweets[df_tweets.UserHandle != 'CNBC']\n",
    "df_tweets.reset_index(drop=True, inplace=True,)\n",
    "# df_tweets.head()"
   ]
  },
  {
   "cell_type": "code",
   "execution_count": 12,
   "metadata": {},
   "outputs": [],
   "source": [
    "# Get US holidays\n",
    "from pandas.tseries.holiday import USFederalHolidayCalendar\n",
    "cal = USFederalHolidayCalendar()\n",
    "holidays = cal.holidays(start='2021-06-01', end='2022-12-31').to_pydatetime()\n",
    "holiday_date = []\n",
    "for days in holidays:\n",
    "    holiday_date.append(days.date())\n",
    "\n",
    "\n",
    "def IsHoliday(x,holiday_date):\n",
    "    #check weekend or US holiday\n",
    "    # date = x.date()\n",
    "    weekday = x.weekday()\n",
    "    if (x in holiday_date) | (weekday==5) | (weekday==6):\n",
    "        return True #it is holiday\n",
    "    else:\n",
    "        return False #it is not holiday\n",
    "\n",
    "\n",
    "def IsAfterMkt(x):\n",
    "    #during market or after market\n",
    "    x = x.time()\n",
    "    starttime = datetime.strptime('9:30:00','%H:%M:%S').time()\n",
    "    endtime = datetime.strptime('16:00:00','%H:%M:%S').time()\n",
    "    if ((x >= starttime) & (x<=endtime)):\n",
    "         return False\n",
    "    else:\n",
    "        return True\n",
    "\n",
    "def IsSameDay(x):\n",
    "    # Same day or next day\n",
    "    x = x.time()\n",
    "    samedaystarttime = datetime.strptime('00:00:00','%H:%M:%S').time()\n",
    "    samedayndtime = datetime.strptime('16:00:00','%H:%M:%S').time()\n",
    "    if ((x >= samedaystarttime) & (x <= samedayndtime)):\n",
    "        return True\n",
    "    else:\n",
    "        return False\n",
    "\n",
    "\n",
    "\n",
    "def edit_date(x):\n",
    "    # transform date to correspond to stock market open or close   \n",
    "    date = x.date()\n",
    "    time = x.time()\n",
    "\n",
    "    if (IsAfterMkt(x)==True) & (IsSameDay(x)==False):\n",
    "        time=datetime.strptime('9:30:00','%H:%M:%S').time()\n",
    "        date=date+timedelta(days=1)\n",
    "    elif ((IsAfterMkt(x)==True) & (IsSameDay(x)==True)):\n",
    "        date=date\n",
    "        time=time=datetime.strptime('9:30:00','%H:%M:%S').time()\n",
    "    \n",
    "    while IsHoliday(date,holiday_date) ==1:\n",
    "        date = date+timedelta(days=1)\n",
    "\n",
    "    date_time = str(date)+ ' '+ str(time)\n",
    "    date_time = datetime.strptime(date_time, \"%Y-%m-%d %H:%M:%S\")\n",
    "    return date_time\n",
    "\n",
    "# Code for checking logic\n",
    "# colofinterest=['tweet_date','tweet_day','Date','Day']\n",
    "# df_tweets[colofinterest].iloc[85:300]"
   ]
  },
  {
   "cell_type": "code",
   "execution_count": 13,
   "metadata": {},
   "outputs": [
    {
     "data": {
      "text/html": [
       "<div>\n",
       "<style scoped>\n",
       "    .dataframe tbody tr th:only-of-type {\n",
       "        vertical-align: middle;\n",
       "    }\n",
       "\n",
       "    .dataframe tbody tr th {\n",
       "        vertical-align: top;\n",
       "    }\n",
       "\n",
       "    .dataframe thead th {\n",
       "        text-align: right;\n",
       "    }\n",
       "</style>\n",
       "<table border=\"1\" class=\"dataframe\">\n",
       "  <thead>\n",
       "    <tr style=\"text-align: right;\">\n",
       "      <th></th>\n",
       "      <th>tweet_date</th>\n",
       "      <th>Content</th>\n",
       "      <th>RetweetNum</th>\n",
       "      <th>LikeNum</th>\n",
       "      <th>UserHandle</th>\n",
       "      <th>Content1</th>\n",
       "      <th>tweet_day</th>\n",
       "      <th>Date</th>\n",
       "      <th>Day</th>\n",
       "    </tr>\n",
       "  </thead>\n",
       "  <tbody>\n",
       "    <tr>\n",
       "      <th>0</th>\n",
       "      <td>2022-01-01 00:00:03+00:00</td>\n",
       "      <td>WATCH: Here’s a roundup of 2021 in numbers, featuring Elon Musk, meme-stocks and crypto https://t.co/8B1arJU1qT</td>\n",
       "      <td>2</td>\n",
       "      <td>11</td>\n",
       "      <td>ReutersBiz</td>\n",
       "      <td>watch here a roundup of in number featuring elon musk memestocks and crypto</td>\n",
       "      <td>Saturday</td>\n",
       "      <td>2022-01-03 09:30:00</td>\n",
       "      <td>Monday</td>\n",
       "    </tr>\n",
       "  </tbody>\n",
       "</table>\n",
       "</div>"
      ],
      "text/plain": [
       "                 tweet_date  \\\n",
       "0 2022-01-01 00:00:03+00:00   \n",
       "\n",
       "                                                                                                           Content  \\\n",
       "0  WATCH: Here’s a roundup of 2021 in numbers, featuring Elon Musk, meme-stocks and crypto https://t.co/8B1arJU1qT   \n",
       "\n",
       "   RetweetNum  LikeNum  UserHandle  \\\n",
       "0           2       11  ReutersBiz   \n",
       "\n",
       "                                                                       Content1  \\\n",
       "0   watch here a roundup of in number featuring elon musk memestocks and crypto   \n",
       "\n",
       "  tweet_day                Date     Day  \n",
       "0  Saturday 2022-01-03 09:30:00  Monday  "
      ]
     },
     "execution_count": 13,
     "metadata": {},
     "output_type": "execute_result"
    }
   ],
   "source": [
    "# Change tweet date to corresponding market open date and time\n",
    "df_tweets['tweet_day'] = df_tweets.tweet_date.apply(lambda row:row.date().strftime(\"%A\"))\n",
    "df_tweets['Date'] = df_tweets.tweet_date.apply(lambda row:edit_date(row))\n",
    "df_tweets['Day'] = df_tweets.Date.apply(lambda row:row.date().strftime(\"%A\"))\n",
    "df_tweets['Date'] = df_tweets.Date.dt.round('15min') #round to the nearest 15 minute\n",
    "df_tweets.head(1)"
   ]
  },
  {
   "cell_type": "code",
   "execution_count": 14,
   "metadata": {},
   "outputs": [
    {
     "name": "stdout",
     "output_type": "stream",
     "text": [
      "<class 'pandas.core.frame.DataFrame'>\n",
      "RangeIndex: 33233 entries, 0 to 33232\n",
      "Data columns (total 9 columns):\n",
      " #   Column      Non-Null Count  Dtype              \n",
      "---  ------      --------------  -----              \n",
      " 0   tweet_date  33233 non-null  datetime64[ns, UTC]\n",
      " 1   Content     33233 non-null  object             \n",
      " 2   RetweetNum  33233 non-null  int64              \n",
      " 3   LikeNum     33233 non-null  int64              \n",
      " 4   UserHandle  33233 non-null  object             \n",
      " 5   Content1    33233 non-null  object             \n",
      " 6   tweet_day   33233 non-null  object             \n",
      " 7   Date        33233 non-null  datetime64[ns]     \n",
      " 8   Day         33233 non-null  object             \n",
      "dtypes: datetime64[ns, UTC](1), datetime64[ns](1), int64(2), object(5)\n",
      "memory usage: 2.3+ MB\n"
     ]
    }
   ],
   "source": [
    "# create a new column \n",
    "import swifter\n",
    "df_tweets['Content1']= df_tweets.Content.apply(lambda row: sentence_to_wordlist(row))\n",
    "df_tweets.dropna(how='any', inplace=True)\n",
    "df_tweets.info()"
   ]
  },
  {
   "cell_type": "markdown",
   "metadata": {},
   "source": [
    "# Tweet Sentiments"
   ]
  },
  {
   "cell_type": "code",
   "execution_count": 15,
   "metadata": {},
   "outputs": [],
   "source": [
    "from nltk.sentiment.vader import SentimentIntensityAnalyzer\n",
    "nltk.download('vader_lexicon', quiet=True)\n",
    "\n",
    "def polarityScore(a, col):\n",
    "    # Create a column for score\n",
    "    a['score'] = a[col].swifter.apply(lambda row: calculate_polarity_scores(row))\n",
    "    #split all the scores into separate columns\n",
    "    # columns = ['negative', 'neutral', 'positive', 'compound'])\n",
    "    a['negative']=a.score.apply(lambda x: x[0])\n",
    "    a['neutral']=a.score.apply(lambda x: x[1])\n",
    "    a['positive']=a.score.apply(lambda x: x[2])\n",
    "    a['combined']=a.score.apply(lambda x: x[3])\n",
    "    return a\n",
    "\n",
    "def calculate_polarity_scores(x):\n",
    "    # use VADER to get polarity of tweets\n",
    "    sid = SentimentIntensityAnalyzer()\n",
    "    score = sid.polarity_scores(x)\n",
    "    score_list = []\n",
    "    for i in score.values():\n",
    "        score_list.append(i)\n",
    "    return score_list"
   ]
  },
  {
   "cell_type": "code",
   "execution_count": 16,
   "metadata": {},
   "outputs": [
    {
     "name": "stderr",
     "output_type": "stream",
     "text": [
      "Pandas Apply: 100%|██████████| 33233/33233 [03:47<00:00, 146.39it/s]\n"
     ]
    }
   ],
   "source": [
    "df_tweets = polarityScore(df_tweets, 'Content1')\n",
    "\n",
    "# sns.histplot(data=result, x='compound')\n",
    "# df_tweets.head()"
   ]
  },
  {
   "cell_type": "markdown",
   "metadata": {},
   "source": [
    "# Merge"
   ]
  },
  {
   "cell_type": "code",
   "execution_count": 17,
   "metadata": {},
   "outputs": [
    {
     "data": {
      "text/plain": [
       "30491"
      ]
     },
     "execution_count": 17,
     "metadata": {},
     "output_type": "execute_result"
    }
   ],
   "source": [
    "df = pd.merge(df_date,df_stocks_open,how='inner', on='Date')\n",
    "df = pd.merge(df, df_tweets, how='inner', on='Date')\n",
    "len(df)\n",
    "#df = df.dropna().reset_index(drop=True)\n",
    "# df.head()"
   ]
  },
  {
   "cell_type": "code",
   "execution_count": 23,
   "metadata": {},
   "outputs": [
    {
     "data": {
      "image/png": "[encoded data removed]",
      "text/plain": [
       "<Figure size 864x576 with 1 Axes>"
      ]
     },
     "metadata": {
      "needs_background": "light"
     },
     "output_type": "display_data"
    }
   ],
   "source": [
    "import seaborn as sns\n",
    "plt = sns.catplot(y='UserHandle', kind='count', data=df, height=8, aspect=1.5, palette=\"tab10\")"
   ]
  },
  {
   "cell_type": "code",
   "execution_count": 28,
   "metadata": {},
   "outputs": [
    {
     "data": {
      "image/png": "[encoded data removed]",
      "text/plain": [
       "<Figure size 432x288 with 1 Axes>"
      ]
     },
     "metadata": {
      "needs_background": "light"
     },
     "output_type": "display_data"
    }
   ],
   "source": [
    "plt = sns.histplot(data=df_tweets, x='combined',bins=20)"
   ]
  },
  {
   "cell_type": "code",
   "execution_count": 21,
   "metadata": {},
   "outputs": [
    {
     "data": {
      "text/plain": [
       "Index(['Date', 'BTC-USDOpen', 'CL=FOpen', 'TSLAOpen', 'GSPCOpen', 'GSPTSEOpen',\n",
       "       'IXICOpen', 'BTC-USDDelta', 'BTC-USDDirection', 'CL=FDelta',\n",
       "       'CL=FDirection', 'TSLADelta', 'TSLADirection', 'GSPCDelta',\n",
       "       'GSPCDirection', 'GSPTSEDelta', 'GSPTSEDirection', 'IXICDelta',\n",
       "       'IXICDirection', 'tweet_date', 'Content', 'RetweetNum', 'LikeNum',\n",
       "       'UserHandle', 'Content1', 'tweet_day', 'Day', 'score', 'negative',\n",
       "       'neutral', 'positive', 'combined'],\n",
       "      dtype='object')"
      ]
     },
     "execution_count": 21,
     "metadata": {},
     "output_type": "execute_result"
    }
   ],
   "source": [
    "df.columns"
   ]
  },
  {
   "cell_type": "markdown",
   "metadata": {},
   "source": [
    "# EDA"
   ]
  },
  {
   "cell_type": "code",
   "execution_count": 22,
   "metadata": {},
   "outputs": [
    {
     "data": {
      "text/plain": [
       "<AxesSubplot:xlabel='CL=FDirection', ylabel='Count'>"
      ]
     },
     "execution_count": 22,
     "metadata": {},
     "output_type": "execute_result"
    },
    {
     "data": {
      "image/png": "[encoded data removed]",
      "text/plain": [
       "<Figure size 432x288 with 1 Axes>"
      ]
     },
     "metadata": {
      "needs_background": "light"
     },
     "output_type": "display_data"
    }
   ],
   "source": [
    "sns.histplot(data=df, x='CL=FDirection',bins=3)"
   ]
  },
  {
   "cell_type": "code",
   "execution_count": 23,
   "metadata": {},
   "outputs": [
    {
     "data": {
      "text/html": [
       "<div>\n",
       "<style scoped>\n",
       "    .dataframe tbody tr th:only-of-type {\n",
       "        vertical-align: middle;\n",
       "    }\n",
       "\n",
       "    .dataframe tbody tr th {\n",
       "        vertical-align: top;\n",
       "    }\n",
       "\n",
       "    .dataframe thead tr th {\n",
       "        text-align: left;\n",
       "    }\n",
       "</style>\n",
       "<table border=\"1\" class=\"dataframe\">\n",
       "  <thead>\n",
       "    <tr>\n",
       "      <th></th>\n",
       "      <th>CL=FDirection</th>\n",
       "      <th colspan=\"3\" halign=\"left\">combined</th>\n",
       "      <th colspan=\"3\" halign=\"left\">negative</th>\n",
       "      <th colspan=\"3\" halign=\"left\">neutral</th>\n",
       "      <th colspan=\"3\" halign=\"left\">positive</th>\n",
       "    </tr>\n",
       "    <tr>\n",
       "      <th></th>\n",
       "      <th></th>\n",
       "      <th>count</th>\n",
       "      <th>mean</th>\n",
       "      <th>var</th>\n",
       "      <th>count</th>\n",
       "      <th>mean</th>\n",
       "      <th>var</th>\n",
       "      <th>count</th>\n",
       "      <th>mean</th>\n",
       "      <th>var</th>\n",
       "      <th>count</th>\n",
       "      <th>mean</th>\n",
       "      <th>var</th>\n",
       "    </tr>\n",
       "  </thead>\n",
       "  <tbody>\n",
       "    <tr>\n",
       "      <th>0</th>\n",
       "      <td>0.0</td>\n",
       "      <td>15568</td>\n",
       "      <td>0.023970</td>\n",
       "      <td>0.185556</td>\n",
       "      <td>15568</td>\n",
       "      <td>0.080386</td>\n",
       "      <td>0.010474</td>\n",
       "      <td>15568</td>\n",
       "      <td>0.827110</td>\n",
       "      <td>0.017418</td>\n",
       "      <td>15568</td>\n",
       "      <td>0.092503</td>\n",
       "      <td>0.010719</td>\n",
       "    </tr>\n",
       "    <tr>\n",
       "      <th>1</th>\n",
       "      <td>1.0</td>\n",
       "      <td>161</td>\n",
       "      <td>0.081553</td>\n",
       "      <td>0.172075</td>\n",
       "      <td>161</td>\n",
       "      <td>0.072311</td>\n",
       "      <td>0.010311</td>\n",
       "      <td>161</td>\n",
       "      <td>0.827578</td>\n",
       "      <td>0.017415</td>\n",
       "      <td>161</td>\n",
       "      <td>0.100106</td>\n",
       "      <td>0.010823</td>\n",
       "    </tr>\n",
       "    <tr>\n",
       "      <th>2</th>\n",
       "      <td>2.0</td>\n",
       "      <td>14469</td>\n",
       "      <td>0.007862</td>\n",
       "      <td>0.186697</td>\n",
       "      <td>14469</td>\n",
       "      <td>0.084468</td>\n",
       "      <td>0.010969</td>\n",
       "      <td>14469</td>\n",
       "      <td>0.824705</td>\n",
       "      <td>0.017311</td>\n",
       "      <td>14469</td>\n",
       "      <td>0.090830</td>\n",
       "      <td>0.010332</td>\n",
       "    </tr>\n",
       "  </tbody>\n",
       "</table>\n",
       "</div>"
      ],
      "text/plain": [
       "  CL=FDirection combined                     negative                      \\\n",
       "                   count      mean       var    count      mean       var   \n",
       "0           0.0    15568  0.023970  0.185556    15568  0.080386  0.010474   \n",
       "1           1.0      161  0.081553  0.172075      161  0.072311  0.010311   \n",
       "2           2.0    14469  0.007862  0.186697    14469  0.084468  0.010969   \n",
       "\n",
       "  neutral                     positive                      \n",
       "    count      mean       var    count      mean       var  \n",
       "0   15568  0.827110  0.017418    15568  0.092503  0.010719  \n",
       "1     161  0.827578  0.017415      161  0.100106  0.010823  \n",
       "2   14469  0.824705  0.017311    14469  0.090830  0.010332  "
      ]
     },
     "execution_count": 23,
     "metadata": {},
     "output_type": "execute_result"
    }
   ],
   "source": [
    "df.groupby(['CL=FDirection'], as_index=False).agg(\n",
    "    {\n",
    "        'combined':['count','mean','var'],\n",
    "        'negative':['count','mean','var'],\n",
    "        'neutral':['count','mean','var'],\n",
    "        'positive':['count','mean','var'],\n",
    "    }\n",
    ")"
   ]
  },
  {
   "cell_type": "code",
   "execution_count": 24,
   "metadata": {},
   "outputs": [
    {
     "data": {
      "text/plain": [
       "<AxesSubplot:xlabel='GSPCDirection', ylabel='Count'>"
      ]
     },
     "execution_count": 24,
     "metadata": {},
     "output_type": "execute_result"
    },
    {
     "data": {
      "image/png": "[encoded data removed]",
      "text/plain": [
       "<Figure size 432x288 with 1 Axes>"
      ]
     },
     "metadata": {
      "needs_background": "light"
     },
     "output_type": "display_data"
    }
   ],
   "source": [
    "sns.histplot(data=df, x='GSPCDirection',bins=3)"
   ]
  },
  {
   "cell_type": "code",
   "execution_count": 25,
   "metadata": {},
   "outputs": [
    {
     "data": {
      "text/html": [
       "<div>\n",
       "<style scoped>\n",
       "    .dataframe tbody tr th:only-of-type {\n",
       "        vertical-align: middle;\n",
       "    }\n",
       "\n",
       "    .dataframe tbody tr th {\n",
       "        vertical-align: top;\n",
       "    }\n",
       "\n",
       "    .dataframe thead tr th {\n",
       "        text-align: left;\n",
       "    }\n",
       "</style>\n",
       "<table border=\"1\" class=\"dataframe\">\n",
       "  <thead>\n",
       "    <tr>\n",
       "      <th></th>\n",
       "      <th>GSPCDirection</th>\n",
       "      <th colspan=\"3\" halign=\"left\">combined</th>\n",
       "      <th colspan=\"3\" halign=\"left\">negative</th>\n",
       "      <th colspan=\"3\" halign=\"left\">neutral</th>\n",
       "      <th colspan=\"3\" halign=\"left\">positive</th>\n",
       "    </tr>\n",
       "    <tr>\n",
       "      <th></th>\n",
       "      <th></th>\n",
       "      <th>count</th>\n",
       "      <th>mean</th>\n",
       "      <th>var</th>\n",
       "      <th>count</th>\n",
       "      <th>mean</th>\n",
       "      <th>var</th>\n",
       "      <th>count</th>\n",
       "      <th>mean</th>\n",
       "      <th>var</th>\n",
       "      <th>count</th>\n",
       "      <th>mean</th>\n",
       "      <th>var</th>\n",
       "    </tr>\n",
       "  </thead>\n",
       "  <tbody>\n",
       "    <tr>\n",
       "      <th>0</th>\n",
       "      <td>0.0</td>\n",
       "      <td>14402</td>\n",
       "      <td>0.016342</td>\n",
       "      <td>0.184781</td>\n",
       "      <td>14402</td>\n",
       "      <td>0.082410</td>\n",
       "      <td>0.010557</td>\n",
       "      <td>14402</td>\n",
       "      <td>0.825548</td>\n",
       "      <td>0.017451</td>\n",
       "      <td>14402</td>\n",
       "      <td>0.092044</td>\n",
       "      <td>0.010743</td>\n",
       "    </tr>\n",
       "    <tr>\n",
       "      <th>1</th>\n",
       "      <td>1.0</td>\n",
       "      <td>17</td>\n",
       "      <td>-0.083853</td>\n",
       "      <td>0.190689</td>\n",
       "      <td>17</td>\n",
       "      <td>0.073059</td>\n",
       "      <td>0.007790</td>\n",
       "      <td>17</td>\n",
       "      <td>0.865118</td>\n",
       "      <td>0.011325</td>\n",
       "      <td>17</td>\n",
       "      <td>0.061824</td>\n",
       "      <td>0.006299</td>\n",
       "    </tr>\n",
       "    <tr>\n",
       "      <th>2</th>\n",
       "      <td>2.0</td>\n",
       "      <td>15154</td>\n",
       "      <td>0.015078</td>\n",
       "      <td>0.188032</td>\n",
       "      <td>15154</td>\n",
       "      <td>0.082628</td>\n",
       "      <td>0.010934</td>\n",
       "      <td>15154</td>\n",
       "      <td>0.826234</td>\n",
       "      <td>0.017260</td>\n",
       "      <td>15154</td>\n",
       "      <td>0.091137</td>\n",
       "      <td>0.010308</td>\n",
       "    </tr>\n",
       "  </tbody>\n",
       "</table>\n",
       "</div>"
      ],
      "text/plain": [
       "  GSPCDirection combined                     negative                      \\\n",
       "                   count      mean       var    count      mean       var   \n",
       "0           0.0    14402  0.016342  0.184781    14402  0.082410  0.010557   \n",
       "1           1.0       17 -0.083853  0.190689       17  0.073059  0.007790   \n",
       "2           2.0    15154  0.015078  0.188032    15154  0.082628  0.010934   \n",
       "\n",
       "  neutral                     positive                      \n",
       "    count      mean       var    count      mean       var  \n",
       "0   14402  0.825548  0.017451    14402  0.092044  0.010743  \n",
       "1      17  0.865118  0.011325       17  0.061824  0.006299  \n",
       "2   15154  0.826234  0.017260    15154  0.091137  0.010308  "
      ]
     },
     "execution_count": 25,
     "metadata": {},
     "output_type": "execute_result"
    }
   ],
   "source": [
    "df.groupby(['GSPCDirection'], as_index=False).agg(\n",
    "    {\n",
    "        'combined':['count','mean','var'],\n",
    "        'negative':['count','mean','var'],\n",
    "        'neutral':['count','mean','var'],\n",
    "        'positive':['count','mean','var'],\n",
    "    }\n",
    ")"
   ]
  },
  {
   "cell_type": "code",
   "execution_count": 26,
   "metadata": {},
   "outputs": [
    {
     "data": {
      "text/plain": [
       "<AxesSubplot:xlabel='GSPTSEDirection', ylabel='Count'>"
      ]
     },
     "execution_count": 26,
     "metadata": {},
     "output_type": "execute_result"
    },
    {
     "data": {
      "image/png": "[encoded data removed]",
      "text/plain": [
       "<Figure size 432x288 with 1 Axes>"
      ]
     },
     "metadata": {
      "needs_background": "light"
     },
     "output_type": "display_data"
    }
   ],
   "source": [
    "sns.histplot(data=df, x='GSPTSEDirection',bins=3)"
   ]
  },
  {
   "cell_type": "code",
   "execution_count": 27,
   "metadata": {},
   "outputs": [
    {
     "data": {
      "text/html": [
       "<div>\n",
       "<style scoped>\n",
       "    .dataframe tbody tr th:only-of-type {\n",
       "        vertical-align: middle;\n",
       "    }\n",
       "\n",
       "    .dataframe tbody tr th {\n",
       "        vertical-align: top;\n",
       "    }\n",
       "\n",
       "    .dataframe thead tr th {\n",
       "        text-align: left;\n",
       "    }\n",
       "</style>\n",
       "<table border=\"1\" class=\"dataframe\">\n",
       "  <thead>\n",
       "    <tr>\n",
       "      <th></th>\n",
       "      <th>GSPTSEDirection</th>\n",
       "      <th colspan=\"3\" halign=\"left\">combined</th>\n",
       "      <th colspan=\"3\" halign=\"left\">negative</th>\n",
       "      <th colspan=\"3\" halign=\"left\">neutral</th>\n",
       "      <th colspan=\"3\" halign=\"left\">positive</th>\n",
       "    </tr>\n",
       "    <tr>\n",
       "      <th></th>\n",
       "      <th></th>\n",
       "      <th>count</th>\n",
       "      <th>mean</th>\n",
       "      <th>var</th>\n",
       "      <th>count</th>\n",
       "      <th>mean</th>\n",
       "      <th>var</th>\n",
       "      <th>count</th>\n",
       "      <th>mean</th>\n",
       "      <th>var</th>\n",
       "      <th>count</th>\n",
       "      <th>mean</th>\n",
       "      <th>var</th>\n",
       "    </tr>\n",
       "  </thead>\n",
       "  <tbody>\n",
       "    <tr>\n",
       "      <th>0</th>\n",
       "      <td>0.0</td>\n",
       "      <td>13111</td>\n",
       "      <td>0.016059</td>\n",
       "      <td>0.185182</td>\n",
       "      <td>13111</td>\n",
       "      <td>0.082456</td>\n",
       "      <td>0.010704</td>\n",
       "      <td>13111</td>\n",
       "      <td>0.825632</td>\n",
       "      <td>0.017746</td>\n",
       "      <td>13111</td>\n",
       "      <td>0.091914</td>\n",
       "      <td>0.010777</td>\n",
       "    </tr>\n",
       "    <tr>\n",
       "      <th>1</th>\n",
       "      <td>1.0</td>\n",
       "      <td>7</td>\n",
       "      <td>0.075243</td>\n",
       "      <td>0.193300</td>\n",
       "      <td>7</td>\n",
       "      <td>0.046429</td>\n",
       "      <td>0.001930</td>\n",
       "      <td>7</td>\n",
       "      <td>0.893000</td>\n",
       "      <td>0.005564</td>\n",
       "      <td>7</td>\n",
       "      <td>0.060429</td>\n",
       "      <td>0.006233</td>\n",
       "    </tr>\n",
       "    <tr>\n",
       "      <th>2</th>\n",
       "      <td>2.0</td>\n",
       "      <td>16455</td>\n",
       "      <td>0.015275</td>\n",
       "      <td>0.187467</td>\n",
       "      <td>16455</td>\n",
       "      <td>0.082580</td>\n",
       "      <td>0.010787</td>\n",
       "      <td>16455</td>\n",
       "      <td>0.826125</td>\n",
       "      <td>0.017039</td>\n",
       "      <td>16455</td>\n",
       "      <td>0.091295</td>\n",
       "      <td>0.010314</td>\n",
       "    </tr>\n",
       "  </tbody>\n",
       "</table>\n",
       "</div>"
      ],
      "text/plain": [
       "  GSPTSEDirection combined                     negative                      \\\n",
       "                     count      mean       var    count      mean       var   \n",
       "0             0.0    13111  0.016059  0.185182    13111  0.082456  0.010704   \n",
       "1             1.0        7  0.075243  0.193300        7  0.046429  0.001930   \n",
       "2             2.0    16455  0.015275  0.187467    16455  0.082580  0.010787   \n",
       "\n",
       "  neutral                     positive                      \n",
       "    count      mean       var    count      mean       var  \n",
       "0   13111  0.825632  0.017746    13111  0.091914  0.010777  \n",
       "1       7  0.893000  0.005564        7  0.060429  0.006233  \n",
       "2   16455  0.826125  0.017039    16455  0.091295  0.010314  "
      ]
     },
     "execution_count": 27,
     "metadata": {},
     "output_type": "execute_result"
    }
   ],
   "source": [
    "df.groupby(['GSPTSEDirection'], as_index=False).agg(\n",
    "    {\n",
    "        'combined':['count','mean','var'],\n",
    "        'negative':['count','mean','var'],\n",
    "        'neutral':['count','mean','var'],\n",
    "        'positive':['count','mean','var'],\n",
    "    }\n",
    ")"
   ]
  },
  {
   "cell_type": "code",
   "execution_count": 28,
   "metadata": {},
   "outputs": [
    {
     "data": {
      "text/plain": [
       "<AxesSubplot:xlabel='IXICDirection', ylabel='Count'>"
      ]
     },
     "execution_count": 28,
     "metadata": {},
     "output_type": "execute_result"
    },
    {
     "data": {
      "image/png": "[encoded data removed]",
      "text/plain": [
       "<Figure size 432x288 with 1 Axes>"
      ]
     },
     "metadata": {
      "needs_background": "light"
     },
     "output_type": "display_data"
    }
   ],
   "source": [
    "sns.histplot(data=df, x='IXICDirection',bins=3)"
   ]
  },
  {
   "cell_type": "code",
   "execution_count": 29,
   "metadata": {},
   "outputs": [
    {
     "data": {
      "text/html": [
       "<div>\n",
       "<style scoped>\n",
       "    .dataframe tbody tr th:only-of-type {\n",
       "        vertical-align: middle;\n",
       "    }\n",
       "\n",
       "    .dataframe tbody tr th {\n",
       "        vertical-align: top;\n",
       "    }\n",
       "\n",
       "    .dataframe thead tr th {\n",
       "        text-align: left;\n",
       "    }\n",
       "</style>\n",
       "<table border=\"1\" class=\"dataframe\">\n",
       "  <thead>\n",
       "    <tr>\n",
       "      <th></th>\n",
       "      <th>IXICDirection</th>\n",
       "      <th colspan=\"3\" halign=\"left\">combined</th>\n",
       "      <th colspan=\"3\" halign=\"left\">negative</th>\n",
       "      <th colspan=\"3\" halign=\"left\">neutral</th>\n",
       "      <th colspan=\"3\" halign=\"left\">positive</th>\n",
       "    </tr>\n",
       "    <tr>\n",
       "      <th></th>\n",
       "      <th></th>\n",
       "      <th>count</th>\n",
       "      <th>mean</th>\n",
       "      <th>var</th>\n",
       "      <th>count</th>\n",
       "      <th>mean</th>\n",
       "      <th>var</th>\n",
       "      <th>count</th>\n",
       "      <th>mean</th>\n",
       "      <th>var</th>\n",
       "      <th>count</th>\n",
       "      <th>mean</th>\n",
       "      <th>var</th>\n",
       "    </tr>\n",
       "  </thead>\n",
       "  <tbody>\n",
       "    <tr>\n",
       "      <th>0</th>\n",
       "      <td>0.0</td>\n",
       "      <td>14237</td>\n",
       "      <td>0.012768</td>\n",
       "      <td>0.185581</td>\n",
       "      <td>14237</td>\n",
       "      <td>0.082601</td>\n",
       "      <td>0.010585</td>\n",
       "      <td>14237</td>\n",
       "      <td>0.826375</td>\n",
       "      <td>0.017370</td>\n",
       "      <td>14237</td>\n",
       "      <td>0.091025</td>\n",
       "      <td>0.010547</td>\n",
       "    </tr>\n",
       "    <tr>\n",
       "      <th>1</th>\n",
       "      <td>2.0</td>\n",
       "      <td>15336</td>\n",
       "      <td>0.018299</td>\n",
       "      <td>0.187242</td>\n",
       "      <td>15336</td>\n",
       "      <td>0.082438</td>\n",
       "      <td>0.010900</td>\n",
       "      <td>15336</td>\n",
       "      <td>0.825503</td>\n",
       "      <td>0.017332</td>\n",
       "      <td>15336</td>\n",
       "      <td>0.092060</td>\n",
       "      <td>0.010491</td>\n",
       "    </tr>\n",
       "  </tbody>\n",
       "</table>\n",
       "</div>"
      ],
      "text/plain": [
       "  IXICDirection combined                     negative                      \\\n",
       "                   count      mean       var    count      mean       var   \n",
       "0           0.0    14237  0.012768  0.185581    14237  0.082601  0.010585   \n",
       "1           2.0    15336  0.018299  0.187242    15336  0.082438  0.010900   \n",
       "\n",
       "  neutral                     positive                      \n",
       "    count      mean       var    count      mean       var  \n",
       "0   14237  0.826375  0.017370    14237  0.091025  0.010547  \n",
       "1   15336  0.825503  0.017332    15336  0.092060  0.010491  "
      ]
     },
     "execution_count": 29,
     "metadata": {},
     "output_type": "execute_result"
    }
   ],
   "source": [
    "df.groupby(['IXICDirection'], as_index=False).agg(\n",
    "    {\n",
    "        'combined':['count','mean','var'],\n",
    "        'negative':['count','mean','var'],\n",
    "        'neutral':['count','mean','var'],\n",
    "        'positive':['count','mean','var'],\n",
    "    }\n",
    ")"
   ]
  },
  {
   "cell_type": "markdown",
   "metadata": {},
   "source": [
    "# Last Step - Export Data"
   ]
  },
  {
   "cell_type": "code",
   "execution_count": 31,
   "metadata": {},
   "outputs": [
    {
     "data": {
      "text/plain": [
       "Index(['Date', 'BTC-USDOpen', 'CL=FOpen', 'TSLAOpen', 'GSPCOpen', 'GSPTSEOpen',\n",
       "       'IXICOpen', 'BTC-USDDelta', 'BTC-USDDirection', 'CL=FDelta',\n",
       "       'CL=FDirection', 'TSLADelta', 'TSLADirection', 'GSPCDelta',\n",
       "       'GSPCDirection', 'GSPTSEDelta', 'GSPTSEDirection', 'IXICDelta',\n",
       "       'IXICDirection', 'tweet_date', 'Content', 'RetweetNum', 'LikeNum',\n",
       "       'UserHandle', 'Content1', 'tweet_day', 'Day', 'score', 'negative',\n",
       "       'neutral', 'positive', 'combined', 'sentiment'],\n",
       "      dtype='object')"
      ]
     },
     "execution_count": 31,
     "metadata": {},
     "output_type": "execute_result"
    }
   ],
   "source": [
    "def applysentiment(x):\n",
    "    if x<0:\n",
    "        return 0\n",
    "    elif x>0:\n",
    "        return 2\n",
    "    else:\n",
    "        return 1\n",
    "\n",
    "df['sentiment'] = df.combined.apply(lambda x: applysentiment(x))\n",
    "df.columns"
   ]
  },
  {
   "cell_type": "code",
   "execution_count": 32,
   "metadata": {},
   "outputs": [
    {
     "data": {
      "text/plain": [
       "<AxesSubplot:xlabel='sentiment', ylabel='Count'>"
      ]
     },
     "execution_count": 32,
     "metadata": {},
     "output_type": "execute_result"
    },
    {
     "data": {
      "image/png": "[encoded data removed]",
      "text/plain": [
       "<Figure size 432x288 with 1 Axes>"
      ]
     },
     "metadata": {
      "needs_background": "light"
     },
     "output_type": "display_data"
    }
   ],
   "source": [
    "sns.histplot(data=df, x='sentiment',bins=3)"
   ]
  },
  {
   "cell_type": "code",
   "execution_count": 34,
   "metadata": {},
   "outputs": [],
   "source": [
    "# Export df\n",
    "df.to_csv('data/df_raw.csv', index=False)"
   ]
  },
  {
   "cell_type": "code",
   "execution_count": 33,
   "metadata": {},
   "outputs": [],
   "source": [
    "df_final = df.groupby(['Date'], as_index=False).agg(\n",
    "    {\n",
    "        'combined':['count','mean','var'],\n",
    "        'negative':['count','mean','var'],\n",
    "        'neutral':['count','mean','var'],\n",
    "        'positive':['count','mean','var'],\n",
    "        'CL=FDirection':['mean'],\n",
    "        'GSPCDirection':['mean'],\n",
    "        'GSPTSEDirection':['mean'],\n",
    "        'IXICDirection':['mean'],\n",
    "        'BTC-USDDirection':['mean'],\n",
    "        'TSLADirection':['mean'],\n",
    "        'sentiment':['mean'],\n",
    "    }\n",
    ").reset_index(drop=True)\n",
    "\n",
    "df_final.to_csv('data/news_tweets_sentiments.csv',index=False, header=True)\n"
   ]
  },
  {
   "cell_type": "code",
   "execution_count": 35,
   "metadata": {},
   "outputs": [
    {
     "data": {
      "text/html": [
       "<div>\n",
       "<style scoped>\n",
       "    .dataframe tbody tr th:only-of-type {\n",
       "        vertical-align: middle;\n",
       "    }\n",
       "\n",
       "    .dataframe tbody tr th {\n",
       "        vertical-align: top;\n",
       "    }\n",
       "\n",
       "    .dataframe thead th {\n",
       "        text-align: right;\n",
       "    }\n",
       "</style>\n",
       "<table border=\"1\" class=\"dataframe\">\n",
       "  <thead>\n",
       "    <tr style=\"text-align: right;\">\n",
       "      <th></th>\n",
       "      <th>combined</th>\n",
       "      <th>negative</th>\n",
       "      <th>neutral</th>\n",
       "      <th>positive</th>\n",
       "      <th>CL=FDirection</th>\n",
       "      <th>GSPCDirection</th>\n",
       "      <th>GSPTSEDirection</th>\n",
       "      <th>IXICDirection</th>\n",
       "    </tr>\n",
       "  </thead>\n",
       "  <tbody>\n",
       "    <tr>\n",
       "      <th>0</th>\n",
       "      <td>0.048937</td>\n",
       "      <td>0.070012</td>\n",
       "      <td>0.833555</td>\n",
       "      <td>0.096448</td>\n",
       "      <td>0.0</td>\n",
       "      <td>NaN</td>\n",
       "      <td>NaN</td>\n",
       "      <td>NaN</td>\n",
       "    </tr>\n",
       "    <tr>\n",
       "      <th>1</th>\n",
       "      <td>0.091173</td>\n",
       "      <td>0.040909</td>\n",
       "      <td>0.839000</td>\n",
       "      <td>0.120091</td>\n",
       "      <td>2.0</td>\n",
       "      <td>0.0</td>\n",
       "      <td>0.0</td>\n",
       "      <td>0.0</td>\n",
       "    </tr>\n",
       "    <tr>\n",
       "      <th>2</th>\n",
       "      <td>-0.026320</td>\n",
       "      <td>0.081600</td>\n",
       "      <td>0.836000</td>\n",
       "      <td>0.082400</td>\n",
       "      <td>2.0</td>\n",
       "      <td>2.0</td>\n",
       "      <td>2.0</td>\n",
       "      <td>2.0</td>\n",
       "    </tr>\n",
       "    <tr>\n",
       "      <th>3</th>\n",
       "      <td>0.317771</td>\n",
       "      <td>0.064857</td>\n",
       "      <td>0.721000</td>\n",
       "      <td>0.214000</td>\n",
       "      <td>0.0</td>\n",
       "      <td>0.0</td>\n",
       "      <td>2.0</td>\n",
       "      <td>2.0</td>\n",
       "    </tr>\n",
       "    <tr>\n",
       "      <th>4</th>\n",
       "      <td>-0.201950</td>\n",
       "      <td>0.134250</td>\n",
       "      <td>0.824750</td>\n",
       "      <td>0.041000</td>\n",
       "      <td>0.0</td>\n",
       "      <td>0.0</td>\n",
       "      <td>0.0</td>\n",
       "      <td>0.0</td>\n",
       "    </tr>\n",
       "    <tr>\n",
       "      <th>...</th>\n",
       "      <td>...</td>\n",
       "      <td>...</td>\n",
       "      <td>...</td>\n",
       "      <td>...</td>\n",
       "      <td>...</td>\n",
       "      <td>...</td>\n",
       "      <td>...</td>\n",
       "      <td>...</td>\n",
       "    </tr>\n",
       "    <tr>\n",
       "      <th>1128</th>\n",
       "      <td>-0.067250</td>\n",
       "      <td>0.154167</td>\n",
       "      <td>0.685500</td>\n",
       "      <td>0.160333</td>\n",
       "      <td>0.0</td>\n",
       "      <td>NaN</td>\n",
       "      <td>NaN</td>\n",
       "      <td>NaN</td>\n",
       "    </tr>\n",
       "    <tr>\n",
       "      <th>1129</th>\n",
       "      <td>-0.263600</td>\n",
       "      <td>0.084750</td>\n",
       "      <td>0.896500</td>\n",
       "      <td>0.018750</td>\n",
       "      <td>0.0</td>\n",
       "      <td>NaN</td>\n",
       "      <td>NaN</td>\n",
       "      <td>NaN</td>\n",
       "    </tr>\n",
       "    <tr>\n",
       "      <th>1130</th>\n",
       "      <td>-0.159411</td>\n",
       "      <td>0.088444</td>\n",
       "      <td>0.850889</td>\n",
       "      <td>0.060667</td>\n",
       "      <td>0.0</td>\n",
       "      <td>NaN</td>\n",
       "      <td>NaN</td>\n",
       "      <td>NaN</td>\n",
       "    </tr>\n",
       "    <tr>\n",
       "      <th>1131</th>\n",
       "      <td>0.016886</td>\n",
       "      <td>0.070429</td>\n",
       "      <td>0.843143</td>\n",
       "      <td>0.086286</td>\n",
       "      <td>NaN</td>\n",
       "      <td>NaN</td>\n",
       "      <td>NaN</td>\n",
       "      <td>NaN</td>\n",
       "    </tr>\n",
       "    <tr>\n",
       "      <th>1132</th>\n",
       "      <td>0.750600</td>\n",
       "      <td>0.000000</td>\n",
       "      <td>0.757000</td>\n",
       "      <td>0.243000</td>\n",
       "      <td>NaN</td>\n",
       "      <td>NaN</td>\n",
       "      <td>NaN</td>\n",
       "      <td>NaN</td>\n",
       "    </tr>\n",
       "  </tbody>\n",
       "</table>\n",
       "<p>1133 rows × 8 columns</p>\n",
       "</div>"
      ],
      "text/plain": [
       "      combined  negative   neutral  positive  CL=FDirection  GSPCDirection  \\\n",
       "0     0.048937  0.070012  0.833555  0.096448            0.0            NaN   \n",
       "1     0.091173  0.040909  0.839000  0.120091            2.0            0.0   \n",
       "2    -0.026320  0.081600  0.836000  0.082400            2.0            2.0   \n",
       "3     0.317771  0.064857  0.721000  0.214000            0.0            0.0   \n",
       "4    -0.201950  0.134250  0.824750  0.041000            0.0            0.0   \n",
       "...        ...       ...       ...       ...            ...            ...   \n",
       "1128 -0.067250  0.154167  0.685500  0.160333            0.0            NaN   \n",
       "1129 -0.263600  0.084750  0.896500  0.018750            0.0            NaN   \n",
       "1130 -0.159411  0.088444  0.850889  0.060667            0.0            NaN   \n",
       "1131  0.016886  0.070429  0.843143  0.086286            NaN            NaN   \n",
       "1132  0.750600  0.000000  0.757000  0.243000            NaN            NaN   \n",
       "\n",
       "      GSPTSEDirection  IXICDirection  \n",
       "0                 NaN            NaN  \n",
       "1                 0.0            0.0  \n",
       "2                 2.0            2.0  \n",
       "3                 2.0            2.0  \n",
       "4                 0.0            0.0  \n",
       "...               ...            ...  \n",
       "1128              NaN            NaN  \n",
       "1129              NaN            NaN  \n",
       "1130              NaN            NaN  \n",
       "1131              NaN            NaN  \n",
       "1132              NaN            NaN  \n",
       "\n",
       "[1133 rows x 8 columns]"
      ]
     },
     "execution_count": 35,
     "metadata": {},
     "output_type": "execute_result"
    }
   ],
   "source": [
    "df.groupby(['Date'])[['combined','negative','neutral','positive','CL=FDirection','GSPCDirection','GSPTSEDirection','IXICDirection']]\\\n",
    "    .mean().reset_index(drop=True)\n",
    "\n",
    "    # .to_csv('data/finaldata.csv',index=False, header=True)"
   ]
  },
  {
   "cell_type": "code",
   "execution_count": 28,
   "metadata": {},
   "outputs": [],
   "source": [
    "#df.groupby(['Date'])[['combined','negative','neutral','positive','inc/dec']].mean().reset_index(drop=True)"
   ]
  },
  {
   "cell_type": "code",
   "execution_count": 29,
   "metadata": {},
   "outputs": [],
   "source": [
    "#df[['Date','Content','Content1','combined','negative','neutral','positive','inc/dec']].to_csv('data/results.csv',index=False, sep=',')"
   ]
  },
  {
   "cell_type": "code",
   "execution_count": null,
   "metadata": {},
   "outputs": [],
   "source": []
  }
 ],
 "metadata": {
  "interpreter": {
   "hash": "5fff4187167d39f490158a3105a8bcfc6b45dc563f2a068c566e07d07c54b822"
  },
  "kernelspec": {
   "display_name": "Python 3.9.9 ('env': venv)",
   "language": "python",
   "name": "python3"
  },
  "language_info": {
   "codemirror_mode": {
    "name": "ipython",
    "version": 3
   },
   "file_extension": ".py",
   "mimetype": "text/x-python",
   "name": "python",
   "nbconvert_exporter": "python",
   "pygments_lexer": "ipython3",
   "version": "3.9.9"
  },
  "orig_nbformat": 4
 },
 "nbformat": 4,
 "nbformat_minor": 2
}
