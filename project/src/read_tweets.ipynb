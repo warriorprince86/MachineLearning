{
 "cells": [
  {
   "cell_type": "code",
   "execution_count": 50,
   "metadata": {},
   "outputs": [],
   "source": [
    "import pandas as pd\n",
    "import numpy as np\n",
    "pd.set_option('display.max_columns', 1000, 'display.max_colwidth', 1000, 'display.max_rows',1000)"
   ]
  },
  {
   "cell_type": "markdown",
   "metadata": {},
   "source": [
    "# Data Read \"elon-musk-tweets\" file"
   ]
  },
  {
   "cell_type": "code",
   "execution_count": 51,
   "metadata": {},
   "outputs": [
    {
     "name": "stdout",
     "output_type": "stream",
     "text": [
      "<class 'pandas.core.frame.DataFrame'>\n",
      "RangeIndex: 13610 entries, 0 to 13609\n",
      "Data columns (total 5 columns):\n",
      " #   Column          Non-Null Count  Dtype \n",
      "---  ------          --------------  ----- \n",
      " 0   text            13590 non-null  object\n",
      " 1   username        13610 non-null  object\n",
      " 2   linktotweet     13610 non-null  object\n",
      " 3   tweetembedcode  13610 non-null  object\n",
      " 4   createdat       13610 non-null  object\n",
      "dtypes: object(5)\n",
      "memory usage: 531.8+ KB\n"
     ]
    }
   ],
   "source": [
    "df1 = pd.read_csv('data/elon-musk-tweets.csv')\n",
    "df1.info()"
   ]
  },
  {
   "cell_type": "code",
   "execution_count": 52,
   "metadata": {},
   "outputs": [],
   "source": [
    "start = '2020-03-15'\n",
    "end = '2022-03-14'"
   ]
  },
  {
   "cell_type": "code",
   "execution_count": 53,
   "metadata": {},
   "outputs": [
    {
     "name": "stdout",
     "output_type": "stream",
     "text": [
      "<class 'pandas.core.frame.DataFrame'>\n",
      "RangeIndex: 6872 entries, 0 to 6871\n",
      "Data columns (total 2 columns):\n",
      " #   Column   Non-Null Count  Dtype         \n",
      "---  ------   --------------  -----         \n",
      " 0   Content  6862 non-null   object        \n",
      " 1   Time     6872 non-null   datetime64[ns]\n",
      "dtypes: datetime64[ns](1), object(1)\n",
      "memory usage: 107.5+ KB\n"
     ]
    }
   ],
   "source": [
    "df1 = df1[(df1.createdat >= start) & (df1.createdat <= end)][['text','createdat']]\\\n",
    "    .sort_values(by='createdat', ascending=False)\\\n",
    "    .reset_index(drop = True)\n",
    "df1.rename(columns={'text':'Content', 'createdat':'Time'}, inplace = True)\n",
    "\n",
    "def date_time(x):\n",
    "    x = str.split(x,sep='T')\n",
    "    time = str.split(x[0],sep=\"-\")\n",
    "    year = int(time[0])\n",
    "    mon = int(time[1])\n",
    "    day = int(time[2])\n",
    "\n",
    "    time = str.split(x[1],sep=\":\")\n",
    "    hr = int(time[0])\n",
    "    min = int(time[1])\n",
    "    sec = int(time[2])\n",
    "    sec = int('0')\n",
    "\n",
    "    date = datetime(year=year,month=mon,day=day,hour=hr, minute=min, second=sec)\n",
    "    \n",
    "    return date\n",
    "\n",
    "df1['Time'] = df1.Time.apply(lambda x: date_time(x))\n",
    "\n",
    "df1.info()"
   ]
  },
  {
   "cell_type": "markdown",
   "metadata": {},
   "source": [
    "# Data Read \"Elon Musk 2\" file"
   ]
  },
  {
   "cell_type": "code",
   "execution_count": 57,
   "metadata": {},
   "outputs": [
    {
     "name": "stdout",
     "output_type": "stream",
     "text": [
      "<class 'pandas.core.frame.DataFrame'>\n",
      "RangeIndex: 7918 entries, 0 to 7917\n",
      "Data columns (total 14 columns):\n",
      " #   Column         Non-Null Count  Dtype \n",
      "---  ------         --------------  ----- \n",
      " 0   PostID         7918 non-null   int64 \n",
      " 1   Time           7918 non-null   object\n",
      " 2   TweetUrl       7918 non-null   object\n",
      " 3   Content        7918 non-null   object\n",
      " 4   UserID         7918 non-null   int64 \n",
      " 5   UserName       7918 non-null   object\n",
      " 6   RetweetNum     7918 non-null   int64 \n",
      " 7   LikeNum        7918 non-null   int64 \n",
      " 8   ReplyNum       7918 non-null   int64 \n",
      " 9   UserHandle     7918 non-null   object\n",
      " 10  UserUrl        7918 non-null   object\n",
      " 11  Location       112 non-null    object\n",
      " 12  UserID_PostID  7918 non-null   object\n",
      " 13  CurrentPage    7918 non-null   int64 \n",
      "dtypes: int64(6), object(8)\n",
      "memory usage: 866.2+ KB\n"
     ]
    }
   ],
   "source": [
    "df2 = pd.read_csv('data/Elon Musk 2.csv')\n",
    "df2.info()"
   ]
  },
  {
   "cell_type": "code",
   "execution_count": 58,
   "metadata": {},
   "outputs": [
    {
     "name": "stdout",
     "output_type": "stream",
     "text": [
      "<class 'pandas.core.frame.DataFrame'>\n",
      "Int64Index: 7136 entries, 511 to 7129\n",
      "Data columns (total 2 columns):\n",
      " #   Column   Non-Null Count  Dtype         \n",
      "---  ------   --------------  -----         \n",
      " 0   Content  7136 non-null   object        \n",
      " 1   Time     7136 non-null   datetime64[ns]\n",
      "dtypes: datetime64[ns](1), object(1)\n",
      "memory usage: 167.2+ KB\n"
     ]
    }
   ],
   "source": [
    "from datetime import datetime\n",
    "months_in_year = ['Jan', 'Feb', 'Mar', 'Apr', 'May', 'Jun', 'Jul', 'Aug', 'Sep', 'Oct', 'Nov', 'Dec']\n",
    "months_in_year.index('Jan')\n",
    "\n",
    "df2 = df2[['Content','Time']].sort_values(by='Time')\n",
    "\n",
    "def time_convert(x):\n",
    "    x = str.split(x)\n",
    "    year = int(x[-1])\n",
    "    mon = int(months_in_year.index(x[1])+1)\n",
    "    day = int(x[2])\n",
    "    time = x[3].split(':')\n",
    "    hr = int(time[0])\n",
    "    min = int(time[1])\n",
    "    sec = int(time[2])\n",
    "    sec = int('0')\n",
    "    date = datetime(year=year,month=mon,day=day,hour=hr, minute=min, second=sec)\n",
    "    return date\n",
    "\n",
    "df2['Time'] = df2.Time.apply(lambda x: time_convert(x))\n",
    "\n",
    "df2 = df2[(df2.Time >= start) & (df2.Time <= end)].sort_values(by='Time',ascending=False)\n",
    "df2.info()\n"
   ]
  },
  {
   "cell_type": "markdown",
   "metadata": {},
   "source": [
    "# Combine two dataset"
   ]
  },
  {
   "cell_type": "code",
   "execution_count": 81,
   "metadata": {},
   "outputs": [
    {
     "name": "stdout",
     "output_type": "stream",
     "text": [
      "min Time: 2020-03-15 03:02:00\n",
      "max Time: 2022-03-11 19:41:00\n",
      "<class 'pandas.core.frame.DataFrame'>\n",
      "RangeIndex: 10786 entries, 0 to 10785\n",
      "Data columns (total 3 columns):\n",
      " #   Column   Non-Null Count  Dtype         \n",
      "---  ------   --------------  -----         \n",
      " 0   index    10786 non-null  int64         \n",
      " 1   Content  10776 non-null  object        \n",
      " 2   Time     10786 non-null  datetime64[ns]\n",
      "dtypes: datetime64[ns](1), int64(1), object(1)\n",
      "memory usage: 252.9+ KB\n"
     ]
    },
    {
     "name": "stderr",
     "output_type": "stream",
     "text": [
      "/var/folders/0f/s8khq6c91r5dp2kn1ggjqb800000gn/T/ipykernel_42319/3906135938.py:1: FutureWarning: The frame.append method is deprecated and will be removed from pandas in a future version. Use pandas.concat instead.\n",
      "  data = df1.append(df2).drop_duplicates(subset='Time').reset_index(drop=False)\n"
     ]
    }
   ],
   "source": [
    "data = df1.append(df2).drop_duplicates(subset='Time').reset_index(drop=False)\n",
    "print((\"min Time: \"+str(data.Time.min())))\n",
    "print((\"max Time: \"+str(data.Time.max())))\n",
    "data.to_csv(\"data/combined_data.csv\")\n",
    "data.info()"
   ]
  },
  {
   "cell_type": "markdown",
   "metadata": {},
   "source": [
    "## Tweet Content Cleaning"
   ]
  },
  {
   "cell_type": "code",
   "execution_count": null,
   "metadata": {},
   "outputs": [],
   "source": [
    "def sentence_to_wordlist(sentence, remove_stopwords=False):\n",
    "    # 1. Remove non-letters\n",
    "    sentence_text = re.sub(r'[^\\w\\s]','', sentence)\n",
    "    # 2. Remove all numbers\n",
    "    sentence_text = re.sub(r'[0-9]+', '', sentence_text)\n",
    "    # 3. Convert words to lower case and split them\n",
    "    words = sentence_text.lower().split()\n",
    "    # 4. remove website address   \n",
    "    sentence = re.sub(r'^https?:\\/\\/.*[\\r\\n]*', '', sentence, flags=re.DOTALL)\n",
    "    #sentence_text = re.sub(r'^https?:\\/\\/.*[\\r\\n]*', '', flags=re.MULTILINE)\n",
    "    #6. drop the https\n",
    "    #sentence = re.sub(r'[%https]', '', sentence)\n",
    "    # 4. drop http\n",
    "    p1=re.compile(r'http\\S+', re.DOTALL)\n",
    "    sentence = re.sub(p1, '', sentence)\n",
    "    # 5. drop https\n",
    "    p1=re.compile(r'https\\S+', re.DOTALL)\n",
    "    sentence = re.sub(p1, '', sentence)\n",
    "    # 5. Stemming\n",
    "    words = [stemmer.stem(w) for w in words] \n",
    "    # 6. Lemmatizing\n",
    "    words = [lemmatizer.lemmatize(word) for word in words]\n",
    "    # 7. Return a list of words\n",
    "    return(words)"
   ]
  }
 ],
 "metadata": {
  "interpreter": {
   "hash": "5fff4187167d39f490158a3105a8bcfc6b45dc563f2a068c566e07d07c54b822"
  },
  "kernelspec": {
   "display_name": "Python 3.9.9 ('env': venv)",
   "language": "python",
   "name": "python3"
  },
  "language_info": {
   "codemirror_mode": {
    "name": "ipython",
    "version": 3
   },
   "file_extension": ".py",
   "mimetype": "text/x-python",
   "name": "python",
   "nbconvert_exporter": "python",
   "pygments_lexer": "ipython3",
   "version": "3.9.9"
  },
  "orig_nbformat": 4
 },
 "nbformat": 4,
 "nbformat_minor": 2
}
