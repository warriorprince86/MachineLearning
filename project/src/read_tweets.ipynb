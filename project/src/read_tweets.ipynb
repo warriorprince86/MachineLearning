{
 "cells": [
  {
   "cell_type": "code",
   "execution_count": 12,
   "metadata": {},
   "outputs": [],
   "source": [
    "import pandas as pd\n",
    "import numpy as np\n",
    "pd.set_option('display.max_columns', 1000, 'display.max_colwidth', 1000, 'display.max_rows',1000)"
   ]
  },
  {
   "cell_type": "code",
   "execution_count": 13,
   "metadata": {},
   "outputs": [
    {
     "name": "stdout",
     "output_type": "stream",
     "text": [
      "<class 'pandas.core.frame.DataFrame'>\n",
      "RangeIndex: 7918 entries, 0 to 7917\n",
      "Data columns (total 14 columns):\n",
      " #   Column         Non-Null Count  Dtype \n",
      "---  ------         --------------  ----- \n",
      " 0   PostID         7918 non-null   int64 \n",
      " 1   Time           7918 non-null   object\n",
      " 2   TweetUrl       7918 non-null   object\n",
      " 3   Content        7918 non-null   object\n",
      " 4   UserID         7918 non-null   int64 \n",
      " 5   UserName       7918 non-null   object\n",
      " 6   RetweetNum     7918 non-null   int64 \n",
      " 7   LikeNum        7918 non-null   int64 \n",
      " 8   ReplyNum       7918 non-null   int64 \n",
      " 9   UserHandle     7918 non-null   object\n",
      " 10  UserUrl        7918 non-null   object\n",
      " 11  Location       112 non-null    object\n",
      " 12  UserID_PostID  7918 non-null   object\n",
      " 13  CurrentPage    7918 non-null   int64 \n",
      "dtypes: int64(6), object(8)\n",
      "memory usage: 866.2+ KB\n"
     ]
    }
   ],
   "source": [
    "df = pd.read_csv('data/Elon Musk 2.csv')\n",
    "df.info()"
   ]
  },
  {
   "cell_type": "code",
   "execution_count": 14,
   "metadata": {},
   "outputs": [
    {
     "data": {
      "text/html": [
       "<div>\n",
       "<style scoped>\n",
       "    .dataframe tbody tr th:only-of-type {\n",
       "        vertical-align: middle;\n",
       "    }\n",
       "\n",
       "    .dataframe tbody tr th {\n",
       "        vertical-align: top;\n",
       "    }\n",
       "\n",
       "    .dataframe thead th {\n",
       "        text-align: right;\n",
       "    }\n",
       "</style>\n",
       "<table border=\"1\" class=\"dataframe\">\n",
       "  <thead>\n",
       "    <tr style=\"text-align: right;\">\n",
       "      <th></th>\n",
       "      <th>Time</th>\n",
       "      <th>Content</th>\n",
       "    </tr>\n",
       "  </thead>\n",
       "  <tbody>\n",
       "    <tr>\n",
       "      <th>0</th>\n",
       "      <td>Wed May 26 20:30:57 +0000 2021</td>\n",
       "      <td>Just surpassed 200k Powerwall installs globally 🔋🏡☀️ https://t.co/SX0LNLGmGG</td>\n",
       "    </tr>\n",
       "    <tr>\n",
       "      <th>1</th>\n",
       "      <td>Thu May 20 07:54:54 +0000 2021</td>\n",
       "      <td>Tesla Model S Plaid delivery event\\nJune 3 at our California factory\\n\\nFastest production car ever\\n0 to 60mph in under 2 secs</td>\n",
       "    </tr>\n",
       "    <tr>\n",
       "      <th>2</th>\n",
       "      <td>Thu May 06 19:26:59 +0000 2021</td>\n",
       "      <td>Make humanity a multiplanet species!</td>\n",
       "    </tr>\n",
       "    <tr>\n",
       "      <th>3</th>\n",
       "      <td>Fri Jun 04 01:07:04 +0000 2021</td>\n",
       "      <td>#Bitcoin 💔 https://t.co/lNnEfMdtJf</td>\n",
       "    </tr>\n",
       "    <tr>\n",
       "      <th>4</th>\n",
       "      <td>Thu May 20 10:41:00 +0000 2021</td>\n",
       "      <td>How much is that Doge in the window? https://t.co/bxTkWOr50V</td>\n",
       "    </tr>\n",
       "    <tr>\n",
       "      <th>...</th>\n",
       "      <td>...</td>\n",
       "      <td>...</td>\n",
       "    </tr>\n",
       "    <tr>\n",
       "      <th>7774</th>\n",
       "      <td>Tue Nov 26 08:17:12 +0000 2019</td>\n",
       "      <td>@Nnedi @Tesla We’d be happy to help</td>\n",
       "    </tr>\n",
       "    <tr>\n",
       "      <th>7775</th>\n",
       "      <td>Sun Dec 01 20:58:45 +0000 2019</td>\n",
       "      <td>@royalsociety Tesla was almost called Faraday, as original holder of Tesla Motors trademark refused to sell it to us!</td>\n",
       "    </tr>\n",
       "    <tr>\n",
       "      <th>7776</th>\n",
       "      <td>Sun Dec 01 06:37:02 +0000 2019</td>\n",
       "      <td>@Erdayastronaut @IntEngineering Overall shape is good for low drag coefficient. Matters a lot exactly how you trip airflow at edges &amp;amp; guide air around wheels, like an invisible sculpture.</td>\n",
       "    </tr>\n",
       "    <tr>\n",
       "      <th>7777</th>\n",
       "      <td>Sun Dec 01 05:00:10 +0000 2019</td>\n",
       "      <td>@sivarajkumar237 @ZackBornstein @TheOnion They are dead to me</td>\n",
       "    </tr>\n",
       "    <tr>\n",
       "      <th>7778</th>\n",
       "      <td>Sun Dec 01 05:08:50 +0000 2019</td>\n",
       "      <td>@indiealexh @es2120 @Tesla @woodhaus2 Safety work is done by engineering, with passive safety by body/chassis eng &amp;amp; active by Autopilot. Design in automotive refers to look &amp;amp; feel.</td>\n",
       "    </tr>\n",
       "  </tbody>\n",
       "</table>\n",
       "<p>7779 rows × 2 columns</p>\n",
       "</div>"
      ],
      "text/plain": [
       "                                Time                                                                                                                                                                                          Content\n",
       "0     Wed May 26 20:30:57 +0000 2021                                                                                                                     Just surpassed 200k Powerwall installs globally 🔋🏡☀️ https://t.co/SX0LNLGmGG\n",
       "1     Thu May 20 07:54:54 +0000 2021                                                                  Tesla Model S Plaid delivery event\\nJune 3 at our California factory\\n\\nFastest production car ever\\n0 to 60mph in under 2 secs\n",
       "2     Thu May 06 19:26:59 +0000 2021                                                                                                                                                             Make humanity a multiplanet species!\n",
       "3     Fri Jun 04 01:07:04 +0000 2021                                                                                                                                                               #Bitcoin 💔 https://t.co/lNnEfMdtJf\n",
       "4     Thu May 20 10:41:00 +0000 2021                                                                                                                                     How much is that Doge in the window? https://t.co/bxTkWOr50V\n",
       "...                              ...                                                                                                                                                                                              ...\n",
       "7774  Tue Nov 26 08:17:12 +0000 2019                                                                                                                                                              @Nnedi @Tesla We’d be happy to help\n",
       "7775  Sun Dec 01 20:58:45 +0000 2019                                                                            @royalsociety Tesla was almost called Faraday, as original holder of Tesla Motors trademark refused to sell it to us!\n",
       "7776  Sun Dec 01 06:37:02 +0000 2019  @Erdayastronaut @IntEngineering Overall shape is good for low drag coefficient. Matters a lot exactly how you trip airflow at edges &amp; guide air around wheels, like an invisible sculpture.\n",
       "7777  Sun Dec 01 05:00:10 +0000 2019                                                                                                                                    @sivarajkumar237 @ZackBornstein @TheOnion They are dead to me\n",
       "7778  Sun Dec 01 05:08:50 +0000 2019     @indiealexh @es2120 @Tesla @woodhaus2 Safety work is done by engineering, with passive safety by body/chassis eng &amp; active by Autopilot. Design in automotive refers to look &amp; feel.\n",
       "\n",
       "[7779 rows x 2 columns]"
      ]
     },
     "execution_count": 14,
     "metadata": {},
     "output_type": "execute_result"
    }
   ],
   "source": [
    "df[(df.UserHandle == 'Tesla') | (df.UserHandle == 'elonmusk')].reset_index(drop=True)[['Time','Content']]"
   ]
  },
  {
   "cell_type": "code",
   "execution_count": null,
   "metadata": {},
   "outputs": [],
   "source": []
  }
 ],
 "metadata": {
  "interpreter": {
   "hash": "5fff4187167d39f490158a3105a8bcfc6b45dc563f2a068c566e07d07c54b822"
  },
  "kernelspec": {
   "display_name": "Python 3.9.9 ('env': venv)",
   "language": "python",
   "name": "python3"
  },
  "language_info": {
   "codemirror_mode": {
    "name": "ipython",
    "version": 3
   },
   "file_extension": ".py",
   "mimetype": "text/x-python",
   "name": "python",
   "nbconvert_exporter": "python",
   "pygments_lexer": "ipython3",
   "version": "3.9.9"
  },
  "orig_nbformat": 4
 },
 "nbformat": 4,
 "nbformat_minor": 2
}
