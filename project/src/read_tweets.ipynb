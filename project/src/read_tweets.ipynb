{
 "cells": [
  {
   "cell_type": "code",
   "execution_count": 2,
   "metadata": {},
   "outputs": [],
   "source": [
    "import pandas as pd\n",
    "import numpy as np"
   ]
  },
  {
   "cell_type": "code",
   "execution_count": 16,
   "metadata": {},
   "outputs": [
    {
     "name": "stdout",
     "output_type": "stream",
     "text": [
      "<class 'pandas.core.frame.DataFrame'>\n",
      "RangeIndex: 7918 entries, 0 to 7917\n",
      "Data columns (total 14 columns):\n",
      " #   Column         Non-Null Count  Dtype \n",
      "---  ------         --------------  ----- \n",
      " 0   PostID         7918 non-null   int64 \n",
      " 1   Time           7918 non-null   object\n",
      " 2   TweetUrl       7918 non-null   object\n",
      " 3   Content        7918 non-null   object\n",
      " 4   UserID         7918 non-null   int64 \n",
      " 5   UserName       7918 non-null   object\n",
      " 6   RetweetNum     7918 non-null   int64 \n",
      " 7   LikeNum        7918 non-null   int64 \n",
      " 8   ReplyNum       7918 non-null   int64 \n",
      " 9   UserHandle     7918 non-null   object\n",
      " 10  UserUrl        7918 non-null   object\n",
      " 11  Location       112 non-null    object\n",
      " 12  UserID_PostID  7918 non-null   object\n",
      " 13  CurrentPage    7918 non-null   int64 \n",
      "dtypes: int64(6), object(8)\n",
      "memory usage: 866.2+ KB\n"
     ]
    }
   ],
   "source": [
    "df = pd.read_csv('data/Elon Musk 2.csv')\n",
    "df.info()"
   ]
  },
  {
   "cell_type": "code",
   "execution_count": 17,
   "metadata": {},
   "outputs": [
    {
     "name": "stdout",
     "output_type": "stream",
     "text": [
      "<class 'pandas.core.frame.DataFrame'>\n",
      "Int64Index: 14 entries, 0 to 7879\n",
      "Data columns (total 14 columns):\n",
      " #   Column         Non-Null Count  Dtype \n",
      "---  ------         --------------  ----- \n",
      " 0   PostID         14 non-null     int64 \n",
      " 1   Time           14 non-null     object\n",
      " 2   TweetUrl       14 non-null     object\n",
      " 3   Content        14 non-null     object\n",
      " 4   UserID         14 non-null     int64 \n",
      " 5   UserName       14 non-null     object\n",
      " 6   RetweetNum     14 non-null     int64 \n",
      " 7   LikeNum        14 non-null     int64 \n",
      " 8   ReplyNum       14 non-null     int64 \n",
      " 9   UserHandle     14 non-null     object\n",
      " 10  UserUrl        14 non-null     object\n",
      " 11  Location       0 non-null      object\n",
      " 12  UserID_PostID  14 non-null     object\n",
      " 13  CurrentPage    14 non-null     int64 \n",
      "dtypes: int64(6), object(8)\n",
      "memory usage: 1.6+ KB\n"
     ]
    }
   ],
   "source": [
    "df[(df.UserHandle == 'Tesla') | (df.UserName == 'elonmusk')].info()"
   ]
  },
  {
   "cell_type": "code",
   "execution_count": null,
   "metadata": {},
   "outputs": [],
   "source": []
  }
 ],
 "metadata": {
  "interpreter": {
   "hash": "5fff4187167d39f490158a3105a8bcfc6b45dc563f2a068c566e07d07c54b822"
  },
  "kernelspec": {
   "display_name": "Python 3.9.9 ('env': venv)",
   "language": "python",
   "name": "python3"
  },
  "language_info": {
   "codemirror_mode": {
    "name": "ipython",
    "version": 3
   },
   "file_extension": ".py",
   "mimetype": "text/x-python",
   "name": "python",
   "nbconvert_exporter": "python",
   "pygments_lexer": "ipython3",
   "version": "3.9.9"
  },
  "orig_nbformat": 4
 },
 "nbformat": 4,
 "nbformat_minor": 2
}
