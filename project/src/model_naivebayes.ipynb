{
  "cells": [
    {
      "cell_type": "markdown",
      "metadata": {
        "colab": {
          "base_uri": "https://localhost:8080/"
        },
        "id": "IRa3KP8Uu6b_",
        "outputId": "8a5f60c8-3cad-484b-8ae7-81fa3e446845"
      },
      "source": [
        "from google.colab import drive\n",
        "drive.mount('/content/drive')\n"
      ]
    },
    {
      "cell_type": "code",
      "execution_count": 2,
      "metadata": {
        "id": "IKA71ymyu3AJ"
      },
      "outputs": [],
      "source": [
        "import pandas as pd\n",
        "pd.set_option('display.max_columns', 1000, 'display.max_colwidth', 1000, 'display.max_rows',1000)"
      ]
    },
    {
      "cell_type": "markdown",
      "metadata": {
        "id": "da2W73GFu3AL"
      },
      "source": [
        "# Read Data"
      ]
    },
    {
      "cell_type": "code",
      "execution_count": 13,
      "metadata": {
        "colab": {
          "base_uri": "https://localhost:8080/",
          "height": 353
        },
        "id": "o8rkpbJtu3AM",
        "outputId": "bc579acc-05d4-432b-d486-e3692a37ad71"
      },
      "outputs": [
        {
          "data": {
            "text/html": [
              "\n",
              "  <div id=\"df-9763cb5c-d144-411d-ab41-bee9721bfe75\">\n",
              "    <div class=\"colab-df-container\">\n",
              "      <div>\n",
              "<style scoped>\n",
              "    .dataframe tbody tr th:only-of-type {\n",
              "        vertical-align: middle;\n",
              "    }\n",
              "\n",
              "    .dataframe tbody tr th {\n",
              "        vertical-align: top;\n",
              "    }\n",
              "\n",
              "    .dataframe thead th {\n",
              "        text-align: right;\n",
              "    }\n",
              "</style>\n",
              "<table border=\"1\" class=\"dataframe\">\n",
              "  <thead>\n",
              "    <tr style=\"text-align: right;\">\n",
              "      <th></th>\n",
              "      <th>date</th>\n",
              "      <th>btc-usdopen</th>\n",
              "      <th>clfopen</th>\n",
              "      <th>tslaopen</th>\n",
              "      <th>gspcopen</th>\n",
              "      <th>gsptseopen</th>\n",
              "      <th>ixicopen</th>\n",
              "      <th>btc-usddelta</th>\n",
              "      <th>btc-usddirection</th>\n",
              "      <th>clfdelta</th>\n",
              "      <th>clfdirection</th>\n",
              "      <th>tsladelta</th>\n",
              "      <th>tsladirection</th>\n",
              "      <th>gspcdelta</th>\n",
              "      <th>gspcdirection</th>\n",
              "      <th>gsptsedelta</th>\n",
              "      <th>gsptsedirection</th>\n",
              "      <th>ixicdelta</th>\n",
              "      <th>ixicdirection</th>\n",
              "      <th>tweet_date</th>\n",
              "      <th>content</th>\n",
              "      <th>retweetnum</th>\n",
              "      <th>likenum</th>\n",
              "      <th>userhandle</th>\n",
              "      <th>content1</th>\n",
              "      <th>tweet_day</th>\n",
              "      <th>day</th>\n",
              "      <th>score</th>\n",
              "      <th>negative</th>\n",
              "      <th>neutral</th>\n",
              "      <th>positive</th>\n",
              "      <th>combined</th>\n",
              "      <th>sentiment</th>\n",
              "    </tr>\n",
              "  </thead>\n",
              "  <tbody>\n",
              "    <tr>\n",
              "      <th>0</th>\n",
              "      <td>2022-01-26 09:30:00</td>\n",
              "      <td>38421.363281</td>\n",
              "      <td>86.43</td>\n",
              "      <td>952.429993</td>\n",
              "      <td>4408.430176</td>\n",
              "      <td>20781.300781</td>\n",
              "      <td>13868.869141</td>\n",
              "      <td>0.158282</td>\n",
              "      <td>2.0</td>\n",
              "      <td>-0.103958</td>\n",
              "      <td>0.0</td>\n",
              "      <td>NaN</td>\n",
              "      <td>NaN</td>\n",
              "      <td>NaN</td>\n",
              "      <td>NaN</td>\n",
              "      <td>NaN</td>\n",
              "      <td>NaN</td>\n",
              "      <td>NaN</td>\n",
              "      <td>NaN</td>\n",
              "      <td>2022-01-25 16:00:26+00:00</td>\n",
              "      <td>The numbers are in, and the world still loves Adele—even at her worst https://t.co/RIl3yyFA4V https://t.co/mbI3YbCZrI</td>\n",
              "      <td>91</td>\n",
              "      <td>566</td>\n",
              "      <td>business</td>\n",
              "      <td>the number are in and the world still love adeleeven at her worst</td>\n",
              "      <td>Tuesday</td>\n",
              "      <td>Wednesday</td>\n",
              "      <td>[0.209, 0.51, 0.281, 0.1027]</td>\n",
              "      <td>0.209</td>\n",
              "      <td>0.51</td>\n",
              "      <td>0.281</td>\n",
              "      <td>0.1027</td>\n",
              "      <td>2</td>\n",
              "    </tr>\n",
              "  </tbody>\n",
              "</table>\n",
              "</div>\n",
              "      <button class=\"colab-df-convert\" onclick=\"convertToInteractive('df-9763cb5c-d144-411d-ab41-bee9721bfe75')\"\n",
              "              title=\"Convert this dataframe to an interactive table.\"\n",
              "              style=\"display:none;\">\n",
              "        \n",
              "  <svg xmlns=\"http://www.w3.org/2000/svg\" height=\"24px\"viewBox=\"0 0 24 24\"\n",
              "       width=\"24px\">\n",
              "    <path d=\"M0 0h24v24H0V0z\" fill=\"none\"/>\n",
              "    <path d=\"M18.56 5.44l.94 2.06.94-2.06 2.06-.94-2.06-.94-.94-2.06-.94 2.06-2.06.94zm-11 1L8.5 8.5l.94-2.06 2.06-.94-2.06-.94L8.5 2.5l-.94 2.06-2.06.94zm10 10l.94 2.06.94-2.06 2.06-.94-2.06-.94-.94-2.06-.94 2.06-2.06.94z\"/><path d=\"M17.41 7.96l-1.37-1.37c-.4-.4-.92-.59-1.43-.59-.52 0-1.04.2-1.43.59L10.3 9.45l-7.72 7.72c-.78.78-.78 2.05 0 2.83L4 21.41c.39.39.9.59 1.41.59.51 0 1.02-.2 1.41-.59l7.78-7.78 2.81-2.81c.8-.78.8-2.07 0-2.86zM5.41 20L4 18.59l7.72-7.72 1.47 1.35L5.41 20z\"/>\n",
              "  </svg>\n",
              "      </button>\n",
              "      \n",
              "  <style>\n",
              "    .colab-df-container {\n",
              "      display:flex;\n",
              "      flex-wrap:wrap;\n",
              "      gap: 12px;\n",
              "    }\n",
              "\n",
              "    .colab-df-convert {\n",
              "      background-color: #E8F0FE;\n",
              "      border: none;\n",
              "      border-radius: 50%;\n",
              "      cursor: pointer;\n",
              "      display: none;\n",
              "      fill: #1967D2;\n",
              "      height: 32px;\n",
              "      padding: 0 0 0 0;\n",
              "      width: 32px;\n",
              "    }\n",
              "\n",
              "    .colab-df-convert:hover {\n",
              "      background-color: #E2EBFA;\n",
              "      box-shadow: 0px 1px 2px rgba(60, 64, 67, 0.3), 0px 1px 3px 1px rgba(60, 64, 67, 0.15);\n",
              "      fill: #174EA6;\n",
              "    }\n",
              "\n",
              "    [theme=dark] .colab-df-convert {\n",
              "      background-color: #3B4455;\n",
              "      fill: #D2E3FC;\n",
              "    }\n",
              "\n",
              "    [theme=dark] .colab-df-convert:hover {\n",
              "      background-color: #434B5C;\n",
              "      box-shadow: 0px 1px 3px 1px rgba(0, 0, 0, 0.15);\n",
              "      filter: drop-shadow(0px 1px 2px rgba(0, 0, 0, 0.3));\n",
              "      fill: #FFFFFF;\n",
              "    }\n",
              "  </style>\n",
              "\n",
              "      <script>\n",
              "        const buttonEl =\n",
              "          document.querySelector('#df-9763cb5c-d144-411d-ab41-bee9721bfe75 button.colab-df-convert');\n",
              "        buttonEl.style.display =\n",
              "          google.colab.kernel.accessAllowed ? 'block' : 'none';\n",
              "\n",
              "        async function convertToInteractive(key) {\n",
              "          const element = document.querySelector('#df-9763cb5c-d144-411d-ab41-bee9721bfe75');\n",
              "          const dataTable =\n",
              "            await google.colab.kernel.invokeFunction('convertToInteractive',\n",
              "                                                     [key], {});\n",
              "          if (!dataTable) return;\n",
              "\n",
              "          const docLinkHtml = 'Like what you see? Visit the ' +\n",
              "            '<a target=\"_blank\" href=https://colab.research.google.com/notebooks/data_table.ipynb>data table notebook</a>'\n",
              "            + ' to learn more about interactive tables.';\n",
              "          element.innerHTML = '';\n",
              "          dataTable['output_type'] = 'display_data';\n",
              "          await google.colab.output.renderOutput(dataTable, element);\n",
              "          const docLink = document.createElement('div');\n",
              "          docLink.innerHTML = docLinkHtml;\n",
              "          element.appendChild(docLink);\n",
              "        }\n",
              "      </script>\n",
              "    </div>\n",
              "  </div>\n",
              "  "
            ],
            "text/plain": [
              "                  date   btc-usdopen  clfopen    tslaopen     gspcopen  \\\n",
              "0  2022-01-26 09:30:00  38421.363281    86.43  952.429993  4408.430176   \n",
              "\n",
              "     gsptseopen      ixicopen  btc-usddelta  btc-usddirection  clfdelta  \\\n",
              "0  20781.300781  13868.869141      0.158282               2.0 -0.103958   \n",
              "\n",
              "   clfdirection  tsladelta  tsladirection  gspcdelta  gspcdirection  \\\n",
              "0           0.0        NaN            NaN        NaN            NaN   \n",
              "\n",
              "   gsptsedelta  gsptsedirection  ixicdelta  ixicdirection  \\\n",
              "0          NaN              NaN        NaN            NaN   \n",
              "\n",
              "                  tweet_date  \\\n",
              "0  2022-01-25 16:00:26+00:00   \n",
              "\n",
              "                                                                                                                 content  \\\n",
              "0  The numbers are in, and the world still loves Adele—even at her worst https://t.co/RIl3yyFA4V https://t.co/mbI3YbCZrI   \n",
              "\n",
              "   retweetnum  likenum userhandle  \\\n",
              "0          91      566   business   \n",
              "\n",
              "                                                             content1  \\\n",
              "0   the number are in and the world still love adeleeven at her worst   \n",
              "\n",
              "  tweet_day        day                         score  negative  neutral  \\\n",
              "0   Tuesday  Wednesday  [0.209, 0.51, 0.281, 0.1027]     0.209     0.51   \n",
              "\n",
              "   positive  combined  sentiment  \n",
              "0     0.281    0.1027          2  "
            ]
          },
          "execution_count": 13,
          "metadata": {},
          "output_type": "execute_result"
        }
      ],
      "source": [
        "filename='data/df_raw.csv'\n",
        "# filename='/content/drive/MyDrive/ML3253-Project/df_raw.csv'\n",
        "\n",
        "df = pd.read_csv(filename)\n",
        "col=[i.replace(' ','') for i in df.columns]\n",
        "col=[i.replace('=','') for i in col]\n",
        "col=[str.lower(i) for i in col]\n",
        "df.columns=col\n",
        "df.head(1)"
      ]
    },
    {
      "cell_type": "code",
      "execution_count": 14,
      "metadata": {
        "colab": {
          "base_uri": "https://localhost:8080/"
        },
        "id": "sfjnu151u3AN",
        "outputId": "14cf279c-cb8f-4b7c-953e-35e8629113e4"
      },
      "outputs": [
        {
          "name": "stdout",
          "output_type": "stream",
          "text": [
            "[nltk_data] Downloading package wordnet to /root/nltk_data...\n",
            "[nltk_data]   Package wordnet is already up-to-date!\n",
            "[nltk_data] Downloading package punkt to /root/nltk_data...\n",
            "[nltk_data]   Package punkt is already up-to-date!\n",
            "[nltk_data] Downloading package stopwords to /root/nltk_data...\n",
            "[nltk_data]   Package stopwords is already up-to-date!\n",
            "[nltk_data] Downloading package omw-1.4 to /root/nltk_data...\n",
            "[nltk_data]   Package omw-1.4 is already up-to-date!\n"
          ]
        }
      ],
      "source": [
        "# To clean up texts\n",
        "import re\n",
        "import nltk\n",
        "# nltk.download() Download nltk data for first time use (download all packages)\n",
        "import nltk.data\n",
        "# from nltk.stem.snowball import SnowballStemmer\n",
        "# stemmer = SnowballStemmer('english')\n",
        "from nltk.stem import WordNetLemmatizer\n",
        "lemmatizer = WordNetLemmatizer()\n",
        "\n",
        "\n",
        "# tokenizer = nltk.data.load('nltk:tokenizers/punkt/english.pickle')\n",
        "nltk.download('wordnet')\n",
        "nltk.download('punkt')\n",
        "nltk.download('stopwords')\n",
        "nltk.download('omw-1.4')\n",
        "\n",
        "from nltk.corpus import stopwords\n",
        "stop_words = set(stopwords.words('english'))\n",
        "\n",
        "def sentence_to_wordlist(sentence, remove_stopwords=False):\n",
        "    # 0. remove mentions(@), Hashtag(#)\n",
        "    sentence = re.sub(r'@[^\\s]+', '', sentence,flags=re.MULTILINE )\n",
        "    sentence = re.sub(r'#[^\\s]+', '', sentence,flags=re.MULTILINE )\n",
        "    sentence = re.sub(r'RT[^\\s]+', '', sentence,flags=re.MULTILINE )\n",
        "    # 1. drop http\n",
        "    p1=re.compile(r'http?:\\/\\/\\S+', flags=re.DOTALL)\n",
        "    sentence = re.sub(p1, '', sentence)\n",
        "    # 2. drop https\n",
        "    p1=re.compile(r'https?:\\/\\/\\S+', flags=re.DOTALL)\n",
        "    sentence = re.sub(p1, '', sentence)\n",
        "    # 3. Remove non-letters\n",
        "    sentence = re.sub(r'[^\\w\\s]','', sentence)\n",
        "    # 4. Remove all numbers\n",
        "    sentence = re.sub(r'[0-9]+', '', sentence)\n",
        "    # 5. Convert words to lower case and split them\n",
        "    sentence = sentence.lower().split()\n",
        "    # Remove Stop Words\n",
        "    sentence = [word for word in sentence if not word in stop_words]\n",
        "    # 5. Stemming\n",
        "    # sentence = [stemmer.stem(w) for w in sentence] \n",
        "    # 6. Lemmatizing\n",
        "    sentence = [lemmatizer.lemmatize(word) for word in sentence]\n",
        "\n",
        "    #check if returned sentence is blank\n",
        "    if len(sentence)==0:\n",
        "      return np.nan\n",
        "    else:\n",
        "      # 7. Return a sentence of words\n",
        "      sentence_r = ''\n",
        "      for word in sentence:\n",
        "        sentence_r = sentence_r + ' ' + word\n",
        "      return(sentence_r)"
      ]
    },
    {
      "cell_type": "code",
      "execution_count": 15,
      "metadata": {
        "colab": {
          "base_uri": "https://localhost:8080/"
        },
        "id": "G-6Wwwviu3AP",
        "outputId": "13b52513-9775-4004-ecdd-c8ef6113d9e2"
      },
      "outputs": [
        {
          "data": {
            "text/plain": [
              "0    The numbers are in, and the world still loves Adele—even at her worst https://t.co/RIl3yyFA4V https://t.co/mbI3YbCZrI\n",
              "Name: content, dtype: object"
            ]
          },
          "execution_count": 15,
          "metadata": {},
          "output_type": "execute_result"
        }
      ],
      "source": [
        "df.content.head(1)"
      ]
    },
    {
      "cell_type": "code",
      "execution_count": 16,
      "metadata": {
        "colab": {
          "base_uri": "https://localhost:8080/"
        },
        "id": "Mj1F6Q4Wu3AP",
        "outputId": "72681ddb-e939-4b56-8d01-3f638dfbabd6"
      },
      "outputs": [
        {
          "data": {
            "text/plain": [
              "0     number world still love adeleeven worst\n",
              "Name: content2, dtype: object"
            ]
          },
          "execution_count": 16,
          "metadata": {},
          "output_type": "execute_result"
        }
      ],
      "source": [
        "df['content2']= df.content.apply(lambda x: sentence_to_wordlist(x))\n",
        "df['content2'].head(1)"
      ]
    },
    {
      "cell_type": "code",
      "execution_count": 20,
      "metadata": {
        "colab": {
          "base_uri": "https://localhost:8080/"
        },
        "id": "xUfqWtLMwKCN",
        "outputId": "1236a405-78e5-4c0a-a3ff-3a6e0f5ac846"
      },
      "outputs": [
        {
          "data": {
            "text/plain": [
              "Index(['date', 'btc-usdopen', 'clfopen', 'tslaopen', 'gspcopen', 'gsptseopen',\n",
              "       'ixicopen', 'btc-usddelta', 'btc-usddirection', 'clfdelta',\n",
              "       'clfdirection', 'tsladelta', 'tsladirection', 'gspcdelta',\n",
              "       'gspcdirection', 'gsptsedelta', 'gsptsedirection', 'ixicdelta',\n",
              "       'ixicdirection', 'tweet_date', 'content', 'retweetnum', 'likenum',\n",
              "       'userhandle', 'content1', 'tweet_day', 'day', 'score', 'negative',\n",
              "       'neutral', 'positive', 'combined', 'sentiment', 'content2'],\n",
              "      dtype='object')"
            ]
          },
          "execution_count": 20,
          "metadata": {},
          "output_type": "execute_result"
        }
      ],
      "source": [
        "df.columns"
      ]
    },
    {
      "cell_type": "code",
      "execution_count": 21,
      "metadata": {
        "id": "ub9DeFA0u3AQ"
      },
      "outputs": [],
      "source": [
        "TARGET = \"btc-usddirection\"\n",
        "col = ['content2',TARGET] #,'btc-usddirection','tsladirection','gspcdirection','ixicdirection']\n",
        "df_1 = df[col]\n",
        "df_1 = df_1[df_1[TARGET]!= 1] # remove data points when there is no price change\n",
        "df_1[TARGET].replace(2,1, inplace=True)  # Replace label 2 with 1\n",
        "\n",
        "df_1 = df_1.dropna()\n",
        "X = df_1['content2']\n",
        "y = df_1[col[1]]\n",
        "\n",
        "from sklearn.model_selection import train_test_split\n",
        "X_train, X_test, y_train, y_test = train_test_split(X, y, test_size=0.25, random_state=10086, shuffle=False)"
      ]
    },
    {
      "cell_type": "markdown",
      "metadata": {
        "id": "Jh1tni4jwdlA"
      },
      "source": [
        "# Text Analysis TFIDF"
      ]
    },
    {
      "cell_type": "code",
      "execution_count": 23,
      "metadata": {
        "colab": {
          "base_uri": "https://localhost:8080/"
        },
        "id": "_EPIbZ9wu3AR",
        "outputId": "2d7fa751-bde3-423f-d767-3dd581d33617"
      },
      "outputs": [
        {
          "data": {
            "text/plain": [
              "(22868, 20887)"
            ]
          },
          "execution_count": 23,
          "metadata": {},
          "output_type": "execute_result"
        }
      ],
      "source": [
        "from sklearn.feature_extraction.text import CountVectorizer\n",
        "count_vect = CountVectorizer()\n",
        "X_train_counts = count_vect.fit_transform(X_train)\n",
        "X_train_counts.shape"
      ]
    },
    {
      "cell_type": "code",
      "execution_count": 24,
      "metadata": {
        "colab": {
          "base_uri": "https://localhost:8080/"
        },
        "id": "1njFmNAEu3AS",
        "outputId": "c22ad3cd-2e9a-4db9-8603-ca33199d2d49"
      },
      "outputs": [
        {
          "data": {
            "text/plain": [
              "(22868, 20887)"
            ]
          },
          "execution_count": 24,
          "metadata": {},
          "output_type": "execute_result"
        }
      ],
      "source": [
        "from sklearn.feature_extraction.text import TfidfTransformer\n",
        "tfidf_transformer = TfidfTransformer()\n",
        "X_train_tfidf = tfidf_transformer.fit_transform(X_train_counts)\n",
        "X_train_tfidf.shape"
      ]
    },
    {
      "cell_type": "markdown",
      "metadata": {
        "id": "p4ZcBxJuw-Mg"
      },
      "source": [
        "# Metrics"
      ]
    },
    {
      "cell_type": "code",
      "execution_count": 30,
      "metadata": {
        "id": "uRKIMKxYxDZT"
      },
      "outputs": [],
      "source": [
        "class color:\n",
        "   PURPLE = '\\033[95m'\n",
        "   CYAN = '\\033[96m'\n",
        "   DARKCYAN = '\\033[36m'\n",
        "   BLUE = '\\033[94m'\n",
        "   GREEN = '\\033[92m'\n",
        "   YELLOW = '\\033[93m'\n",
        "   RED = '\\033[91m'\n",
        "   BOLD = '\\033[1m'\n",
        "   UNDERLINE = '\\033[4m'\n",
        "   END = '\\033[0m'\n",
        "\n",
        "def printpp(text,colorc):\n",
        "      return print(colorc + text + color.END)\n"
      ]
    },
    {
      "cell_type": "code",
      "execution_count": 31,
      "metadata": {
        "id": "sB4q0NcoxANa"
      },
      "outputs": [],
      "source": [
        "from sklearn.metrics import accuracy_score,classification_report,confusion_matrix,precision_score,recall_score, f1_score\n",
        "\n",
        "def classification_metric(y_test,y_pred):\n",
        "    # Calculate accuracy\n",
        "    printpp(\"accuracy_score %.4f\" % accuracy_score(y_test, y_pred),color.GREEN)\n",
        "    # precision\n",
        "    printpp(\"precision_score %.4f\"% precision_score(y_test,y_pred),color.GREEN)\n",
        "    # recall\n",
        "    printpp(\"recall_score %.4f\"% recall_score(y_test,y_pred),color.GREEN)\n",
        "    # F-1 score\n",
        "    printpp(\"f1_score %.4f\"% f1_score(y_test,y_pred),color.GREEN)\n",
        "    # Confusion Matrix\n",
        "    print(confusion_matrix(y_test,y_pred))\n",
        "    # Classification Report\n",
        "    #print(classification_report(y_test,y_pred))\n",
        "    return None\n",
        "\n",
        "def model_evaluation(model,X_train,y_train,X_test,y_test):\n",
        "    model = model.fit(X_train,y_train)\n",
        "    # training accuracy\n",
        "    print('Evaluation for Train Data')\n",
        "    classification_metric(y_train,model.predict(X_train))\n",
        "\n",
        "    #testing accuracy\n",
        "    print('Evaluation for Test Data')\n",
        "    classification_metric(y_test,model.predict(X_test))\n",
        "    return None"
      ]
    },
    {
      "cell_type": "markdown",
      "metadata": {
        "id": "o6ny4IEiwmCM"
      },
      "source": [
        "# Model - Naive Bayes  on Tweets Text"
      ]
    },
    {
      "cell_type": "code",
      "execution_count": 26,
      "metadata": {
        "id": "GUFEKwiSu3AT"
      },
      "outputs": [],
      "source": [
        "from sklearn.naive_bayes import MultinomialNB\n",
        "clf = MultinomialNB().fit(X_train_tfidf, y_train)"
      ]
    },
    {
      "cell_type": "code",
      "execution_count": 27,
      "metadata": {
        "id": "N0_uteCeu3AU"
      },
      "outputs": [],
      "source": [
        "from sklearn.pipeline import Pipeline\n",
        "text_clf = Pipeline([('vect', CountVectorizer()),\n",
        "                      ('tfidf', TfidfTransformer()),\n",
        "                      ('clf', MultinomialNB()),\n",
        "])\n",
        "text_clf = text_clf.fit(X_train, y_train)"
      ]
    },
    {
      "cell_type": "code",
      "execution_count": 28,
      "metadata": {
        "colab": {
          "base_uri": "https://localhost:8080/"
        },
        "id": "shCm0tixu3AU",
        "outputId": "8178e0fc-7616-4163-cb2e-acf5aab91ee3"
      },
      "outputs": [
        {
          "data": {
            "text/plain": [
              "0.4475928112291749"
            ]
          },
          "execution_count": 28,
          "metadata": {},
          "output_type": "execute_result"
        }
      ],
      "source": [
        "import numpy as np\n",
        "predicted = text_clf.predict(X_test)\n",
        "np.mean(predicted == y_test)"
      ]
    },
    {
      "cell_type": "code",
      "execution_count": 32,
      "metadata": {
        "colab": {
          "base_uri": "https://localhost:8080/"
        },
        "id": "6bFcrgLwxc5Q",
        "outputId": "c711a961-e611-4b15-a90e-4f1102f3db49"
      },
      "outputs": [
        {
          "name": "stdout",
          "output_type": "stream",
          "text": [
            "Evaluation for Train Data\n",
            "\u001b[92maccuracy_score 0.7441\u001b[0m\n",
            "\u001b[92mprecision_score 0.6969\u001b[0m\n",
            "\u001b[92mrecall_score 0.9591\u001b[0m\n",
            "\u001b[92mf1_score 0.8072\u001b[0m\n",
            "[[ 4762  5329]\n",
            " [  523 12254]]\n",
            "Evaluation for Test Data\n",
            "\u001b[92maccuracy_score 0.4476\u001b[0m\n",
            "\u001b[92mprecision_score 0.4283\u001b[0m\n",
            "\u001b[92mrecall_score 0.8526\u001b[0m\n",
            "\u001b[92mf1_score 0.5702\u001b[0m\n",
            "[[ 619 3728]\n",
            " [ 483 2793]]\n"
          ]
        }
      ],
      "source": [
        "model_evaluation(text_clf, X_train, y_train, X_test, y_test)"
      ]
    },
    {
      "cell_type": "markdown",
      "metadata": {
        "id": "MNPB3m5WxKdI"
      },
      "source": [
        "# SVM-SGD on Tweets Text"
      ]
    },
    {
      "cell_type": "code",
      "execution_count": 34,
      "metadata": {
        "colab": {
          "base_uri": "https://localhost:8080/"
        },
        "id": "nVUyl_Tku3AV",
        "outputId": "ddfb8009-5eb3-440d-a8b2-19ecb704620d"
      },
      "outputs": [
        {
          "name": "stdout",
          "output_type": "stream",
          "text": [
            "Evaluation for Train Data\n",
            "\u001b[92maccuracy_score 0.5587\u001b[0m\n",
            "\u001b[92mprecision_score 0.5587\u001b[0m\n",
            "\u001b[92mrecall_score 1.0000\u001b[0m\n",
            "\u001b[92mf1_score 0.7169\u001b[0m\n",
            "[[    0 10091]\n",
            " [    0 12777]]\n",
            "Evaluation for Test Data\n",
            "\u001b[92maccuracy_score 0.4298\u001b[0m\n",
            "\u001b[92mprecision_score 0.4298\u001b[0m\n",
            "\u001b[92mrecall_score 1.0000\u001b[0m\n",
            "\u001b[92mf1_score 0.6012\u001b[0m\n",
            "[[   0 4347]\n",
            " [   0 3276]]\n"
          ]
        }
      ],
      "source": [
        "from sklearn.linear_model import SGDClassifier\n",
        "text_clf_svm = Pipeline([('vect', CountVectorizer()),\n",
        "                          ('tfidf', TfidfTransformer()),\n",
        "                          ('clf-svm', SGDClassifier(loss='hinge', penalty='l2',\n",
        "                                               alpha=0.001,random_state=42)),\n",
        "                        ])\n",
        "\n",
        "model_evaluation(text_clf_svm, X_train, y_train, X_test, y_test)"
      ]
    }
  ],
  "metadata": {
    "colab": {
      "collapsed_sections": [],
      "name": "text_model.ipynb",
      "provenance": []
    },
    "interpreter": {
      "hash": "5fff4187167d39f490158a3105a8bcfc6b45dc563f2a068c566e07d07c54b822"
    },
    "kernelspec": {
      "display_name": "Python 3.9.9 ('env': venv)",
      "language": "python",
      "name": "python3"
    },
    "language_info": {
      "codemirror_mode": {
        "name": "ipython",
        "version": 3
      },
      "file_extension": ".py",
      "mimetype": "text/x-python",
      "name": "python",
      "nbconvert_exporter": "python",
      "pygments_lexer": "ipython3",
      "version": "3.9.9"
    },
    "orig_nbformat": 4
  },
  "nbformat": 4,
  "nbformat_minor": 0
}
