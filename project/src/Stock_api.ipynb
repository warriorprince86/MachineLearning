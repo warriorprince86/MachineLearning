{
 "cells": [
  {
   "cell_type": "code",
   "execution_count": null,
   "id": "cc5bc88f-250e-46f7-9d62-e33ea4d61be8",
   "metadata": {},
   "outputs": [],
   "source": [
    "#pip install yfinance\n",
    "#pip install pandas-datareader"
   ]
  },
  {
   "cell_type": "code",
   "execution_count": 1,
   "id": "6ad1399d-869c-4e0b-8e17-65f828294c2b",
   "metadata": {},
   "outputs": [],
   "source": [
    "import numpy as np\n",
    "import pandas as pd\n",
    "import matplotlib.pyplot as plt\n",
    "%matplotlib inline\n",
    "\n",
    "from datetime import datetime\n",
    "from datetime import timedelta\n",
    "import datetime\n",
    "\n",
    "import yfinance as yf\n",
    "from pandas_datareader import data as pdr"
   ]
  },
  {
   "cell_type": "code",
   "execution_count": 3,
   "id": "a8552776-feeb-413c-8e2c-ddf33d06134d",
   "metadata": {},
   "outputs": [],
   "source": [
    "start = datetime.datetime(2022,3,7)\n",
    "end = datetime.datetime(2022,3,8)"
   ]
  },
  {
   "cell_type": "code",
   "execution_count": 5,
   "id": "53d06f80-c3d0-46a9-b225-b6fa235548c8",
   "metadata": {},
   "outputs": [
    {
     "name": "stdout",
     "output_type": "stream",
     "text": [
      "[*********************100%***********************]  1 of 1 completed\n"
     ]
    }
   ],
   "source": [
    "yf.pdr_override()\n",
    "tsla = yf.download('TSLA',start=start, end=end, interval='1h')"
   ]
  },
  {
   "cell_type": "code",
   "execution_count": 6,
   "id": "28969b26-6fe2-4735-bfa5-082a1c6ac438",
   "metadata": {},
   "outputs": [
    {
     "data": {
      "text/html": [
       "<div>\n",
       "<style scoped>\n",
       "    .dataframe tbody tr th:only-of-type {\n",
       "        vertical-align: middle;\n",
       "    }\n",
       "\n",
       "    .dataframe tbody tr th {\n",
       "        vertical-align: top;\n",
       "    }\n",
       "\n",
       "    .dataframe thead th {\n",
       "        text-align: right;\n",
       "    }\n",
       "</style>\n",
       "<table border=\"1\" class=\"dataframe\">\n",
       "  <thead>\n",
       "    <tr style=\"text-align: right;\">\n",
       "      <th></th>\n",
       "      <th>Open</th>\n",
       "      <th>High</th>\n",
       "      <th>Low</th>\n",
       "      <th>Close</th>\n",
       "      <th>Adj Close</th>\n",
       "      <th>Volume</th>\n",
       "    </tr>\n",
       "  </thead>\n",
       "  <tbody>\n",
       "    <tr>\n",
       "      <th>2022-03-07 12:30:00-05:00</th>\n",
       "      <td>829.520020</td>\n",
       "      <td>838.489929</td>\n",
       "      <td>817.140015</td>\n",
       "      <td>818.380005</td>\n",
       "      <td>818.380005</td>\n",
       "      <td>2396778</td>\n",
       "    </tr>\n",
       "    <tr>\n",
       "      <th>2022-03-07 13:30:00-05:00</th>\n",
       "      <td>818.030090</td>\n",
       "      <td>822.250000</td>\n",
       "      <td>812.130005</td>\n",
       "      <td>817.320007</td>\n",
       "      <td>817.320007</td>\n",
       "      <td>2042545</td>\n",
       "    </tr>\n",
       "    <tr>\n",
       "      <th>2022-03-07 14:30:00-05:00</th>\n",
       "      <td>817.234985</td>\n",
       "      <td>817.979980</td>\n",
       "      <td>805.559998</td>\n",
       "      <td>811.380005</td>\n",
       "      <td>811.380005</td>\n",
       "      <td>2468752</td>\n",
       "    </tr>\n",
       "    <tr>\n",
       "      <th>2022-03-07 15:30:00-05:00</th>\n",
       "      <td>810.710022</td>\n",
       "      <td>812.400024</td>\n",
       "      <td>804.570007</td>\n",
       "      <td>804.580017</td>\n",
       "      <td>804.580017</td>\n",
       "      <td>2080656</td>\n",
       "    </tr>\n",
       "    <tr>\n",
       "      <th>2022-03-11 16:00:00-05:00</th>\n",
       "      <td>795.349976</td>\n",
       "      <td>795.349976</td>\n",
       "      <td>795.349976</td>\n",
       "      <td>795.349976</td>\n",
       "      <td>795.349976</td>\n",
       "      <td>0</td>\n",
       "    </tr>\n",
       "  </tbody>\n",
       "</table>\n",
       "</div>"
      ],
      "text/plain": [
       "                                 Open        High         Low       Close  \\\n",
       "2022-03-07 12:30:00-05:00  829.520020  838.489929  817.140015  818.380005   \n",
       "2022-03-07 13:30:00-05:00  818.030090  822.250000  812.130005  817.320007   \n",
       "2022-03-07 14:30:00-05:00  817.234985  817.979980  805.559998  811.380005   \n",
       "2022-03-07 15:30:00-05:00  810.710022  812.400024  804.570007  804.580017   \n",
       "2022-03-11 16:00:00-05:00  795.349976  795.349976  795.349976  795.349976   \n",
       "\n",
       "                            Adj Close   Volume  \n",
       "2022-03-07 12:30:00-05:00  818.380005  2396778  \n",
       "2022-03-07 13:30:00-05:00  817.320007  2042545  \n",
       "2022-03-07 14:30:00-05:00  811.380005  2468752  \n",
       "2022-03-07 15:30:00-05:00  804.580017  2080656  \n",
       "2022-03-11 16:00:00-05:00  795.349976        0  "
      ]
     },
     "execution_count": 6,
     "metadata": {},
     "output_type": "execute_result"
    }
   ],
   "source": [
    "tsla.tail()"
   ]
  },
  {
   "cell_type": "code",
   "execution_count": 16,
   "id": "99d0155b-c4a8-44af-b33f-609b038d8559",
   "metadata": {},
   "outputs": [],
   "source": [
    "tsla.to_csv(\"tsla.csv\")"
   ]
  },
  {
   "cell_type": "code",
   "execution_count": 17,
   "id": "a55aabde-0484-4aa8-a485-097913db5cbf",
   "metadata": {},
   "outputs": [
    {
     "name": "stdout",
     "output_type": "stream",
     "text": [
      "[*********************100%***********************]  1 of 1 completed\n"
     ]
    }
   ],
   "source": [
    "btc = yf.download('BTC-USD',start=start, end=end)"
   ]
  },
  {
   "cell_type": "code",
   "execution_count": 18,
   "id": "54990b4d-8d4a-441f-8d23-ff3b390eb42b",
   "metadata": {},
   "outputs": [
    {
     "data": {
      "text/html": [
       "<div>\n",
       "<style scoped>\n",
       "    .dataframe tbody tr th:only-of-type {\n",
       "        vertical-align: middle;\n",
       "    }\n",
       "\n",
       "    .dataframe tbody tr th {\n",
       "        vertical-align: top;\n",
       "    }\n",
       "\n",
       "    .dataframe thead th {\n",
       "        text-align: right;\n",
       "    }\n",
       "</style>\n",
       "<table border=\"1\" class=\"dataframe\">\n",
       "  <thead>\n",
       "    <tr style=\"text-align: right;\">\n",
       "      <th></th>\n",
       "      <th>Open</th>\n",
       "      <th>High</th>\n",
       "      <th>Low</th>\n",
       "      <th>Close</th>\n",
       "      <th>Adj Close</th>\n",
       "      <th>Volume</th>\n",
       "    </tr>\n",
       "    <tr>\n",
       "      <th>Date</th>\n",
       "      <th></th>\n",
       "      <th></th>\n",
       "      <th></th>\n",
       "      <th></th>\n",
       "      <th></th>\n",
       "      <th></th>\n",
       "    </tr>\n",
       "  </thead>\n",
       "  <tbody>\n",
       "    <tr>\n",
       "      <th>2022-03-04</th>\n",
       "      <td>42458.140625</td>\n",
       "      <td>42479.613281</td>\n",
       "      <td>38805.847656</td>\n",
       "      <td>39137.605469</td>\n",
       "      <td>39137.605469</td>\n",
       "      <td>28516271427</td>\n",
       "    </tr>\n",
       "    <tr>\n",
       "      <th>2022-03-05</th>\n",
       "      <td>39148.449219</td>\n",
       "      <td>39566.335938</td>\n",
       "      <td>38777.035156</td>\n",
       "      <td>39400.585938</td>\n",
       "      <td>39400.585938</td>\n",
       "      <td>16975917450</td>\n",
       "    </tr>\n",
       "    <tr>\n",
       "      <th>2022-03-06</th>\n",
       "      <td>39404.199219</td>\n",
       "      <td>39640.175781</td>\n",
       "      <td>38211.648438</td>\n",
       "      <td>38419.984375</td>\n",
       "      <td>38419.984375</td>\n",
       "      <td>19745229902</td>\n",
       "    </tr>\n",
       "    <tr>\n",
       "      <th>2022-03-07</th>\n",
       "      <td>38429.304688</td>\n",
       "      <td>39430.226562</td>\n",
       "      <td>37260.203125</td>\n",
       "      <td>38062.039062</td>\n",
       "      <td>38062.039062</td>\n",
       "      <td>28546143503</td>\n",
       "    </tr>\n",
       "    <tr>\n",
       "      <th>2022-03-08</th>\n",
       "      <td>38059.902344</td>\n",
       "      <td>39304.441406</td>\n",
       "      <td>37957.386719</td>\n",
       "      <td>38737.269531</td>\n",
       "      <td>38737.269531</td>\n",
       "      <td>25776583476</td>\n",
       "    </tr>\n",
       "  </tbody>\n",
       "</table>\n",
       "</div>"
      ],
      "text/plain": [
       "                    Open          High           Low         Close  \\\n",
       "Date                                                                 \n",
       "2022-03-04  42458.140625  42479.613281  38805.847656  39137.605469   \n",
       "2022-03-05  39148.449219  39566.335938  38777.035156  39400.585938   \n",
       "2022-03-06  39404.199219  39640.175781  38211.648438  38419.984375   \n",
       "2022-03-07  38429.304688  39430.226562  37260.203125  38062.039062   \n",
       "2022-03-08  38059.902344  39304.441406  37957.386719  38737.269531   \n",
       "\n",
       "               Adj Close       Volume  \n",
       "Date                                   \n",
       "2022-03-04  39137.605469  28516271427  \n",
       "2022-03-05  39400.585938  16975917450  \n",
       "2022-03-06  38419.984375  19745229902  \n",
       "2022-03-07  38062.039062  28546143503  \n",
       "2022-03-08  38737.269531  25776583476  "
      ]
     },
     "execution_count": 18,
     "metadata": {},
     "output_type": "execute_result"
    }
   ],
   "source": [
    "btc.tail()"
   ]
  },
  {
   "cell_type": "code",
   "execution_count": 19,
   "id": "a22e1e19-f320-49c0-95d9-efa8b26f3cd2",
   "metadata": {},
   "outputs": [],
   "source": [
    "btc.to_csv(\"BTC-USD.csv\")"
   ]
  },
  {
   "cell_type": "code",
   "execution_count": 20,
   "id": "5c79f9d8-b414-4a6d-adde-2bc8c3caea5f",
   "metadata": {},
   "outputs": [
    {
     "name": "stdout",
     "output_type": "stream",
     "text": [
      "[*********************100%***********************]  1 of 1 completed\n"
     ]
    }
   ],
   "source": [
    "\n",
    "doge = yf.download('DOGE-USD',start=start, end=end)"
   ]
  },
  {
   "cell_type": "code",
   "execution_count": 21,
   "id": "0220475d-6388-4c10-8bb8-8bc9d0b552cf",
   "metadata": {},
   "outputs": [
    {
     "data": {
      "text/html": [
       "<div>\n",
       "<style scoped>\n",
       "    .dataframe tbody tr th:only-of-type {\n",
       "        vertical-align: middle;\n",
       "    }\n",
       "\n",
       "    .dataframe tbody tr th {\n",
       "        vertical-align: top;\n",
       "    }\n",
       "\n",
       "    .dataframe thead th {\n",
       "        text-align: right;\n",
       "    }\n",
       "</style>\n",
       "<table border=\"1\" class=\"dataframe\">\n",
       "  <thead>\n",
       "    <tr style=\"text-align: right;\">\n",
       "      <th></th>\n",
       "      <th>Open</th>\n",
       "      <th>High</th>\n",
       "      <th>Low</th>\n",
       "      <th>Close</th>\n",
       "      <th>Adj Close</th>\n",
       "      <th>Volume</th>\n",
       "    </tr>\n",
       "    <tr>\n",
       "      <th>Date</th>\n",
       "      <th></th>\n",
       "      <th></th>\n",
       "      <th></th>\n",
       "      <th></th>\n",
       "      <th></th>\n",
       "      <th></th>\n",
       "    </tr>\n",
       "  </thead>\n",
       "  <tbody>\n",
       "    <tr>\n",
       "      <th>2022-03-04</th>\n",
       "      <td>0.129631</td>\n",
       "      <td>0.129856</td>\n",
       "      <td>0.121544</td>\n",
       "      <td>0.122591</td>\n",
       "      <td>0.122591</td>\n",
       "      <td>650665594</td>\n",
       "    </tr>\n",
       "    <tr>\n",
       "      <th>2022-03-05</th>\n",
       "      <td>0.122614</td>\n",
       "      <td>0.125375</td>\n",
       "      <td>0.121572</td>\n",
       "      <td>0.124996</td>\n",
       "      <td>0.124996</td>\n",
       "      <td>334091552</td>\n",
       "    </tr>\n",
       "    <tr>\n",
       "      <th>2022-03-06</th>\n",
       "      <td>0.125025</td>\n",
       "      <td>0.125611</td>\n",
       "      <td>0.120384</td>\n",
       "      <td>0.120766</td>\n",
       "      <td>0.120766</td>\n",
       "      <td>400458464</td>\n",
       "    </tr>\n",
       "    <tr>\n",
       "      <th>2022-03-07</th>\n",
       "      <td>0.120769</td>\n",
       "      <td>0.122563</td>\n",
       "      <td>0.115015</td>\n",
       "      <td>0.117105</td>\n",
       "      <td>0.117105</td>\n",
       "      <td>513014829</td>\n",
       "    </tr>\n",
       "    <tr>\n",
       "      <th>2022-03-08</th>\n",
       "      <td>0.117106</td>\n",
       "      <td>0.119724</td>\n",
       "      <td>0.115838</td>\n",
       "      <td>0.117029</td>\n",
       "      <td>0.117029</td>\n",
       "      <td>491414294</td>\n",
       "    </tr>\n",
       "  </tbody>\n",
       "</table>\n",
       "</div>"
      ],
      "text/plain": [
       "                Open      High       Low     Close  Adj Close     Volume\n",
       "Date                                                                    \n",
       "2022-03-04  0.129631  0.129856  0.121544  0.122591   0.122591  650665594\n",
       "2022-03-05  0.122614  0.125375  0.121572  0.124996   0.124996  334091552\n",
       "2022-03-06  0.125025  0.125611  0.120384  0.120766   0.120766  400458464\n",
       "2022-03-07  0.120769  0.122563  0.115015  0.117105   0.117105  513014829\n",
       "2022-03-08  0.117106  0.119724  0.115838  0.117029   0.117029  491414294"
      ]
     },
     "execution_count": 21,
     "metadata": {},
     "output_type": "execute_result"
    }
   ],
   "source": [
    "doge.tail()"
   ]
  },
  {
   "cell_type": "code",
   "execution_count": 22,
   "id": "4bf9b03a-846d-48fd-82ab-aef195516f95",
   "metadata": {},
   "outputs": [],
   "source": [
    "doge.to_csv(\"DOGE-USD.csv\")"
   ]
  },
  {
   "cell_type": "code",
   "execution_count": 23,
   "id": "2a5f9b1a-15fb-4d64-9247-06032d44e41f",
   "metadata": {},
   "outputs": [
    {
     "name": "stdout",
     "output_type": "stream",
     "text": [
      "[*********************100%***********************]  1 of 1 completed\n"
     ]
    }
   ],
   "source": [
    "amzn = yf.download('AMZN',start=start, end=end)"
   ]
  },
  {
   "cell_type": "code",
   "execution_count": 24,
   "id": "da472706-5ff4-454b-92a6-ded3aa804d69",
   "metadata": {},
   "outputs": [
    {
     "data": {
      "text/html": [
       "<div>\n",
       "<style scoped>\n",
       "    .dataframe tbody tr th:only-of-type {\n",
       "        vertical-align: middle;\n",
       "    }\n",
       "\n",
       "    .dataframe tbody tr th {\n",
       "        vertical-align: top;\n",
       "    }\n",
       "\n",
       "    .dataframe thead th {\n",
       "        text-align: right;\n",
       "    }\n",
       "</style>\n",
       "<table border=\"1\" class=\"dataframe\">\n",
       "  <thead>\n",
       "    <tr style=\"text-align: right;\">\n",
       "      <th></th>\n",
       "      <th>Open</th>\n",
       "      <th>High</th>\n",
       "      <th>Low</th>\n",
       "      <th>Close</th>\n",
       "      <th>Adj Close</th>\n",
       "      <th>Volume</th>\n",
       "    </tr>\n",
       "    <tr>\n",
       "      <th>Date</th>\n",
       "      <th></th>\n",
       "      <th></th>\n",
       "      <th></th>\n",
       "      <th></th>\n",
       "      <th></th>\n",
       "      <th></th>\n",
       "    </tr>\n",
       "  </thead>\n",
       "  <tbody>\n",
       "    <tr>\n",
       "      <th>2022-03-01</th>\n",
       "      <td>3054.649902</td>\n",
       "      <td>3081.979980</td>\n",
       "      <td>2999.540039</td>\n",
       "      <td>3022.840088</td>\n",
       "      <td>3022.840088</td>\n",
       "      <td>2243700</td>\n",
       "    </tr>\n",
       "    <tr>\n",
       "      <th>2022-03-02</th>\n",
       "      <td>3016.979980</td>\n",
       "      <td>3059.989990</td>\n",
       "      <td>2975.000000</td>\n",
       "      <td>3041.050049</td>\n",
       "      <td>3041.050049</td>\n",
       "      <td>2366700</td>\n",
       "    </tr>\n",
       "    <tr>\n",
       "      <th>2022-03-03</th>\n",
       "      <td>3070.629883</td>\n",
       "      <td>3078.580078</td>\n",
       "      <td>2937.120117</td>\n",
       "      <td>2957.969971</td>\n",
       "      <td>2957.969971</td>\n",
       "      <td>3259900</td>\n",
       "    </tr>\n",
       "    <tr>\n",
       "      <th>2022-03-04</th>\n",
       "      <td>2943.179932</td>\n",
       "      <td>2957.000000</td>\n",
       "      <td>2876.139893</td>\n",
       "      <td>2912.820068</td>\n",
       "      <td>2912.820068</td>\n",
       "      <td>3046700</td>\n",
       "    </tr>\n",
       "    <tr>\n",
       "      <th>2022-03-07</th>\n",
       "      <td>2908.870117</td>\n",
       "      <td>2921.889893</td>\n",
       "      <td>2748.330078</td>\n",
       "      <td>2749.060059</td>\n",
       "      <td>2749.060059</td>\n",
       "      <td>4330800</td>\n",
       "    </tr>\n",
       "  </tbody>\n",
       "</table>\n",
       "</div>"
      ],
      "text/plain": [
       "                   Open         High          Low        Close    Adj Close  \\\n",
       "Date                                                                          \n",
       "2022-03-01  3054.649902  3081.979980  2999.540039  3022.840088  3022.840088   \n",
       "2022-03-02  3016.979980  3059.989990  2975.000000  3041.050049  3041.050049   \n",
       "2022-03-03  3070.629883  3078.580078  2937.120117  2957.969971  2957.969971   \n",
       "2022-03-04  2943.179932  2957.000000  2876.139893  2912.820068  2912.820068   \n",
       "2022-03-07  2908.870117  2921.889893  2748.330078  2749.060059  2749.060059   \n",
       "\n",
       "             Volume  \n",
       "Date                 \n",
       "2022-03-01  2243700  \n",
       "2022-03-02  2366700  \n",
       "2022-03-03  3259900  \n",
       "2022-03-04  3046700  \n",
       "2022-03-07  4330800  "
      ]
     },
     "execution_count": 24,
     "metadata": {},
     "output_type": "execute_result"
    }
   ],
   "source": [
    "amzn.tail()"
   ]
  },
  {
   "cell_type": "code",
   "execution_count": 25,
   "id": "3d7adbd1-56b9-4a08-aed7-bf009ed9f5ab",
   "metadata": {},
   "outputs": [],
   "source": [
    "amzn.to_csv(\"amzn.csv\")"
   ]
  },
  {
   "cell_type": "code",
   "execution_count": 26,
   "id": "75843ca5-2d32-4d88-9cac-cec336682fc9",
   "metadata": {},
   "outputs": [
    {
     "name": "stdout",
     "output_type": "stream",
     "text": [
      "[*********************100%***********************]  1 of 1 completed\n"
     ]
    }
   ],
   "source": [
    "fb = yf.download('fb',start=start, end=end)"
   ]
  },
  {
   "cell_type": "code",
   "execution_count": 27,
   "id": "94e63b7c-12ce-48eb-ade1-129a9401ff3d",
   "metadata": {},
   "outputs": [
    {
     "data": {
      "text/html": [
       "<div>\n",
       "<style scoped>\n",
       "    .dataframe tbody tr th:only-of-type {\n",
       "        vertical-align: middle;\n",
       "    }\n",
       "\n",
       "    .dataframe tbody tr th {\n",
       "        vertical-align: top;\n",
       "    }\n",
       "\n",
       "    .dataframe thead th {\n",
       "        text-align: right;\n",
       "    }\n",
       "</style>\n",
       "<table border=\"1\" class=\"dataframe\">\n",
       "  <thead>\n",
       "    <tr style=\"text-align: right;\">\n",
       "      <th></th>\n",
       "      <th>Open</th>\n",
       "      <th>High</th>\n",
       "      <th>Low</th>\n",
       "      <th>Close</th>\n",
       "      <th>Adj Close</th>\n",
       "      <th>Volume</th>\n",
       "    </tr>\n",
       "    <tr>\n",
       "      <th>Date</th>\n",
       "      <th></th>\n",
       "      <th></th>\n",
       "      <th></th>\n",
       "      <th></th>\n",
       "      <th></th>\n",
       "      <th></th>\n",
       "    </tr>\n",
       "  </thead>\n",
       "  <tbody>\n",
       "    <tr>\n",
       "      <th>2022-03-01</th>\n",
       "      <td>209.869995</td>\n",
       "      <td>211.750000</td>\n",
       "      <td>202.220001</td>\n",
       "      <td>203.490005</td>\n",
       "      <td>203.490005</td>\n",
       "      <td>27094900</td>\n",
       "    </tr>\n",
       "    <tr>\n",
       "      <th>2022-03-02</th>\n",
       "      <td>204.779999</td>\n",
       "      <td>209.149994</td>\n",
       "      <td>202.020004</td>\n",
       "      <td>208.110001</td>\n",
       "      <td>208.110001</td>\n",
       "      <td>29452100</td>\n",
       "    </tr>\n",
       "    <tr>\n",
       "      <th>2022-03-03</th>\n",
       "      <td>209.020004</td>\n",
       "      <td>209.080002</td>\n",
       "      <td>201.419998</td>\n",
       "      <td>202.970001</td>\n",
       "      <td>202.970001</td>\n",
       "      <td>27263500</td>\n",
       "    </tr>\n",
       "    <tr>\n",
       "      <th>2022-03-04</th>\n",
       "      <td>202.369995</td>\n",
       "      <td>205.889999</td>\n",
       "      <td>198.789993</td>\n",
       "      <td>200.059998</td>\n",
       "      <td>200.059998</td>\n",
       "      <td>32130900</td>\n",
       "    </tr>\n",
       "    <tr>\n",
       "      <th>2022-03-07</th>\n",
       "      <td>200.789993</td>\n",
       "      <td>200.889999</td>\n",
       "      <td>187.279999</td>\n",
       "      <td>187.470001</td>\n",
       "      <td>187.470001</td>\n",
       "      <td>38506800</td>\n",
       "    </tr>\n",
       "  </tbody>\n",
       "</table>\n",
       "</div>"
      ],
      "text/plain": [
       "                  Open        High         Low       Close   Adj Close  \\\n",
       "Date                                                                     \n",
       "2022-03-01  209.869995  211.750000  202.220001  203.490005  203.490005   \n",
       "2022-03-02  204.779999  209.149994  202.020004  208.110001  208.110001   \n",
       "2022-03-03  209.020004  209.080002  201.419998  202.970001  202.970001   \n",
       "2022-03-04  202.369995  205.889999  198.789993  200.059998  200.059998   \n",
       "2022-03-07  200.789993  200.889999  187.279999  187.470001  187.470001   \n",
       "\n",
       "              Volume  \n",
       "Date                  \n",
       "2022-03-01  27094900  \n",
       "2022-03-02  29452100  \n",
       "2022-03-03  27263500  \n",
       "2022-03-04  32130900  \n",
       "2022-03-07  38506800  "
      ]
     },
     "execution_count": 27,
     "metadata": {},
     "output_type": "execute_result"
    }
   ],
   "source": [
    "fb.tail()"
   ]
  },
  {
   "cell_type": "code",
   "execution_count": 28,
   "id": "b0f06bb0-11f1-44b1-acc5-1baa99d35723",
   "metadata": {},
   "outputs": [],
   "source": [
    "fb.to_csv(\"fb.csv\")"
   ]
  },
  {
   "cell_type": "code",
   "execution_count": null,
   "id": "81ccf4f9-27ac-4154-89d0-8d3d92df85b8",
   "metadata": {},
   "outputs": [],
   "source": []
  }
 ],
 "metadata": {
  "kernelspec": {
   "display_name": "Python 3",
   "language": "python",
   "name": "python3"
  },
  "language_info": {
   "codemirror_mode": {
    "name": "ipython",
    "version": 3
   },
   "file_extension": ".py",
   "mimetype": "text/x-python",
   "name": "python",
   "nbconvert_exporter": "python",
   "pygments_lexer": "ipython3",
   "version": "3.9.9"
  }
 },
 "nbformat": 4,
 "nbformat_minor": 5
}
