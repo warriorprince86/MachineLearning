{
 "cells": [
  {
   "cell_type": "code",
   "execution_count": null,
   "id": "cc5bc88f-250e-46f7-9d62-e33ea4d61be8",
   "metadata": {},
   "outputs": [],
   "source": [
    "#pip install yfinance\n",
    "#pip install pandas-datareader"
   ]
  },
  {
   "cell_type": "code",
   "execution_count": 2,
   "id": "6ad1399d-869c-4e0b-8e17-65f828294c2b",
   "metadata": {},
   "outputs": [],
   "source": [
    "import numpy as np\n",
    "import pandas as pd\n",
    "import matplotlib.pyplot as plt\n",
    "%matplotlib inline\n",
    "\n",
    "from datetime import datetime\n",
    "from datetime import timedelta\n",
    "import datetime\n",
    "\n",
    "import yfinance as yf\n",
    "from pandas_datareader import data as pdr"
   ]
  },
  {
   "cell_type": "code",
   "execution_count": 47,
   "id": "a8552776-feeb-413c-8e2c-ddf33d06134d",
   "metadata": {},
   "outputs": [],
   "source": [
    "start = datetime.datetime(2020,3,14)\n",
    "end = datetime.datetime(2022,3,14)"
   ]
  },
  {
   "cell_type": "code",
   "execution_count": 48,
   "id": "ce3f918a",
   "metadata": {},
   "outputs": [],
   "source": [
    "def get_data(x, start, end, interval):\n",
    "    yf.pdr_override()\n",
    "    df = yf.download('TSLA',start=start, end=end, interval=interval)\n",
    "    filename = x+'_'+interval\n",
    "    filename = 'data/'+filename+'.csv'\n",
    "    df.to_csv(filename)\n",
    "    return None"
   ]
  },
  {
   "cell_type": "code",
   "execution_count": 49,
   "id": "6790d951",
   "metadata": {},
   "outputs": [
    {
     "name": "stdout",
     "output_type": "stream",
     "text": [
      "[*********************100%***********************]  1 of 1 completed\n"
     ]
    }
   ],
   "source": [
    "get_data('TSLA',start,end,'60m')"
   ]
  },
  {
   "cell_type": "code",
   "execution_count": 17,
   "id": "a55aabde-0484-4aa8-a485-097913db5cbf",
   "metadata": {},
   "outputs": [
    {
     "name": "stdout",
     "output_type": "stream",
     "text": [
      "[*********************100%***********************]  1 of 1 completed\n"
     ]
    }
   ],
   "source": [
    "get_data('BTC-USD',start,end,'60m')\n",
    "get_data('DOGE-USD',start,end,'60m')\n",
    "get_data('AMZN-USD',start,end,'60m')\n",
    "get_data('fb',start,end,'60m')"
   ]
  }
 ],
 "metadata": {
  "kernelspec": {
   "display_name": "Python 3",
   "language": "python",
   "name": "python3"
  },
  "language_info": {
   "codemirror_mode": {
    "name": "ipython",
    "version": 3
   },
   "file_extension": ".py",
   "mimetype": "text/x-python",
   "name": "python",
   "nbconvert_exporter": "python",
   "pygments_lexer": "ipython3",
   "version": "3.9.9"
  }
 },
 "nbformat": 4,
 "nbformat_minor": 5
}
