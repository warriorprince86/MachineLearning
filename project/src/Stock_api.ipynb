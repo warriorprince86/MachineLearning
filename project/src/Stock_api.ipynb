{
 "cells": [
  {
   "cell_type": "code",
   "execution_count": null,
   "id": "cc5bc88f-250e-46f7-9d62-e33ea4d61be8",
   "metadata": {},
   "outputs": [],
   "source": [
    "#pip install yfinance\n",
    "#pip install pandas-datareader"
   ]
  },
  {
   "cell_type": "code",
   "execution_count": 1,
   "id": "6ad1399d-869c-4e0b-8e17-65f828294c2b",
   "metadata": {},
   "outputs": [],
   "source": [
    "import numpy as np\n",
    "import pandas as pd\n",
    "import matplotlib.pyplot as plt\n",
    "%matplotlib inline\n",
    "\n",
    "from datetime import datetime\n",
    "from datetime import timedelta\n",
    "import datetime\n",
    "\n",
    "import yfinance as yf\n",
    "from pandas_datareader import data as pdr"
   ]
  },
  {
   "cell_type": "code",
   "execution_count": 35,
   "id": "a8552776-feeb-413c-8e2c-ddf33d06134d",
   "metadata": {},
   "outputs": [],
   "source": [
    "end = datetime.datetime.now()\n",
    "start = start-timedelta(days=60)"
   ]
  },
  {
   "cell_type": "code",
   "execution_count": 37,
   "id": "ce3f918a",
   "metadata": {},
   "outputs": [],
   "source": [
    "def get_data(x, start, end, interval,mode='a'):\n",
    "    yf.pdr_override()\n",
    "    df = yf.download(x,start=start, end=end, interval=interval,progress=False)\n",
    "\n",
    "    if type(x)==str:\n",
    "        filename = x+'_'+interval\n",
    "    elif type(x)==list:\n",
    "        filename=''\n",
    "        for item in x:\n",
    "            filename += ' '+item\n",
    "        filename = filename+'_'+interval\n",
    "    \n",
    "    filename = 'data/'+filename+'.csv'\n",
    "\n",
    "    if mode=='a':\n",
    "        df.to_csv(filename, mode='a',header=False)\n",
    "    else:\n",
    "        df.to_csv(filename)\n",
    "    return None"
   ]
  },
  {
   "cell_type": "code",
   "execution_count": 36,
   "id": "6e12ce18",
   "metadata": {},
   "outputs": [],
   "source": [
    "stocks = ['^GSPC','CL=F','^IXIC','^GSPTSE']\n",
    "get_data(stocks,start,end,'5m',mode='a')"
   ]
  },
  {
   "cell_type": "code",
   "execution_count": 10,
   "id": "185c2fa3",
   "metadata": {},
   "outputs": [
    {
     "name": "stdout",
     "output_type": "stream",
     "text": [
      "[*********************100%***********************]  1 of 1 completed\n",
      "\n",
      "1 Failed download:\n",
      "- TSLA: 15m data not available for startTime=1642665600 and endTime=1648278000. The requested range must be within the last 60 days.\n",
      "[*********************100%***********************]  1 of 1 completed\n",
      "\n",
      "1 Failed download:\n",
      "- TSLA: 15m data not available for startTime=1642665600 and endTime=1648278000. The requested range must be within the last 60 days.\n",
      "[*********************100%***********************]  1 of 1 completed\n",
      "\n",
      "1 Failed download:\n",
      "- TSLA: 15m data not available for startTime=1642665600 and endTime=1648278000. The requested range must be within the last 60 days.\n",
      "[*********************100%***********************]  1 of 1 completed\n",
      "\n",
      "1 Failed download:\n",
      "- TSLA: 15m data not available for startTime=1642665600 and endTime=1648278000. The requested range must be within the last 60 days.\n"
     ]
    }
   ],
   "source": [
    "\n",
    "for item in stocks:\n",
    "    get_data(item,start,end,'5m')\n"
   ]
  },
  {
   "cell_type": "code",
   "execution_count": 13,
   "id": "6790d951",
   "metadata": {},
   "outputs": [
    {
     "name": "stdout",
     "output_type": "stream",
     "text": [
      "[*********************100%***********************]  1 of 1 completed\n"
     ]
    }
   ],
   "source": [
    "get_data('TSLA',start,end,'5m')"
   ]
  },
  {
   "cell_type": "code",
   "execution_count": 17,
   "id": "a55aabde-0484-4aa8-a485-097913db5cbf",
   "metadata": {},
   "outputs": [
    {
     "name": "stdout",
     "output_type": "stream",
     "text": [
      "[*********************100%***********************]  1 of 1 completed\n"
     ]
    }
   ],
   "source": [
    "get_data('BTC-USD',start,end,'60m')\n",
    "get_data('DOGE-USD',start,end,'60m')\n",
    "get_data('AMZN-USD',start,end,'60m')\n",
    "get_data('fb',start,end,'60m')"
   ]
  }
 ],
 "metadata": {
  "kernelspec": {
   "display_name": "Python 3",
   "language": "python",
   "name": "python3"
  },
  "language_info": {
   "codemirror_mode": {
    "name": "ipython",
    "version": 3
   },
   "file_extension": ".py",
   "mimetype": "text/x-python",
   "name": "python",
   "nbconvert_exporter": "python",
   "pygments_lexer": "ipython3",
   "version": "3.9.9"
  }
 },
 "nbformat": 4,
 "nbformat_minor": 5
}
