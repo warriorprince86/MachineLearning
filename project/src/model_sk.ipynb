{
 "cells": [
  {
   "cell_type": "code",
   "execution_count": 11,
   "metadata": {},
   "outputs": [],
   "source": [
    "import pandas as pd\n",
    "import numpy as np"
   ]
  },
  {
   "cell_type": "code",
   "execution_count": 49,
   "metadata": {},
   "outputs": [
    {
     "data": {
      "text/html": [
       "<div>\n",
       "<style scoped>\n",
       "    .dataframe tbody tr th:only-of-type {\n",
       "        vertical-align: middle;\n",
       "    }\n",
       "\n",
       "    .dataframe tbody tr th {\n",
       "        vertical-align: top;\n",
       "    }\n",
       "\n",
       "    .dataframe thead th {\n",
       "        text-align: right;\n",
       "    }\n",
       "</style>\n",
       "<table border=\"1\" class=\"dataframe\">\n",
       "  <thead>\n",
       "    <tr style=\"text-align: right;\">\n",
       "      <th></th>\n",
       "      <th>combined</th>\n",
       "      <th>negative</th>\n",
       "      <th>neutral</th>\n",
       "      <th>positive</th>\n",
       "      <th>inc/dec</th>\n",
       "    </tr>\n",
       "  </thead>\n",
       "  <tbody>\n",
       "    <tr>\n",
       "      <th>0</th>\n",
       "      <td>0.000000</td>\n",
       "      <td>0.0000</td>\n",
       "      <td>1.00000</td>\n",
       "      <td>0.00000</td>\n",
       "      <td>2.0</td>\n",
       "    </tr>\n",
       "    <tr>\n",
       "      <th>1</th>\n",
       "      <td>-0.031450</td>\n",
       "      <td>0.1215</td>\n",
       "      <td>0.84150</td>\n",
       "      <td>0.03700</td>\n",
       "      <td>0.0</td>\n",
       "    </tr>\n",
       "    <tr>\n",
       "      <th>2</th>\n",
       "      <td>0.231475</td>\n",
       "      <td>0.0000</td>\n",
       "      <td>0.90125</td>\n",
       "      <td>0.09875</td>\n",
       "      <td>0.0</td>\n",
       "    </tr>\n",
       "    <tr>\n",
       "      <th>3</th>\n",
       "      <td>0.000000</td>\n",
       "      <td>0.0000</td>\n",
       "      <td>1.00000</td>\n",
       "      <td>0.00000</td>\n",
       "      <td>0.0</td>\n",
       "    </tr>\n",
       "    <tr>\n",
       "      <th>4</th>\n",
       "      <td>0.201050</td>\n",
       "      <td>0.0000</td>\n",
       "      <td>0.67225</td>\n",
       "      <td>0.32775</td>\n",
       "      <td>2.0</td>\n",
       "    </tr>\n",
       "  </tbody>\n",
       "</table>\n",
       "</div>"
      ],
      "text/plain": [
       "   combined  negative  neutral  positive  inc/dec\n",
       "0  0.000000    0.0000  1.00000   0.00000      2.0\n",
       "1 -0.031450    0.1215  0.84150   0.03700      0.0\n",
       "2  0.231475    0.0000  0.90125   0.09875      0.0\n",
       "3  0.000000    0.0000  1.00000   0.00000      0.0\n",
       "4  0.201050    0.0000  0.67225   0.32775      2.0"
      ]
     },
     "execution_count": 49,
     "metadata": {},
     "output_type": "execute_result"
    }
   ],
   "source": [
    "df= pd.read_csv('data/finaldata.csv', sep=',')\n",
    "# df= df.iloc[:,1:]\n",
    "df= df[df['inc/dec']!=1].reset_index(drop=True)\n",
    "df.head()"
   ]
  },
  {
   "cell_type": "code",
   "execution_count": 50,
   "metadata": {},
   "outputs": [
    {
     "data": {
      "text/html": [
       "<div>\n",
       "<style scoped>\n",
       "    .dataframe tbody tr th:only-of-type {\n",
       "        vertical-align: middle;\n",
       "    }\n",
       "\n",
       "    .dataframe tbody tr th {\n",
       "        vertical-align: top;\n",
       "    }\n",
       "\n",
       "    .dataframe thead tr th {\n",
       "        text-align: left;\n",
       "    }\n",
       "</style>\n",
       "<table border=\"1\" class=\"dataframe\">\n",
       "  <thead>\n",
       "    <tr>\n",
       "      <th></th>\n",
       "      <th>inc/dec</th>\n",
       "      <th colspan=\"3\" halign=\"left\">combined</th>\n",
       "      <th colspan=\"3\" halign=\"left\">negative</th>\n",
       "      <th colspan=\"3\" halign=\"left\">neutral</th>\n",
       "      <th colspan=\"3\" halign=\"left\">positive</th>\n",
       "    </tr>\n",
       "    <tr>\n",
       "      <th></th>\n",
       "      <th></th>\n",
       "      <th>count</th>\n",
       "      <th>mean</th>\n",
       "      <th>var</th>\n",
       "      <th>count</th>\n",
       "      <th>mean</th>\n",
       "      <th>var</th>\n",
       "      <th>count</th>\n",
       "      <th>mean</th>\n",
       "      <th>var</th>\n",
       "      <th>count</th>\n",
       "      <th>mean</th>\n",
       "      <th>var</th>\n",
       "    </tr>\n",
       "  </thead>\n",
       "  <tbody>\n",
       "    <tr>\n",
       "      <th>0</th>\n",
       "      <td>0.0</td>\n",
       "      <td>760</td>\n",
       "      <td>0.190293</td>\n",
       "      <td>0.046315</td>\n",
       "      <td>760</td>\n",
       "      <td>0.046810</td>\n",
       "      <td>0.004541</td>\n",
       "      <td>760</td>\n",
       "      <td>0.734678</td>\n",
       "      <td>0.033531</td>\n",
       "      <td>760</td>\n",
       "      <td>0.216420</td>\n",
       "      <td>0.031861</td>\n",
       "    </tr>\n",
       "    <tr>\n",
       "      <th>1</th>\n",
       "      <td>2.0</td>\n",
       "      <td>937</td>\n",
       "      <td>0.197689</td>\n",
       "      <td>0.045718</td>\n",
       "      <td>937</td>\n",
       "      <td>0.049791</td>\n",
       "      <td>0.004605</td>\n",
       "      <td>937</td>\n",
       "      <td>0.726103</td>\n",
       "      <td>0.031187</td>\n",
       "      <td>937</td>\n",
       "      <td>0.220856</td>\n",
       "      <td>0.029621</td>\n",
       "    </tr>\n",
       "  </tbody>\n",
       "</table>\n",
       "</div>"
      ],
      "text/plain": [
       "  inc/dec combined                     negative                     neutral  \\\n",
       "             count      mean       var    count      mean       var   count   \n",
       "0     0.0      760  0.190293  0.046315      760  0.046810  0.004541     760   \n",
       "1     2.0      937  0.197689  0.045718      937  0.049791  0.004605     937   \n",
       "\n",
       "                      positive                      \n",
       "       mean       var    count      mean       var  \n",
       "0  0.734678  0.033531      760  0.216420  0.031861  \n",
       "1  0.726103  0.031187      937  0.220856  0.029621  "
      ]
     },
     "execution_count": 50,
     "metadata": {},
     "output_type": "execute_result"
    }
   ],
   "source": [
    "df.groupby(['inc/dec'], as_index=False).agg(\n",
    "    {\n",
    "        'combined':['count','mean','var'],\n",
    "        'negative':['count','mean','var'],\n",
    "        'neutral':['count','mean','var'],\n",
    "        'positive':['count','mean','var'],\n",
    "    }\n",
    ")"
   ]
  },
  {
   "cell_type": "code",
   "execution_count": 58,
   "metadata": {},
   "outputs": [],
   "source": [
    "TARGET = \"inc/dec\"\n",
    "columns_predictors = ['negative','positive']\n",
    "# columns_predictors = ['combined']\n",
    "\n",
    "X = df[columns_predictors]\n",
    "y = df[TARGET]"
   ]
  },
  {
   "cell_type": "code",
   "execution_count": 59,
   "metadata": {},
   "outputs": [
    {
     "data": {
      "text/plain": [
       "<AxesSubplot:xlabel='inc/dec', ylabel='Count'>"
      ]
     },
     "execution_count": 59,
     "metadata": {},
     "output_type": "execute_result"
    },
    {
     "data": {
      "image/png": "[encoded data removed]",
      "text/plain": [
       "<Figure size 432x288 with 1 Axes>"
      ]
     },
     "metadata": {
      "needs_background": "light"
     },
     "output_type": "display_data"
    }
   ],
   "source": [
    "# check for balance data\n",
    "# labels are balanced i.e equal split of inc and dec.\n",
    "import seaborn as sns\n",
    "sns.histplot(data=y, bins=2)"
   ]
  },
  {
   "cell_type": "code",
   "execution_count": 64,
   "metadata": {},
   "outputs": [
    {
     "data": {
      "text/plain": [
       "array([[<AxesSubplot:title={'center':'negative'}>,\n",
       "        <AxesSubplot:title={'center':'positive'}>]], dtype=object)"
      ]
     },
     "execution_count": 64,
     "metadata": {},
     "output_type": "execute_result"
    },
    {
     "data": {
      "image/png": "[encoded data removed]",
      "text/plain": [
       "<Figure size 720x216 with 2 Axes>"
      ]
     },
     "metadata": {
      "needs_background": "light"
     },
     "output_type": "display_data"
    }
   ],
   "source": [
    "import matplotlib.pyplot as plt\n",
    "X.hist(figsize=(10,3))"
   ]
  },
  {
   "cell_type": "code",
   "execution_count": 65,
   "metadata": {},
   "outputs": [
    {
     "name": "stdout",
     "output_type": "stream",
     "text": [
      "X_train.shape: (1272, 2)\n",
      "X_test.shape: (425, 2)\n",
      "y_train.shape: (1272,)\n",
      "y_test.shape: (425,)\n"
     ]
    }
   ],
   "source": [
    "from sklearn.model_selection import train_test_split\n",
    "X_train, X_test, y_train, y_test = train_test_split(X, y, test_size=0.25, random_state=10086)\n",
    "print(f\"X_train.shape: {X_train.shape}\")\n",
    "print(f\"X_test.shape: {X_test.shape}\")\n",
    "print(f\"y_train.shape: {y_train.shape}\")\n",
    "print(f\"y_test.shape: {y_test.shape}\")"
   ]
  },
  {
   "cell_type": "code",
   "execution_count": 66,
   "metadata": {},
   "outputs": [],
   "source": [
    "from sklearn.metrics import accuracy_score,classification_report,confusion_matrix\n",
    "\n",
    "def classification_metric(y_test,y_pred):\n",
    "    # Calculate accuracy\n",
    "    accuracy = accuracy_score(y_test, y_pred) \n",
    "    print(\"%.2f\" % accuracy)\n",
    "    # Confusion Matrix\n",
    "    c_matrix= confusion_matrix(y_test,y_pred)\n",
    "    print(c_matrix)\n",
    "    return None\n",
    "\n",
    "def model_evaluation(model,X_train,y_train,X_test,y_test):\n",
    "    model = model.fit(X_train,y_train)\n",
    "    # training accuracy\n",
    "    classification_metric(y_train,model.predict(X_train))\n",
    "\n",
    "    #testing accuracy\n",
    "    classification_metric(y_test,model.predict(X_test))\n",
    "    return None"
   ]
  },
  {
   "cell_type": "markdown",
   "metadata": {},
   "source": [
    "# SVM Model (Linear Model)"
   ]
  },
  {
   "cell_type": "code",
   "execution_count": 67,
   "metadata": {},
   "outputs": [
    {
     "name": "stdout",
     "output_type": "stream",
     "text": [
      "0.55\n",
      "[[  0 570]\n",
      " [  0 702]]\n",
      "0.55\n",
      "[[  0 190]\n",
      " [  0 235]]\n"
     ]
    }
   ],
   "source": [
    "## Linear Features\n",
    "from sklearn.svm import SVC\n",
    "from sklearn.pipeline import Pipeline\n",
    "from sklearn.preprocessing import PolynomialFeatures\n",
    "from sklearn.svm import LinearSVC\n",
    "\n",
    "svm_clf = SVC(kernel=\"linear\", C=100)\n",
    "model_evaluation(svm_clf, X_train,y_train, X_test, y_test)"
   ]
  },
  {
   "cell_type": "code",
   "execution_count": 68,
   "metadata": {},
   "outputs": [
    {
     "name": "stdout",
     "output_type": "stream",
     "text": [
      "0.55\n",
      "[[  0 570]\n",
      " [  0 702]]\n",
      "0.55\n",
      "[[  0 190]\n",
      " [  0 235]]\n"
     ]
    }
   ],
   "source": [
    "## Polynomial Features Degree 2\n",
    "polynomial_svm_clf = Pipeline([\n",
    "        (\"poly_features\", PolynomialFeatures(degree=2)),\n",
    "        (\"svm_clf\", LinearSVC(C=1, loss=\"hinge\", random_state=42))\n",
    "    ])\n",
    "model_evaluation(polynomial_svm_clf, X_train,y_train, X_test, y_test)"
   ]
  },
  {
   "cell_type": "code",
   "execution_count": 69,
   "metadata": {},
   "outputs": [
    {
     "name": "stdout",
     "output_type": "stream",
     "text": [
      "0.55\n",
      "[[  0 570]\n",
      " [  0 702]]\n",
      "0.55\n",
      "[[  0 190]\n",
      " [  0 235]]\n"
     ]
    },
    {
     "name": "stderr",
     "output_type": "stream",
     "text": [
      "/Users/sarthakkaushik/Projects/uot/MachineLearning/env/lib/python3.9/site-packages/sklearn/svm/_base.py:1206: ConvergenceWarning: Liblinear failed to converge, increase the number of iterations.\n",
      "  warnings.warn(\n"
     ]
    }
   ],
   "source": [
    "polynomial_svm_clf = Pipeline([\n",
    "        (\"poly_features\", PolynomialFeatures(degree=3)),\n",
    "        (\"svm_clf\", LinearSVC(C=1, loss=\"hinge\", random_state=42))\n",
    "    ])\n",
    "model_evaluation(polynomial_svm_clf, X_train,y_train, X_test, y_test)"
   ]
  },
  {
   "cell_type": "markdown",
   "metadata": {},
   "source": [
    "# SVM Model (Non_linear Model)"
   ]
  },
  {
   "cell_type": "code",
   "execution_count": 72,
   "metadata": {},
   "outputs": [
    {
     "name": "stdout",
     "output_type": "stream",
     "text": [
      "0.56\n",
      "[[ 12 558]\n",
      " [  8 694]]\n",
      "0.55\n",
      "[[  2 188]\n",
      " [  2 233]]\n"
     ]
    }
   ],
   "source": [
    "poly_kernel_svm_clf = Pipeline([\n",
    "        (\"svm_clf\", SVC(kernel=\"poly\", degree=3, coef0=1, C=100))\n",
    "    ])\n",
    "model_evaluation(poly_kernel_svm_clf, X_train,y_train, X_test, y_test)\n"
   ]
  },
  {
   "cell_type": "code",
   "execution_count": null,
   "metadata": {},
   "outputs": [],
   "source": []
  },
  {
   "cell_type": "markdown",
   "metadata": {},
   "source": []
  }
 ],
 "metadata": {
  "interpreter": {
   "hash": "5fff4187167d39f490158a3105a8bcfc6b45dc563f2a068c566e07d07c54b822"
  },
  "kernelspec": {
   "display_name": "Python 3.9.9 ('env': venv)",
   "language": "python",
   "name": "python3"
  },
  "language_info": {
   "codemirror_mode": {
    "name": "ipython",
    "version": 3
   },
   "file_extension": ".py",
   "mimetype": "text/x-python",
   "name": "python",
   "nbconvert_exporter": "python",
   "pygments_lexer": "ipython3",
   "version": "3.9.9"
  },
  "orig_nbformat": 4
 },
 "nbformat": 4,
 "nbformat_minor": 2
}
